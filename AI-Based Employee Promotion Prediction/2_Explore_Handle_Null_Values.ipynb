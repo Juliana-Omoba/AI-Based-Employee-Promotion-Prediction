{
  "nbformat": 4,
  "nbformat_minor": 0,
  "metadata": {
    "colab": {
      "provenance": [],
      "collapsed_sections": [
        "YeTTxck4AYWC",
        "wuyPeZpAAa9C"
      ]
    },
    "kernelspec": {
      "name": "python3",
      "display_name": "Python 3"
    },
    "language_info": {
      "name": "python"
    }
  },
  "cells": [
    {
      "cell_type": "markdown",
      "source": [
        "#Explore and Handle Missing Values"
      ],
      "metadata": {
        "id": "virMpggmWGVd"
      }
    },
    {
      "cell_type": "markdown",
      "source": [
        "##Import Data"
      ],
      "metadata": {
        "id": "YeTTxck4AYWC"
      }
    },
    {
      "cell_type": "code",
      "source": [
        "import pandas as pd"
      ],
      "metadata": {
        "id": "fQ1gxANUixvG"
      },
      "execution_count": null,
      "outputs": []
    },
    {
      "cell_type": "code",
      "source": [
        "# Mount Google Drive (if not already mounted)\n",
        "from google.colab import drive\n",
        "drive.mount('/content/drive')"
      ],
      "metadata": {
        "colab": {
          "base_uri": "https://localhost:8080/"
        },
        "id": "AN6WhZb2Tvvy",
        "outputId": "adaa366d-f86e-4fce-dde2-3377f704f107"
      },
      "execution_count": null,
      "outputs": [
        {
          "output_type": "stream",
          "name": "stdout",
          "text": [
            "Mounted at /content/drive\n"
          ]
        }
      ]
    },
    {
      "cell_type": "code",
      "execution_count": null,
      "metadata": {
        "colab": {
          "base_uri": "https://localhost:8080/",
          "height": 245
        },
        "id": "z_Lsm5cNiYPN",
        "outputId": "b987f7e7-2795-4c6a-9e8d-72eae09330ed"
      },
      "outputs": [
        {
          "output_type": "error",
          "ename": "NameError",
          "evalue": "ignored",
          "traceback": [
            "\u001b[0;31m---------------------------------------------------------------------------\u001b[0m",
            "\u001b[0;31mNameError\u001b[0m                                 Traceback (most recent call last)",
            "\u001b[0;32m<ipython-input-1-6d316ec379b8>\u001b[0m in \u001b[0;36m<cell line: 2>\u001b[0;34m()\u001b[0m\n\u001b[1;32m      1\u001b[0m \u001b[0;31m# Import Dataset\u001b[0m\u001b[0;34m\u001b[0m\u001b[0;34m\u001b[0m\u001b[0m\n\u001b[0;32m----> 2\u001b[0;31m \u001b[0mdf_train\u001b[0m \u001b[0;34m=\u001b[0m \u001b[0mpd\u001b[0m\u001b[0;34m.\u001b[0m\u001b[0mread_csv\u001b[0m\u001b[0;34m(\u001b[0m\u001b[0;34m'/content/drive/MyDrive/613 Capstone/train_LZdllcl.csv'\u001b[0m\u001b[0;34m)\u001b[0m\u001b[0;34m\u001b[0m\u001b[0;34m\u001b[0m\u001b[0m\n\u001b[0m\u001b[1;32m      3\u001b[0m \u001b[0mdf_train\u001b[0m\u001b[0;34m.\u001b[0m\u001b[0mhead\u001b[0m\u001b[0;34m(\u001b[0m\u001b[0;34m)\u001b[0m\u001b[0;34m\u001b[0m\u001b[0;34m\u001b[0m\u001b[0m\n\u001b[1;32m      4\u001b[0m \u001b[0;31m#df_train = pd.read_csv(\"train_LZdllcl.csv\")\u001b[0m\u001b[0;34m\u001b[0m\u001b[0;34m\u001b[0m\u001b[0m\n\u001b[1;32m      5\u001b[0m \u001b[0;31m#df_train\u001b[0m\u001b[0;34m\u001b[0m\u001b[0;34m\u001b[0m\u001b[0m\n",
            "\u001b[0;31mNameError\u001b[0m: name 'pd' is not defined"
          ]
        }
      ],
      "source": [
        "# Import Dataset\n",
        "df_train = pd.read_csv('/content/drive/MyDrive/613 Capstone/train_LZdllcl.csv')\n",
        "df_train.head()\n",
        "#df_train = pd.read_csv(\"train_LZdllcl.csv\")\n",
        "#df_train"
      ]
    },
    {
      "cell_type": "markdown",
      "source": [
        "##Find Attributes with Null Values"
      ],
      "metadata": {
        "id": "wuyPeZpAAa9C"
      }
    },
    {
      "cell_type": "code",
      "source": [
        "df_train.columns[df_train.isna().any()]"
      ],
      "metadata": {
        "colab": {
          "base_uri": "https://localhost:8080/"
        },
        "id": "l_Gujmcbk7KU",
        "outputId": "c12d9565-8b04-4d34-f868-d7b551f237eb"
      },
      "execution_count": null,
      "outputs": [
        {
          "output_type": "execute_result",
          "data": {
            "text/plain": [
              "Index(['education', 'previous_year_rating'], dtype='object')"
            ]
          },
          "metadata": {},
          "execution_count": 4
        }
      ]
    },
    {
      "cell_type": "code",
      "source": [
        "df_train.education.isna().sum()"
      ],
      "metadata": {
        "colab": {
          "base_uri": "https://localhost:8080/"
        },
        "id": "8986Ia4HlGYQ",
        "outputId": "466ebed1-f2ab-4304-e149-50c2dd395654"
      },
      "execution_count": null,
      "outputs": [
        {
          "output_type": "execute_result",
          "data": {
            "text/plain": [
              "2409"
            ]
          },
          "metadata": {},
          "execution_count": 5
        }
      ]
    },
    {
      "cell_type": "code",
      "source": [
        "df_train.previous_year_rating.isna().sum()"
      ],
      "metadata": {
        "colab": {
          "base_uri": "https://localhost:8080/"
        },
        "id": "m6dytUfslbZ9",
        "outputId": "172ab40a-8844-4a6d-c852-130d89609e47"
      },
      "execution_count": null,
      "outputs": [
        {
          "output_type": "execute_result",
          "data": {
            "text/plain": [
              "4124"
            ]
          },
          "metadata": {},
          "execution_count": 6
        }
      ]
    },
    {
      "cell_type": "markdown",
      "source": [
        "##Explore Education Null Values, list the unique options in column to see if null values possibly correspond to no education, check if null values correspond to a specific department or region"
      ],
      "metadata": {
        "id": "mLgsTVfBAi8p"
      }
    },
    {
      "cell_type": "code",
      "source": [
        "df_train.education.unique()"
      ],
      "metadata": {
        "colab": {
          "base_uri": "https://localhost:8080/"
        },
        "id": "MWN_X_5ADLY0",
        "outputId": "8e8dc920-09a7-4fd2-a0a1-87a396037b32"
      },
      "execution_count": null,
      "outputs": [
        {
          "output_type": "execute_result",
          "data": {
            "text/plain": [
              "array([\"Master's & above\", \"Bachelor's\", nan, 'Below Secondary'],\n",
              "      dtype=object)"
            ]
          },
          "metadata": {},
          "execution_count": 7
        }
      ]
    },
    {
      "cell_type": "markdown",
      "source": [
        "\"Below Secondary\" is a value in education attribute, so null values do not correspond to no education."
      ],
      "metadata": {
        "id": "8E7bCfc1Dr-p"
      }
    },
    {
      "cell_type": "code",
      "source": [
        "df_enc = df_train.education.isnull().groupby(df_train['department']).sum().astype(int).reset_index(name='count')\n",
        "print(df_enc)"
      ],
      "metadata": {
        "colab": {
          "base_uri": "https://localhost:8080/"
        },
        "id": "EkFS8OSrBhU0",
        "outputId": "7fbe342b-7573-4863-fc19-8610cbb4586b"
      },
      "execution_count": null,
      "outputs": [
        {
          "output_type": "stream",
          "name": "stdout",
          "text": [
            "          department  count\n",
            "0          Analytics    337\n",
            "1            Finance     36\n",
            "2                 HR     32\n",
            "3              Legal      4\n",
            "4         Operations    226\n",
            "5        Procurement     72\n",
            "6                R&D     28\n",
            "7  Sales & Marketing   1575\n",
            "8         Technology     99\n"
          ]
        }
      ]
    },
    {
      "cell_type": "code",
      "source": [
        "df_enc = df_train.education.isnull().groupby(df_train['region']).sum().astype(int).reset_index(name='count')\n",
        "print(df_enc)"
      ],
      "metadata": {
        "colab": {
          "base_uri": "https://localhost:8080/"
        },
        "id": "aJZvQiQDCtda",
        "outputId": "083b963d-11b5-47a7-fad0-180d931e41de"
      },
      "execution_count": null,
      "outputs": [
        {
          "output_type": "stream",
          "name": "stdout",
          "text": [
            "       region  count\n",
            "0    region_1     14\n",
            "1   region_10      4\n",
            "2   region_11     24\n",
            "3   region_12      2\n",
            "4   region_13     56\n",
            "5   region_14     23\n",
            "6   region_15    191\n",
            "7   region_16     55\n",
            "8   region_17      9\n",
            "9   region_18      0\n",
            "10  region_19     10\n",
            "11   region_2    846\n",
            "12  region_20      1\n",
            "13  region_21      8\n",
            "14  region_22    320\n",
            "15  region_23     28\n",
            "16  region_24      1\n",
            "17  region_25     34\n",
            "18  region_26    100\n",
            "19  region_27     84\n",
            "20  region_28     84\n",
            "21  region_29     19\n",
            "22   region_3      2\n",
            "23  region_30     13\n",
            "24  region_31     94\n",
            "25  region_32     84\n",
            "26  region_33      0\n",
            "27  region_34      0\n",
            "28   region_4      2\n",
            "29   region_5      7\n",
            "30   region_6     14\n",
            "31   region_7    219\n",
            "32   region_8     13\n",
            "33   region_9     48\n"
          ]
        }
      ]
    },
    {
      "cell_type": "markdown",
      "source": [
        "Null values are not local to a specific department or region. Null values in education column are random, will be best to either drop or replace this with something like the mean or mode."
      ],
      "metadata": {
        "id": "cmF-wbEHD5Rw"
      }
    },
    {
      "cell_type": "markdown",
      "source": [
        "##Explore Previous Year Rating Null Values, list the unique options in column to see what the rating scale is, check if null values correspond to a specific department or region"
      ],
      "metadata": {
        "id": "Rq4oe0jVFDp8"
      }
    },
    {
      "cell_type": "code",
      "source": [
        "df_train.previous_year_rating.unique()"
      ],
      "metadata": {
        "colab": {
          "base_uri": "https://localhost:8080/"
        },
        "id": "ycEvYIWSGFgq",
        "outputId": "c3fa0216-c7ba-4774-b6d0-bad86b549292"
      },
      "execution_count": null,
      "outputs": [
        {
          "output_type": "execute_result",
          "data": {
            "text/plain": [
              "array([ 5.,  3.,  1.,  4., nan,  2.])"
            ]
          },
          "metadata": {},
          "execution_count": 10
        }
      ]
    },
    {
      "cell_type": "markdown",
      "source": [
        "The rating scale is a value from 1-5"
      ],
      "metadata": {
        "id": "Xu4kCVDEGZXu"
      }
    },
    {
      "cell_type": "code",
      "source": [
        "df_pyrnc = df_train.previous_year_rating.isnull().groupby(df_train['length_of_service']).sum().astype(int).reset_index(name='count')\n",
        "print(df_pyrnc)"
      ],
      "metadata": {
        "colab": {
          "base_uri": "https://localhost:8080/"
        },
        "id": "mjPwiUoFE8bb",
        "outputId": "1e59bcef-a68d-4568-bf23-9a78d38491bb"
      },
      "execution_count": null,
      "outputs": [
        {
          "output_type": "stream",
          "name": "stdout",
          "text": [
            "    length_of_service  count\n",
            "0                   1   4124\n",
            "1                   2      0\n",
            "2                   3      0\n",
            "3                   4      0\n",
            "4                   5      0\n",
            "5                   6      0\n",
            "6                   7      0\n",
            "7                   8      0\n",
            "8                   9      0\n",
            "9                  10      0\n",
            "10                 11      0\n",
            "11                 12      0\n",
            "12                 13      0\n",
            "13                 14      0\n",
            "14                 15      0\n",
            "15                 16      0\n",
            "16                 17      0\n",
            "17                 18      0\n",
            "18                 19      0\n",
            "19                 20      0\n",
            "20                 21      0\n",
            "21                 22      0\n",
            "22                 23      0\n",
            "23                 24      0\n",
            "24                 25      0\n",
            "25                 26      0\n",
            "26                 27      0\n",
            "27                 28      0\n",
            "28                 29      0\n",
            "29                 30      0\n",
            "30                 31      0\n",
            "31                 32      0\n",
            "32                 33      0\n",
            "33                 34      0\n",
            "34                 37      0\n"
          ]
        }
      ]
    },
    {
      "cell_type": "markdown",
      "source": [
        "All Null values in Previous Year Rating have a Length of Service of 1. This likely means that these people do not have a rating yet, since it is within their first year of work. If this were a categorical variable it would make most sense to replace these null values with something to represent no rating (like 0) rather than using a mean/mode, but because the rating is a continuous numerical variable it may make more sense to use the mean (since replacing with 0 would seem like all new employees have worst ratings, and any correlation the rating has to being promoted may get skewed)."
      ],
      "metadata": {
        "id": "viov40wOFkjF"
      }
    },
    {
      "cell_type": "markdown",
      "source": [
        "##Replace Null Values for Previous Year Rating with the Median. Replace Null Values for Education with Mode of Education Column"
      ],
      "metadata": {
        "id": "9hU_K3pAHgeZ"
      }
    },
    {
      "cell_type": "code",
      "source": [
        "df_fna=df_train.copy(deep=True)\n",
        "df_fna.previous_year_rating=df_fna.previous_year_rating.fillna(df_fna.previous_year_rating.median())\n",
        "df_fna.previous_year_rating.isna().sum()"
      ],
      "metadata": {
        "colab": {
          "base_uri": "https://localhost:8080/"
        },
        "id": "S9aXHHUvH7nJ",
        "outputId": "ee2801e9-fb72-4865-dc4c-4f24f1fd7d39"
      },
      "execution_count": null,
      "outputs": [
        {
          "output_type": "execute_result",
          "data": {
            "text/plain": [
              "0"
            ]
          },
          "metadata": {},
          "execution_count": 12
        }
      ]
    },
    {
      "cell_type": "code",
      "source": [
        "df_train.previous_year_rating.value_counts()"
      ],
      "metadata": {
        "colab": {
          "base_uri": "https://localhost:8080/"
        },
        "id": "FjXb8WQrLp6p",
        "outputId": "ea8c1605-04ce-4aa5-adce-9758ae73a146"
      },
      "execution_count": null,
      "outputs": [
        {
          "output_type": "execute_result",
          "data": {
            "text/plain": [
              "3.0    18618\n",
              "5.0    11741\n",
              "4.0     9877\n",
              "1.0     6223\n",
              "2.0     4225\n",
              "Name: previous_year_rating, dtype: int64"
            ]
          },
          "metadata": {},
          "execution_count": 13
        }
      ]
    },
    {
      "cell_type": "code",
      "source": [
        "df_fna.previous_year_rating.value_counts()"
      ],
      "metadata": {
        "colab": {
          "base_uri": "https://localhost:8080/"
        },
        "id": "NJlpXxDzLk8q",
        "outputId": "f05bb389-e043-4b94-c7cf-65113e73e4eb"
      },
      "execution_count": null,
      "outputs": [
        {
          "output_type": "execute_result",
          "data": {
            "text/plain": [
              "3.0    22742\n",
              "5.0    11741\n",
              "4.0     9877\n",
              "1.0     6223\n",
              "2.0     4225\n",
              "Name: previous_year_rating, dtype: int64"
            ]
          },
          "metadata": {},
          "execution_count": 14
        }
      ]
    },
    {
      "cell_type": "code",
      "source": [
        "df_fna.education=df_fna.education.fillna(df_fna.education.mode()[0])\n",
        "df_fna.education.isna().sum()"
      ],
      "metadata": {
        "colab": {
          "base_uri": "https://localhost:8080/"
        },
        "id": "CeuSva7wI5di",
        "outputId": "bbd6e09e-c8a8-4b27-9b97-2cf78ef82d97"
      },
      "execution_count": null,
      "outputs": [
        {
          "output_type": "execute_result",
          "data": {
            "text/plain": [
              "0"
            ]
          },
          "metadata": {},
          "execution_count": 15
        }
      ]
    },
    {
      "cell_type": "code",
      "source": [
        "df_train.education.value_counts()"
      ],
      "metadata": {
        "colab": {
          "base_uri": "https://localhost:8080/"
        },
        "id": "AeGiTyQNKfSh",
        "outputId": "05e52d54-52b6-46ff-9078-1e7a7083a478"
      },
      "execution_count": null,
      "outputs": [
        {
          "output_type": "execute_result",
          "data": {
            "text/plain": [
              "Bachelor's          36669\n",
              "Master's & above    14925\n",
              "Below Secondary       805\n",
              "Name: education, dtype: int64"
            ]
          },
          "metadata": {},
          "execution_count": 16
        }
      ]
    },
    {
      "cell_type": "code",
      "source": [
        "df_fna.education.value_counts()"
      ],
      "metadata": {
        "colab": {
          "base_uri": "https://localhost:8080/"
        },
        "id": "W8Nxyo-8J3Av",
        "outputId": "a4c1689b-f31b-49f9-bba0-db1b80a7667e"
      },
      "execution_count": null,
      "outputs": [
        {
          "output_type": "execute_result",
          "data": {
            "text/plain": [
              "Bachelor's          39078\n",
              "Master's & above    14925\n",
              "Below Secondary       805\n",
              "Name: education, dtype: int64"
            ]
          },
          "metadata": {},
          "execution_count": 17
        }
      ]
    },
    {
      "cell_type": "markdown",
      "source": [
        "##Export DF with filled missing values as csv for use in other notebooks."
      ],
      "metadata": {
        "id": "h6ia_HDkMUv8"
      }
    },
    {
      "cell_type": "code",
      "source": [
        "df_fna.to_csv('/content/drive/MyDrive/613 Capstone/Data_MissingValuesHandled.csv')"
      ],
      "metadata": {
        "id": "8fTRCx5_MjHY"
      },
      "execution_count": null,
      "outputs": []
    }
  ]
}
{
  "cells": [
    {
      "cell_type": "markdown",
      "metadata": {
        "id": "49tG0ehtLAV8"
      },
      "source": [
        "##Try all 4 sets of data"
      ]
    },
    {
      "cell_type": "code",
      "execution_count": null,
      "metadata": {
        "id": "Q0IzBP0GSmow"
      },
      "outputs": [],
      "source": [
        "from sklearn.linear_model import LogisticRegression\n",
        "from sklearn.metrics import confusion_matrix, f1_score, classification_report\n",
        "from sklearn.model_selection import GridSearchCV, StratifiedKFold, RepeatedStratifiedKFold\n",
        "\n",
        "import pandas as pd\n",
        "import numpy as np"
      ]
    },
    {
      "cell_type": "code",
      "execution_count": null,
      "metadata": {
        "colab": {
          "base_uri": "https://localhost:8080/"
        },
        "id": "YsxTZTIfwU7h",
        "outputId": "64ea1752-b18b-4feb-e365-02404be1f37e"
      },
      "outputs": [
        {
          "output_type": "stream",
          "name": "stdout",
          "text": [
            "Drive already mounted at /content/drive; to attempt to forcibly remount, call drive.mount(\"/content/drive\", force_remount=True).\n"
          ]
        }
      ],
      "source": [
        "# Mount Google Drive (if not already mounted)\n",
        "from google.colab import drive\n",
        "drive.mount('/content/drive')"
      ]
    },
    {
      "cell_type": "code",
      "execution_count": null,
      "metadata": {
        "id": "KyqjfLlrLEDz"
      },
      "outputs": [],
      "source": [
        "train1 = pd.read_csv('/content/drive/MyDrive/613 Capstone/train1.csv', index_col=[0])\n",
        "test1 = pd.read_csv('/content/drive/MyDrive/613 Capstone/test1.csv', index_col=[0])\n"
      ]
    },
    {
      "cell_type": "code",
      "execution_count": null,
      "metadata": {
        "id": "4UvRN3bTLWgu"
      },
      "outputs": [],
      "source": [
        "X_train1 = train1.iloc[:,:-1]\n",
        "y_train1 = train1.iloc[:,-1]\n",
        "X_test1 = test1.iloc[:,:-1]\n",
        "y_test1 = test1.iloc[:,-1]"
      ]
    },
    {
      "cell_type": "code",
      "execution_count": null,
      "metadata": {
        "colab": {
          "base_uri": "https://localhost:8080/",
          "height": 461
        },
        "id": "8uV6hI9yaUBm",
        "outputId": "bec1ae80-90bb-4056-9647-6448c991b0b2"
      },
      "outputs": [
        {
          "output_type": "execute_result",
          "data": {
            "text/plain": [
              "       education  no_of_trainings       age  previous_year_rating  \\\n",
              "32740        1.0             0.00  0.588235                  1.00   \n",
              "16379        0.5             0.00  0.470588                  0.00   \n",
              "19087        1.0             0.00  0.823529                  0.00   \n",
              "30045        0.5             0.25  0.264706                  0.50   \n",
              "29398        1.0             0.25  0.470588                  0.50   \n",
              "...          ...              ...       ...                   ...   \n",
              "17351        1.0             0.00  0.294118                  1.00   \n",
              "47293        0.5             0.00  0.676471                  0.50   \n",
              "37948        0.5             0.00  0.205882                  1.00   \n",
              "30573        1.0             0.00  0.294118                  0.25   \n",
              "47146        1.0             0.00  0.411765                  1.00   \n",
              "\n",
              "       length_of_service  KPIs_met >80%  awards_won?  avg_training_score  \\\n",
              "32740           0.916667              0            0            0.457627   \n",
              "16379           0.666667              0            0            0.186441   \n",
              "19087           0.250000              1            0            0.169492   \n",
              "30045           0.333333              0            0            0.830508   \n",
              "29398           0.500000              1            0            0.728814   \n",
              "...                  ...            ...          ...                 ...   \n",
              "17351           0.333333              0            1            0.593220   \n",
              "47293           1.000000              1            0            0.338983   \n",
              "37948           0.250000              1            0            0.186441   \n",
              "30573           0.083333              0            0            0.508475   \n",
              "47146           0.583333              1            0            0.711864   \n",
              "\n",
              "       department_Analytics  department_Finance  ...  region_region_5  \\\n",
              "32740                   0.0                 0.0  ...              0.0   \n",
              "16379                   0.0                 0.0  ...              0.0   \n",
              "19087                   0.0                 0.0  ...              0.0   \n",
              "30045                   1.0                 0.0  ...              0.0   \n",
              "29398                   1.0                 0.0  ...              0.0   \n",
              "...                     ...                 ...  ...              ...   \n",
              "17351                   0.0                 0.0  ...              0.0   \n",
              "47293                   0.0                 0.0  ...              0.0   \n",
              "37948                   0.0                 0.0  ...              0.0   \n",
              "30573                   0.0                 0.0  ...              0.0   \n",
              "47146                   1.0                 0.0  ...              0.0   \n",
              "\n",
              "       region_region_6  region_region_7  region_region_8  region_region_9  \\\n",
              "32740              0.0              1.0              0.0              0.0   \n",
              "16379              0.0              1.0              0.0              0.0   \n",
              "19087              0.0              0.0              0.0              0.0   \n",
              "30045              0.0              0.0              0.0              1.0   \n",
              "29398              0.0              0.0              0.0              0.0   \n",
              "...                ...              ...              ...              ...   \n",
              "17351              0.0              0.0              0.0              0.0   \n",
              "47293              0.0              0.0              0.0              0.0   \n",
              "37948              0.0              0.0              0.0              0.0   \n",
              "30573              0.0              0.0              0.0              0.0   \n",
              "47146              0.0              0.0              0.0              0.0   \n",
              "\n",
              "       gender_f  gender_m  recruitment_channel_other  \\\n",
              "32740       0.0       1.0                        1.0   \n",
              "16379       1.0       0.0                        1.0   \n",
              "19087       0.0       1.0                        0.0   \n",
              "30045       0.0       1.0                        1.0   \n",
              "29398       0.0       1.0                        1.0   \n",
              "...         ...       ...                        ...   \n",
              "17351       0.0       1.0                        0.0   \n",
              "47293       1.0       0.0                        0.0   \n",
              "37948       1.0       0.0                        0.0   \n",
              "30573       0.0       1.0                        0.0   \n",
              "47146       0.0       1.0                        1.0   \n",
              "\n",
              "       recruitment_channel_referred  recruitment_channel_sourcing  \n",
              "32740                           0.0                           0.0  \n",
              "16379                           0.0                           0.0  \n",
              "19087                           0.0                           1.0  \n",
              "30045                           0.0                           0.0  \n",
              "29398                           0.0                           0.0  \n",
              "...                             ...                           ...  \n",
              "17351                           0.0                           1.0  \n",
              "47293                           0.0                           1.0  \n",
              "37948                           0.0                           1.0  \n",
              "30573                           0.0                           1.0  \n",
              "47146                           0.0                           0.0  \n",
              "\n",
              "[38365 rows x 56 columns]"
            ],
            "text/html": [
              "\n",
              "  <div id=\"df-14409215-5826-4c95-a556-ebada4a193c7\" class=\"colab-df-container\">\n",
              "    <div>\n",
              "<style scoped>\n",
              "    .dataframe tbody tr th:only-of-type {\n",
              "        vertical-align: middle;\n",
              "    }\n",
              "\n",
              "    .dataframe tbody tr th {\n",
              "        vertical-align: top;\n",
              "    }\n",
              "\n",
              "    .dataframe thead th {\n",
              "        text-align: right;\n",
              "    }\n",
              "</style>\n",
              "<table border=\"1\" class=\"dataframe\">\n",
              "  <thead>\n",
              "    <tr style=\"text-align: right;\">\n",
              "      <th></th>\n",
              "      <th>education</th>\n",
              "      <th>no_of_trainings</th>\n",
              "      <th>age</th>\n",
              "      <th>previous_year_rating</th>\n",
              "      <th>length_of_service</th>\n",
              "      <th>KPIs_met &gt;80%</th>\n",
              "      <th>awards_won?</th>\n",
              "      <th>avg_training_score</th>\n",
              "      <th>department_Analytics</th>\n",
              "      <th>department_Finance</th>\n",
              "      <th>...</th>\n",
              "      <th>region_region_5</th>\n",
              "      <th>region_region_6</th>\n",
              "      <th>region_region_7</th>\n",
              "      <th>region_region_8</th>\n",
              "      <th>region_region_9</th>\n",
              "      <th>gender_f</th>\n",
              "      <th>gender_m</th>\n",
              "      <th>recruitment_channel_other</th>\n",
              "      <th>recruitment_channel_referred</th>\n",
              "      <th>recruitment_channel_sourcing</th>\n",
              "    </tr>\n",
              "  </thead>\n",
              "  <tbody>\n",
              "    <tr>\n",
              "      <th>32740</th>\n",
              "      <td>1.0</td>\n",
              "      <td>0.00</td>\n",
              "      <td>0.588235</td>\n",
              "      <td>1.00</td>\n",
              "      <td>0.916667</td>\n",
              "      <td>0</td>\n",
              "      <td>0</td>\n",
              "      <td>0.457627</td>\n",
              "      <td>0.0</td>\n",
              "      <td>0.0</td>\n",
              "      <td>...</td>\n",
              "      <td>0.0</td>\n",
              "      <td>0.0</td>\n",
              "      <td>1.0</td>\n",
              "      <td>0.0</td>\n",
              "      <td>0.0</td>\n",
              "      <td>0.0</td>\n",
              "      <td>1.0</td>\n",
              "      <td>1.0</td>\n",
              "      <td>0.0</td>\n",
              "      <td>0.0</td>\n",
              "    </tr>\n",
              "    <tr>\n",
              "      <th>16379</th>\n",
              "      <td>0.5</td>\n",
              "      <td>0.00</td>\n",
              "      <td>0.470588</td>\n",
              "      <td>0.00</td>\n",
              "      <td>0.666667</td>\n",
              "      <td>0</td>\n",
              "      <td>0</td>\n",
              "      <td>0.186441</td>\n",
              "      <td>0.0</td>\n",
              "      <td>0.0</td>\n",
              "      <td>...</td>\n",
              "      <td>0.0</td>\n",
              "      <td>0.0</td>\n",
              "      <td>1.0</td>\n",
              "      <td>0.0</td>\n",
              "      <td>0.0</td>\n",
              "      <td>1.0</td>\n",
              "      <td>0.0</td>\n",
              "      <td>1.0</td>\n",
              "      <td>0.0</td>\n",
              "      <td>0.0</td>\n",
              "    </tr>\n",
              "    <tr>\n",
              "      <th>19087</th>\n",
              "      <td>1.0</td>\n",
              "      <td>0.00</td>\n",
              "      <td>0.823529</td>\n",
              "      <td>0.00</td>\n",
              "      <td>0.250000</td>\n",
              "      <td>1</td>\n",
              "      <td>0</td>\n",
              "      <td>0.169492</td>\n",
              "      <td>0.0</td>\n",
              "      <td>0.0</td>\n",
              "      <td>...</td>\n",
              "      <td>0.0</td>\n",
              "      <td>0.0</td>\n",
              "      <td>0.0</td>\n",
              "      <td>0.0</td>\n",
              "      <td>0.0</td>\n",
              "      <td>0.0</td>\n",
              "      <td>1.0</td>\n",
              "      <td>0.0</td>\n",
              "      <td>0.0</td>\n",
              "      <td>1.0</td>\n",
              "    </tr>\n",
              "    <tr>\n",
              "      <th>30045</th>\n",
              "      <td>0.5</td>\n",
              "      <td>0.25</td>\n",
              "      <td>0.264706</td>\n",
              "      <td>0.50</td>\n",
              "      <td>0.333333</td>\n",
              "      <td>0</td>\n",
              "      <td>0</td>\n",
              "      <td>0.830508</td>\n",
              "      <td>1.0</td>\n",
              "      <td>0.0</td>\n",
              "      <td>...</td>\n",
              "      <td>0.0</td>\n",
              "      <td>0.0</td>\n",
              "      <td>0.0</td>\n",
              "      <td>0.0</td>\n",
              "      <td>1.0</td>\n",
              "      <td>0.0</td>\n",
              "      <td>1.0</td>\n",
              "      <td>1.0</td>\n",
              "      <td>0.0</td>\n",
              "      <td>0.0</td>\n",
              "    </tr>\n",
              "    <tr>\n",
              "      <th>29398</th>\n",
              "      <td>1.0</td>\n",
              "      <td>0.25</td>\n",
              "      <td>0.470588</td>\n",
              "      <td>0.50</td>\n",
              "      <td>0.500000</td>\n",
              "      <td>1</td>\n",
              "      <td>0</td>\n",
              "      <td>0.728814</td>\n",
              "      <td>1.0</td>\n",
              "      <td>0.0</td>\n",
              "      <td>...</td>\n",
              "      <td>0.0</td>\n",
              "      <td>0.0</td>\n",
              "      <td>0.0</td>\n",
              "      <td>0.0</td>\n",
              "      <td>0.0</td>\n",
              "      <td>0.0</td>\n",
              "      <td>1.0</td>\n",
              "      <td>1.0</td>\n",
              "      <td>0.0</td>\n",
              "      <td>0.0</td>\n",
              "    </tr>\n",
              "    <tr>\n",
              "      <th>...</th>\n",
              "      <td>...</td>\n",
              "      <td>...</td>\n",
              "      <td>...</td>\n",
              "      <td>...</td>\n",
              "      <td>...</td>\n",
              "      <td>...</td>\n",
              "      <td>...</td>\n",
              "      <td>...</td>\n",
              "      <td>...</td>\n",
              "      <td>...</td>\n",
              "      <td>...</td>\n",
              "      <td>...</td>\n",
              "      <td>...</td>\n",
              "      <td>...</td>\n",
              "      <td>...</td>\n",
              "      <td>...</td>\n",
              "      <td>...</td>\n",
              "      <td>...</td>\n",
              "      <td>...</td>\n",
              "      <td>...</td>\n",
              "      <td>...</td>\n",
              "    </tr>\n",
              "    <tr>\n",
              "      <th>17351</th>\n",
              "      <td>1.0</td>\n",
              "      <td>0.00</td>\n",
              "      <td>0.294118</td>\n",
              "      <td>1.00</td>\n",
              "      <td>0.333333</td>\n",
              "      <td>0</td>\n",
              "      <td>1</td>\n",
              "      <td>0.593220</td>\n",
              "      <td>0.0</td>\n",
              "      <td>0.0</td>\n",
              "      <td>...</td>\n",
              "      <td>0.0</td>\n",
              "      <td>0.0</td>\n",
              "      <td>0.0</td>\n",
              "      <td>0.0</td>\n",
              "      <td>0.0</td>\n",
              "      <td>0.0</td>\n",
              "      <td>1.0</td>\n",
              "      <td>0.0</td>\n",
              "      <td>0.0</td>\n",
              "      <td>1.0</td>\n",
              "    </tr>\n",
              "    <tr>\n",
              "      <th>47293</th>\n",
              "      <td>0.5</td>\n",
              "      <td>0.00</td>\n",
              "      <td>0.676471</td>\n",
              "      <td>0.50</td>\n",
              "      <td>1.000000</td>\n",
              "      <td>1</td>\n",
              "      <td>0</td>\n",
              "      <td>0.338983</td>\n",
              "      <td>0.0</td>\n",
              "      <td>0.0</td>\n",
              "      <td>...</td>\n",
              "      <td>0.0</td>\n",
              "      <td>0.0</td>\n",
              "      <td>0.0</td>\n",
              "      <td>0.0</td>\n",
              "      <td>0.0</td>\n",
              "      <td>1.0</td>\n",
              "      <td>0.0</td>\n",
              "      <td>0.0</td>\n",
              "      <td>0.0</td>\n",
              "      <td>1.0</td>\n",
              "    </tr>\n",
              "    <tr>\n",
              "      <th>37948</th>\n",
              "      <td>0.5</td>\n",
              "      <td>0.00</td>\n",
              "      <td>0.205882</td>\n",
              "      <td>1.00</td>\n",
              "      <td>0.250000</td>\n",
              "      <td>1</td>\n",
              "      <td>0</td>\n",
              "      <td>0.186441</td>\n",
              "      <td>0.0</td>\n",
              "      <td>0.0</td>\n",
              "      <td>...</td>\n",
              "      <td>0.0</td>\n",
              "      <td>0.0</td>\n",
              "      <td>0.0</td>\n",
              "      <td>0.0</td>\n",
              "      <td>0.0</td>\n",
              "      <td>1.0</td>\n",
              "      <td>0.0</td>\n",
              "      <td>0.0</td>\n",
              "      <td>0.0</td>\n",
              "      <td>1.0</td>\n",
              "    </tr>\n",
              "    <tr>\n",
              "      <th>30573</th>\n",
              "      <td>1.0</td>\n",
              "      <td>0.00</td>\n",
              "      <td>0.294118</td>\n",
              "      <td>0.25</td>\n",
              "      <td>0.083333</td>\n",
              "      <td>0</td>\n",
              "      <td>0</td>\n",
              "      <td>0.508475</td>\n",
              "      <td>0.0</td>\n",
              "      <td>0.0</td>\n",
              "      <td>...</td>\n",
              "      <td>0.0</td>\n",
              "      <td>0.0</td>\n",
              "      <td>0.0</td>\n",
              "      <td>0.0</td>\n",
              "      <td>0.0</td>\n",
              "      <td>0.0</td>\n",
              "      <td>1.0</td>\n",
              "      <td>0.0</td>\n",
              "      <td>0.0</td>\n",
              "      <td>1.0</td>\n",
              "    </tr>\n",
              "    <tr>\n",
              "      <th>47146</th>\n",
              "      <td>1.0</td>\n",
              "      <td>0.00</td>\n",
              "      <td>0.411765</td>\n",
              "      <td>1.00</td>\n",
              "      <td>0.583333</td>\n",
              "      <td>1</td>\n",
              "      <td>0</td>\n",
              "      <td>0.711864</td>\n",
              "      <td>1.0</td>\n",
              "      <td>0.0</td>\n",
              "      <td>...</td>\n",
              "      <td>0.0</td>\n",
              "      <td>0.0</td>\n",
              "      <td>0.0</td>\n",
              "      <td>0.0</td>\n",
              "      <td>0.0</td>\n",
              "      <td>0.0</td>\n",
              "      <td>1.0</td>\n",
              "      <td>1.0</td>\n",
              "      <td>0.0</td>\n",
              "      <td>0.0</td>\n",
              "    </tr>\n",
              "  </tbody>\n",
              "</table>\n",
              "<p>38365 rows × 56 columns</p>\n",
              "</div>\n",
              "    <div class=\"colab-df-buttons\">\n",
              "\n",
              "  <div class=\"colab-df-container\">\n",
              "    <button class=\"colab-df-convert\" onclick=\"convertToInteractive('df-14409215-5826-4c95-a556-ebada4a193c7')\"\n",
              "            title=\"Convert this dataframe to an interactive table.\"\n",
              "            style=\"display:none;\">\n",
              "\n",
              "  <svg xmlns=\"http://www.w3.org/2000/svg\" height=\"24px\" viewBox=\"0 -960 960 960\">\n",
              "    <path d=\"M120-120v-720h720v720H120Zm60-500h600v-160H180v160Zm220 220h160v-160H400v160Zm0 220h160v-160H400v160ZM180-400h160v-160H180v160Zm440 0h160v-160H620v160ZM180-180h160v-160H180v160Zm440 0h160v-160H620v160Z\"/>\n",
              "  </svg>\n",
              "    </button>\n",
              "\n",
              "  <style>\n",
              "    .colab-df-container {\n",
              "      display:flex;\n",
              "      gap: 12px;\n",
              "    }\n",
              "\n",
              "    .colab-df-convert {\n",
              "      background-color: #E8F0FE;\n",
              "      border: none;\n",
              "      border-radius: 50%;\n",
              "      cursor: pointer;\n",
              "      display: none;\n",
              "      fill: #1967D2;\n",
              "      height: 32px;\n",
              "      padding: 0 0 0 0;\n",
              "      width: 32px;\n",
              "    }\n",
              "\n",
              "    .colab-df-convert:hover {\n",
              "      background-color: #E2EBFA;\n",
              "      box-shadow: 0px 1px 2px rgba(60, 64, 67, 0.3), 0px 1px 3px 1px rgba(60, 64, 67, 0.15);\n",
              "      fill: #174EA6;\n",
              "    }\n",
              "\n",
              "    .colab-df-buttons div {\n",
              "      margin-bottom: 4px;\n",
              "    }\n",
              "\n",
              "    [theme=dark] .colab-df-convert {\n",
              "      background-color: #3B4455;\n",
              "      fill: #D2E3FC;\n",
              "    }\n",
              "\n",
              "    [theme=dark] .colab-df-convert:hover {\n",
              "      background-color: #434B5C;\n",
              "      box-shadow: 0px 1px 3px 1px rgba(0, 0, 0, 0.15);\n",
              "      filter: drop-shadow(0px 1px 2px rgba(0, 0, 0, 0.3));\n",
              "      fill: #FFFFFF;\n",
              "    }\n",
              "  </style>\n",
              "\n",
              "    <script>\n",
              "      const buttonEl =\n",
              "        document.querySelector('#df-14409215-5826-4c95-a556-ebada4a193c7 button.colab-df-convert');\n",
              "      buttonEl.style.display =\n",
              "        google.colab.kernel.accessAllowed ? 'block' : 'none';\n",
              "\n",
              "      async function convertToInteractive(key) {\n",
              "        const element = document.querySelector('#df-14409215-5826-4c95-a556-ebada4a193c7');\n",
              "        const dataTable =\n",
              "          await google.colab.kernel.invokeFunction('convertToInteractive',\n",
              "                                                    [key], {});\n",
              "        if (!dataTable) return;\n",
              "\n",
              "        const docLinkHtml = 'Like what you see? Visit the ' +\n",
              "          '<a target=\"_blank\" href=https://colab.research.google.com/notebooks/data_table.ipynb>data table notebook</a>'\n",
              "          + ' to learn more about interactive tables.';\n",
              "        element.innerHTML = '';\n",
              "        dataTable['output_type'] = 'display_data';\n",
              "        await google.colab.output.renderOutput(dataTable, element);\n",
              "        const docLink = document.createElement('div');\n",
              "        docLink.innerHTML = docLinkHtml;\n",
              "        element.appendChild(docLink);\n",
              "      }\n",
              "    </script>\n",
              "  </div>\n",
              "\n",
              "\n",
              "<div id=\"df-7e7beb7f-8367-4089-9847-c656fc2d41f0\">\n",
              "  <button class=\"colab-df-quickchart\" onclick=\"quickchart('df-7e7beb7f-8367-4089-9847-c656fc2d41f0')\"\n",
              "            title=\"Suggest charts\"\n",
              "            style=\"display:none;\">\n",
              "\n",
              "<svg xmlns=\"http://www.w3.org/2000/svg\" height=\"24px\"viewBox=\"0 0 24 24\"\n",
              "     width=\"24px\">\n",
              "    <g>\n",
              "        <path d=\"M19 3H5c-1.1 0-2 .9-2 2v14c0 1.1.9 2 2 2h14c1.1 0 2-.9 2-2V5c0-1.1-.9-2-2-2zM9 17H7v-7h2v7zm4 0h-2V7h2v10zm4 0h-2v-4h2v4z\"/>\n",
              "    </g>\n",
              "</svg>\n",
              "  </button>\n",
              "\n",
              "<style>\n",
              "  .colab-df-quickchart {\n",
              "      --bg-color: #E8F0FE;\n",
              "      --fill-color: #1967D2;\n",
              "      --hover-bg-color: #E2EBFA;\n",
              "      --hover-fill-color: #174EA6;\n",
              "      --disabled-fill-color: #AAA;\n",
              "      --disabled-bg-color: #DDD;\n",
              "  }\n",
              "\n",
              "  [theme=dark] .colab-df-quickchart {\n",
              "      --bg-color: #3B4455;\n",
              "      --fill-color: #D2E3FC;\n",
              "      --hover-bg-color: #434B5C;\n",
              "      --hover-fill-color: #FFFFFF;\n",
              "      --disabled-bg-color: #3B4455;\n",
              "      --disabled-fill-color: #666;\n",
              "  }\n",
              "\n",
              "  .colab-df-quickchart {\n",
              "    background-color: var(--bg-color);\n",
              "    border: none;\n",
              "    border-radius: 50%;\n",
              "    cursor: pointer;\n",
              "    display: none;\n",
              "    fill: var(--fill-color);\n",
              "    height: 32px;\n",
              "    padding: 0;\n",
              "    width: 32px;\n",
              "  }\n",
              "\n",
              "  .colab-df-quickchart:hover {\n",
              "    background-color: var(--hover-bg-color);\n",
              "    box-shadow: 0 1px 2px rgba(60, 64, 67, 0.3), 0 1px 3px 1px rgba(60, 64, 67, 0.15);\n",
              "    fill: var(--button-hover-fill-color);\n",
              "  }\n",
              "\n",
              "  .colab-df-quickchart-complete:disabled,\n",
              "  .colab-df-quickchart-complete:disabled:hover {\n",
              "    background-color: var(--disabled-bg-color);\n",
              "    fill: var(--disabled-fill-color);\n",
              "    box-shadow: none;\n",
              "  }\n",
              "\n",
              "  .colab-df-spinner {\n",
              "    border: 2px solid var(--fill-color);\n",
              "    border-color: transparent;\n",
              "    border-bottom-color: var(--fill-color);\n",
              "    animation:\n",
              "      spin 1s steps(1) infinite;\n",
              "  }\n",
              "\n",
              "  @keyframes spin {\n",
              "    0% {\n",
              "      border-color: transparent;\n",
              "      border-bottom-color: var(--fill-color);\n",
              "      border-left-color: var(--fill-color);\n",
              "    }\n",
              "    20% {\n",
              "      border-color: transparent;\n",
              "      border-left-color: var(--fill-color);\n",
              "      border-top-color: var(--fill-color);\n",
              "    }\n",
              "    30% {\n",
              "      border-color: transparent;\n",
              "      border-left-color: var(--fill-color);\n",
              "      border-top-color: var(--fill-color);\n",
              "      border-right-color: var(--fill-color);\n",
              "    }\n",
              "    40% {\n",
              "      border-color: transparent;\n",
              "      border-right-color: var(--fill-color);\n",
              "      border-top-color: var(--fill-color);\n",
              "    }\n",
              "    60% {\n",
              "      border-color: transparent;\n",
              "      border-right-color: var(--fill-color);\n",
              "    }\n",
              "    80% {\n",
              "      border-color: transparent;\n",
              "      border-right-color: var(--fill-color);\n",
              "      border-bottom-color: var(--fill-color);\n",
              "    }\n",
              "    90% {\n",
              "      border-color: transparent;\n",
              "      border-bottom-color: var(--fill-color);\n",
              "    }\n",
              "  }\n",
              "</style>\n",
              "\n",
              "  <script>\n",
              "    async function quickchart(key) {\n",
              "      const quickchartButtonEl =\n",
              "        document.querySelector('#' + key + ' button');\n",
              "      quickchartButtonEl.disabled = true;  // To prevent multiple clicks.\n",
              "      quickchartButtonEl.classList.add('colab-df-spinner');\n",
              "      try {\n",
              "        const charts = await google.colab.kernel.invokeFunction(\n",
              "            'suggestCharts', [key], {});\n",
              "      } catch (error) {\n",
              "        console.error('Error during call to suggestCharts:', error);\n",
              "      }\n",
              "      quickchartButtonEl.classList.remove('colab-df-spinner');\n",
              "      quickchartButtonEl.classList.add('colab-df-quickchart-complete');\n",
              "    }\n",
              "    (() => {\n",
              "      let quickchartButtonEl =\n",
              "        document.querySelector('#df-7e7beb7f-8367-4089-9847-c656fc2d41f0 button');\n",
              "      quickchartButtonEl.style.display =\n",
              "        google.colab.kernel.accessAllowed ? 'block' : 'none';\n",
              "    })();\n",
              "  </script>\n",
              "</div>\n",
              "    </div>\n",
              "  </div>\n"
            ]
          },
          "metadata": {},
          "execution_count": 21
        }
      ],
      "source": [
        "X_train1"
      ]
    },
    {
      "cell_type": "code",
      "execution_count": null,
      "metadata": {
        "id": "IyXeMnQULFkl"
      },
      "outputs": [],
      "source": [
        "train2 = pd.read_csv('/content/drive/MyDrive/613 Capstone/train2.csv', index_col=[0])\n",
        "test2 = pd.read_csv('/content/drive/MyDrive/613 Capstone/test2.csv', index_col=[0])"
      ]
    },
    {
      "cell_type": "code",
      "execution_count": null,
      "metadata": {
        "id": "jF5qcN6OMkZP"
      },
      "outputs": [],
      "source": [
        "X_train2 = train2.iloc[:,:-1]\n",
        "y_train2 = train2.iloc[:,-1]\n",
        "X_test2 = test2.iloc[:,:-1]\n",
        "y_test2 = test2.iloc[:,-1]"
      ]
    },
    {
      "cell_type": "code",
      "execution_count": null,
      "metadata": {
        "id": "pTzhe_ZfLGKH"
      },
      "outputs": [],
      "source": [
        "train3 = pd.read_csv('/content/drive/MyDrive/613 Capstone/train3.csv', index_col=[0])\n",
        "test3 = pd.read_csv('/content/drive/MyDrive/613 Capstone/test3.csv', index_col=[0])"
      ]
    },
    {
      "cell_type": "code",
      "execution_count": null,
      "metadata": {
        "id": "QiXXKxhNMlAV"
      },
      "outputs": [],
      "source": [
        "X_train3 = train3.iloc[:,:-1]\n",
        "y_train3 = train3.iloc[:,-1]\n",
        "X_test3 = test3.iloc[:,:-1]\n",
        "y_test3 = test3.iloc[:,-1]"
      ]
    },
    {
      "cell_type": "code",
      "execution_count": null,
      "metadata": {
        "id": "_TlQQXufJGaF"
      },
      "outputs": [],
      "source": [
        "train4 = pd.read_csv('/content/drive/MyDrive/613 Capstone/train4.csv', index_col=[0])\n",
        "test4 = pd.read_csv('/content/drive/MyDrive/613 Capstone/test4.csv', index_col=[0])"
      ]
    },
    {
      "cell_type": "code",
      "execution_count": null,
      "metadata": {
        "id": "mtRItAfUMlh6"
      },
      "outputs": [],
      "source": [
        "X_train4 = train4.iloc[:,:-1]\n",
        "y_train4 = train4.iloc[:,-1]\n",
        "X_test4 = test4.iloc[:,:-1]\n",
        "y_test4 = test4.iloc[:,-1]"
      ]
    },
    {
      "cell_type": "code",
      "execution_count": null,
      "metadata": {
        "id": "OlV1XIYEkjIz"
      },
      "outputs": [],
      "source": [
        "train5 = pd.read_csv('/content/drive/MyDrive/613 Capstone/train5.csv', index_col=[0])\n",
        "test5 = pd.read_csv('/content/drive/MyDrive/613 Capstone/test5.csv', index_col=[0])\n"
      ]
    },
    {
      "cell_type": "code",
      "execution_count": null,
      "metadata": {
        "id": "r1c7I-ZnkjIz"
      },
      "outputs": [],
      "source": [
        "X_train5 = train5.iloc[:,:-1]\n",
        "y_train5 = train5.iloc[:,-1]\n",
        "X_test5 = test5.iloc[:,:-1]\n",
        "y_test5 = test5.iloc[:,-1]"
      ]
    },
    {
      "cell_type": "markdown",
      "metadata": {
        "id": "Cb9SNcVGU780"
      },
      "source": [
        "##Logistic Regression 4x\n",
        "\n",
        "Grid Search took ~6-8min each"
      ]
    },
    {
      "cell_type": "code",
      "execution_count": null,
      "metadata": {
        "colab": {
          "base_uri": "https://localhost:8080/"
        },
        "id": "yhZrg3rdwDCJ",
        "outputId": "64c4ea5f-9bf2-4453-dc98-9e5fa38a9aba"
      },
      "outputs": [
        {
          "output_type": "stream",
          "name": "stdout",
          "text": [
            "Fitting 5 folds for each of 420 candidates, totalling 2100 fits\n",
            "Best Parameters: {'C': 10000.0, 'max_iter': 50, 'penalty': 'l2', 'random_state': 43, 'solver': 'sag', 'tol': 0.1}\n"
          ]
        }
      ],
      "source": [
        "#Grid Search\n",
        "# Define the hyperparameters and their ranges\n",
        "param_grid = {\n",
        "    'penalty': ['l2'],\n",
        "    'C': np.logspace(-2, 4, 7),  # Range from 0.001 to 1000 for C\n",
        "    'solver': ['liblinear', 'newton-cg', 'lbfgs', 'sag', 'saga'],\n",
        "    'max_iter': [50,100,200,300],  # Adjust as needed\n",
        "    'tol': [1e-2, 1e-1, 1],  # Adjust as needed\n",
        "    'random_state':[43]\n",
        "}\n",
        "\n",
        "# Create GridSearchCV\n",
        "grid_search = GridSearchCV(estimator=LogisticRegression(), param_grid=param_grid, cv=StratifiedKFold(n_splits=5), scoring='f1', verbose=2, n_jobs=-1)\n",
        "\n",
        "# Fit the grid search to the data\n",
        "grid_search.fit(X_train1, y_train1)\n",
        "\n",
        "print(f'Best Parameters: {grid_search.best_params_}')"
      ]
    },
    {
      "cell_type": "code",
      "execution_count": null,
      "metadata": {
        "colab": {
          "base_uri": "https://localhost:8080/"
        },
        "id": "B-5v8j4_S4RX",
        "outputId": "6a2c7aa7-0705-4ab9-8e8d-d9f66702ace7"
      },
      "outputs": [
        {
          "output_type": "stream",
          "name": "stdout",
          "text": [
            "[[14936   107]\n",
            " [ 1005   395]]\n",
            "              precision    recall  f1-score   support\n",
            "\n",
            "           0       0.94      0.99      0.96     15043\n",
            "           1       0.79      0.28      0.42      1400\n",
            "\n",
            "    accuracy                           0.93     16443\n",
            "   macro avg       0.86      0.64      0.69     16443\n",
            "weighted avg       0.92      0.93      0.92     16443\n",
            "\n"
          ]
        }
      ],
      "source": [
        "classifier = LogisticRegression(random_state = 43, C=10000, max_iter=50, penalty='l2', solver='sag', tol=0.1)\n",
        "classifier.fit(X_train1, y_train1)\n",
        "\n",
        "y_pred1 = classifier.predict(X_test1)\n",
        "\n",
        "from sklearn.metrics import confusion_matrix, f1_score, classification_report\n",
        "cm = confusion_matrix(y_test1, y_pred1)\n",
        "print(cm)\n",
        "print(classification_report(y_test1,y_pred1))"
      ]
    },
    {
      "cell_type": "code",
      "execution_count": null,
      "metadata": {
        "colab": {
          "base_uri": "https://localhost:8080/"
        },
        "id": "Mg0NgIJSDHk6",
        "outputId": "f2d31a2f-86e0-4325-f1d6-69f39161a8e6"
      },
      "outputs": [
        {
          "name": "stdout",
          "output_type": "stream",
          "text": [
            "Fitting 5 folds for each of 315 candidates, totalling 1575 fits\n",
            "Best Parameters: {'C': 100.0, 'max_iter': 50, 'penalty': 'l2', 'random_state': 43, 'solver': 'sag', 'tol': 0.1}\n"
          ]
        }
      ],
      "source": [
        "#Grid Search\n",
        "# Define the hyperparameters and their ranges\n",
        "param_grid = {\n",
        "    'penalty': ['l2'],\n",
        "    'C': np.logspace(-2, 4, 7),  # Range from 0.001 to 1000 for C\n",
        "    'solver': ['liblinear', 'newton-cg', 'lbfgs', 'sag', 'saga'],\n",
        "    'max_iter': [50,100,200],  # Adjust as needed\n",
        "    'tol': [1e-2, 1e-1, 1],  # Adjust as needed\n",
        "    'random_state':[43]\n",
        "}\n",
        "\n",
        "# Create GridSearchCV\n",
        "grid_search = GridSearchCV(estimator=LogisticRegression(), param_grid=param_grid, cv=StratifiedKFold(n_splits=5), scoring='f1', verbose=2, n_jobs=-1)\n",
        "\n",
        "# Fit the grid search to the data\n",
        "grid_search.fit(X_train2, y_train2)\n",
        "\n",
        "print(f'Best Parameters: {grid_search.best_params_}')"
      ]
    },
    {
      "cell_type": "code",
      "execution_count": null,
      "metadata": {
        "colab": {
          "base_uri": "https://localhost:8080/"
        },
        "id": "QDD16gC0TQPs",
        "outputId": "922ba24a-4b65-43b5-a333-e3822c1656ba"
      },
      "outputs": [
        {
          "name": "stdout",
          "output_type": "stream",
          "text": [
            "[[14680   363]\n",
            " [  930   470]]\n",
            "              precision    recall  f1-score   support\n",
            "\n",
            "           0       0.94      0.98      0.96     15043\n",
            "           1       0.56      0.34      0.42      1400\n",
            "\n",
            "    accuracy                           0.92     16443\n",
            "   macro avg       0.75      0.66      0.69     16443\n",
            "weighted avg       0.91      0.92      0.91     16443\n",
            "\n"
          ]
        }
      ],
      "source": [
        "classifier = LogisticRegression(random_state = 43, C=100, max_iter=50, penalty='l2', solver='sag', tol=0.1)\n",
        "classifier.fit(X_train2, y_train2)\n",
        "\n",
        "y_pred2 = classifier.predict(X_test2)\n",
        "\n",
        "from sklearn.metrics import confusion_matrix, f1_score, classification_report\n",
        "cm = confusion_matrix(y_test2, y_pred2)\n",
        "print(cm)\n",
        "print(classification_report(y_test2,y_pred2))"
      ]
    },
    {
      "cell_type": "code",
      "execution_count": null,
      "metadata": {
        "colab": {
          "base_uri": "https://localhost:8080/"
        },
        "id": "EJpSH0jeQ8it",
        "outputId": "6a214b84-7834-42c3-a2ab-32db5fb32244"
      },
      "outputs": [
        {
          "name": "stdout",
          "output_type": "stream",
          "text": [
            "Fitting 5 folds for each of 315 candidates, totalling 1575 fits\n",
            "Best Parameters: {'C': 10000.0, 'max_iter': 50, 'penalty': 'l2', 'random_state': 43, 'solver': 'sag', 'tol': 0.1}\n"
          ]
        }
      ],
      "source": [
        "#Grid Search\n",
        "# Define the hyperparameters and their ranges\n",
        "param_grid = {\n",
        "    'penalty': ['l2'],\n",
        "    'C': np.logspace(-2, 4, 7),  # Range from 0.001 to 1000 for C\n",
        "    'solver': ['liblinear', 'newton-cg', 'lbfgs', 'sag', 'saga'],\n",
        "    'max_iter': [50,100,200],  # Adjust as needed\n",
        "    'tol': [1e-2, 1e-1, 1],  # Adjust as needed\n",
        "    'random_state':[43]\n",
        "}\n",
        "\n",
        "# Create GridSearchCV\n",
        "grid_search = GridSearchCV(estimator=LogisticRegression(), param_grid=param_grid, cv=StratifiedKFold(n_splits=5), scoring='f1', verbose=2, n_jobs=-1)\n",
        "\n",
        "# Fit the grid search to the data\n",
        "grid_search.fit(X_train3, y_train3)\n",
        "\n",
        "print(f'Best Parameters: {grid_search.best_params_}')"
      ]
    },
    {
      "cell_type": "code",
      "execution_count": null,
      "metadata": {
        "colab": {
          "base_uri": "https://localhost:8080/"
        },
        "id": "jNb-kFs7TdY5",
        "outputId": "eec9f2ce-14f3-4a61-8baa-73a5aa85dc59"
      },
      "outputs": [
        {
          "name": "stdout",
          "output_type": "stream",
          "text": [
            "[[14949    94]\n",
            " [  983   417]]\n",
            "              precision    recall  f1-score   support\n",
            "\n",
            "           0       0.94      0.99      0.97     15043\n",
            "           1       0.82      0.30      0.44      1400\n",
            "\n",
            "    accuracy                           0.93     16443\n",
            "   macro avg       0.88      0.65      0.70     16443\n",
            "weighted avg       0.93      0.93      0.92     16443\n",
            "\n"
          ]
        }
      ],
      "source": [
        "classifier = LogisticRegression(random_state = 43, C=10000, max_iter=50, penalty='l2', solver='sag', tol=0.1)\n",
        "classifier.fit(X_train3, y_train3)\n",
        "\n",
        "y_pred3 = classifier.predict(X_test3)\n",
        "\n",
        "from sklearn.metrics import confusion_matrix, f1_score, classification_report\n",
        "cm = confusion_matrix(y_test3, y_pred3)\n",
        "print(cm)\n",
        "print(classification_report(y_test3,y_pred3))"
      ]
    },
    {
      "cell_type": "code",
      "execution_count": null,
      "metadata": {
        "colab": {
          "base_uri": "https://localhost:8080/"
        },
        "id": "XxMV4l1vTV11",
        "outputId": "546671e9-5615-4eb3-8377-df5d38bbbabf"
      },
      "outputs": [
        {
          "name": "stdout",
          "output_type": "stream",
          "text": [
            "Fitting 5 folds for each of 315 candidates, totalling 1575 fits\n",
            "Best Parameters: {'C': 1000.0, 'max_iter': 50, 'penalty': 'l2', 'random_state': 43, 'solver': 'sag', 'tol': 0.1}\n"
          ]
        }
      ],
      "source": [
        "#Grid Search\n",
        "# Define the hyperparameters and their ranges\n",
        "param_grid = {\n",
        "    'penalty': ['l2'],\n",
        "    'C': np.logspace(-2, 4, 7),  # Range from 0.001 to 1000 for C\n",
        "    'solver': ['liblinear', 'newton-cg', 'lbfgs', 'sag', 'saga'],\n",
        "    'max_iter': [50,100,200],  # Adjust as needed\n",
        "    'tol': [1e-2, 1e-1, 1],  # Adjust as needed\n",
        "    'random_state':[43]\n",
        "}\n",
        "\n",
        "# Create GridSearchCV\n",
        "grid_search = GridSearchCV(estimator=LogisticRegression(), param_grid=param_grid, cv=StratifiedKFold(n_splits=5), scoring='f1', verbose=2, n_jobs=-1)\n",
        "\n",
        "# Fit the grid search to the data\n",
        "grid_search.fit(X_train4, y_train4)\n",
        "\n",
        "print(f'Best Parameters: {grid_search.best_params_}')"
      ]
    },
    {
      "cell_type": "code",
      "execution_count": null,
      "metadata": {
        "colab": {
          "base_uri": "https://localhost:8080/"
        },
        "id": "_2dFdvgfTr87",
        "outputId": "d0e33d19-0162-4c46-c4d7-33f500f0d18e"
      },
      "outputs": [
        {
          "name": "stdout",
          "output_type": "stream",
          "text": [
            "[[14994    49]\n",
            " [ 1037   363]]\n",
            "              precision    recall  f1-score   support\n",
            "\n",
            "           0       0.94      1.00      0.97     15043\n",
            "           1       0.88      0.26      0.40      1400\n",
            "\n",
            "    accuracy                           0.93     16443\n",
            "   macro avg       0.91      0.63      0.68     16443\n",
            "weighted avg       0.93      0.93      0.92     16443\n",
            "\n"
          ]
        }
      ],
      "source": [
        "classifier = LogisticRegression(random_state = 43, C=1000, max_iter=50, penalty='l2', solver='sag', tol=0.1)\n",
        "classifier.fit(X_train4, y_train4)\n",
        "\n",
        "y_pred4 = classifier.predict(X_test4)\n",
        "\n",
        "from sklearn.metrics import confusion_matrix, f1_score, classification_report\n",
        "cm = confusion_matrix(y_test4, y_pred4)\n",
        "print(cm)\n",
        "print(classification_report(y_test4,y_pred4))"
      ]
    },
    {
      "cell_type": "code",
      "execution_count": null,
      "metadata": {
        "colab": {
          "base_uri": "https://localhost:8080/"
        },
        "id": "zrNiUZoYk5Ja",
        "outputId": "f168bb14-afd3-44aa-d4f9-aecaf42bd4cc"
      },
      "outputs": [
        {
          "name": "stdout",
          "output_type": "stream",
          "text": [
            "Fitting 5 folds for each of 315 candidates, totalling 1575 fits\n",
            "Best Parameters: {'C': 10.0, 'max_iter': 50, 'penalty': 'l2', 'random_state': 43, 'solver': 'sag', 'tol': 0.1}\n"
          ]
        }
      ],
      "source": [
        "#Grid Search\n",
        "# Define the hyperparameters and their ranges\n",
        "param_grid = {\n",
        "    'penalty': ['l2'],\n",
        "    'C': np.logspace(-2, 4, 7),  # Range from 0.001 to 1000 for C\n",
        "    'solver': ['liblinear', 'newton-cg', 'lbfgs', 'sag', 'saga'],\n",
        "    'max_iter': [50,100,200],  # Adjust as needed\n",
        "    'tol': [1e-2, 1e-1, 1],  # Adjust as needed\n",
        "    'random_state':[43]\n",
        "}\n",
        "\n",
        "# Create GridSearchCV\n",
        "grid_search = GridSearchCV(estimator=LogisticRegression(), param_grid=param_grid, cv=StratifiedKFold(n_splits=5), scoring='f1', verbose=2, n_jobs=-1)\n",
        "\n",
        "# Fit the grid search to the data\n",
        "grid_search.fit(X_train5, y_train5)\n",
        "\n",
        "print(f'Best Parameters: {grid_search.best_params_}')"
      ]
    },
    {
      "cell_type": "code",
      "execution_count": null,
      "metadata": {
        "colab": {
          "base_uri": "https://localhost:8080/"
        },
        "id": "P_H9oJoXk_GZ",
        "outputId": "3c600467-aeb9-40d3-c3e4-62ccb4794f8b"
      },
      "outputs": [
        {
          "name": "stdout",
          "output_type": "stream",
          "text": [
            "[[14808   235]\n",
            " [  973   427]]\n",
            "              precision    recall  f1-score   support\n",
            "\n",
            "           0       0.94      0.98      0.96     15043\n",
            "           1       0.65      0.30      0.41      1400\n",
            "\n",
            "    accuracy                           0.93     16443\n",
            "   macro avg       0.79      0.64      0.69     16443\n",
            "weighted avg       0.91      0.93      0.91     16443\n",
            "\n"
          ]
        }
      ],
      "source": [
        "classifier = LogisticRegression(random_state = 43, C=10, max_iter=50, penalty='l2', solver='sag', tol=0.1)\n",
        "classifier.fit(X_train5, y_train5)\n",
        "\n",
        "y_pred5 = classifier.predict(X_test5)\n",
        "\n",
        "from sklearn.metrics import confusion_matrix, f1_score, classification_report\n",
        "cm = confusion_matrix(y_test5, y_pred5)\n",
        "print(cm)\n",
        "print(classification_report(y_test5,y_pred5))"
      ]
    },
    {
      "cell_type": "markdown",
      "metadata": {
        "id": "HMvF0fuzvysX"
      },
      "source": [
        "##Logistic Regression 4x Oversampling with SMOTE"
      ]
    },
    {
      "cell_type": "code",
      "execution_count": null,
      "metadata": {
        "id": "bLDPyz1Tv2H0"
      },
      "outputs": [],
      "source": [
        "from imblearn.over_sampling import SMOTE\n",
        "\n",
        "smote = SMOTE(random_state=43)\n",
        "X_res1, y_res1 = smote.fit_resample(X_train1,y_train1)\n",
        "\n",
        "X_res1 = pd.DataFrame(X_res1)\n",
        "#y_res1 = pd.DataFrame(y_res1)\n",
        "\n",
        "smote = SMOTE(random_state=43)\n",
        "X_res2, y_res2 = smote.fit_resample(X_train2,y_train2)\n",
        "\n",
        "X_res2 = pd.DataFrame(X_res2)\n",
        "#y_res2 = pd.DataFrame(y_res2)\n",
        "\n",
        "smote = SMOTE(random_state=43)\n",
        "X_res3, y_res3 = smote.fit_resample(X_train3,y_train3)\n",
        "\n",
        "X_res3 = pd.DataFrame(X_res3)\n",
        "#y_res3 = pd.DataFrame(y_res3)\n",
        "\n",
        "smote = SMOTE(random_state=43)\n",
        "X_res4, y_res4 = smote.fit_resample(X_train4,y_train4)\n",
        "\n",
        "X_res4 = pd.DataFrame(X_res4)\n",
        "#y_res4 = pd.DataFrame(y_res4)\n",
        "\n",
        "smote = SMOTE(random_state=43)\n",
        "X_res5, y_res5 = smote.fit_resample(X_train5,y_train5)\n",
        "\n",
        "X_res5 = pd.DataFrame(X_res5)\n",
        "#y_res5 = pd.DataFrame(y_res5)"
      ]
    },
    {
      "cell_type": "code",
      "execution_count": null,
      "metadata": {
        "colab": {
          "base_uri": "https://localhost:8080/"
        },
        "id": "kvIwR86mXwSM",
        "outputId": "3f16d8c6-9536-4bab-dd8a-5d172fa3029c"
      },
      "outputs": [
        {
          "output_type": "stream",
          "name": "stdout",
          "text": [
            "[[12137  2906]\n",
            " [  380  1020]]\n",
            "              precision    recall  f1-score   support\n",
            "\n",
            "           0       0.97      0.81      0.88     15043\n",
            "           1       0.26      0.73      0.38      1400\n",
            "\n",
            "    accuracy                           0.80     16443\n",
            "   macro avg       0.61      0.77      0.63     16443\n",
            "weighted avg       0.91      0.80      0.84     16443\n",
            "\n"
          ]
        }
      ],
      "source": [
        "classifier = LogisticRegression(random_state = 43, C=10000, max_iter=50, penalty='l2', solver='sag', tol=0.1)\n",
        "classifier.fit(X_res1, y_res1)\n",
        "\n",
        "y_pred1 = classifier.predict(X_test1)\n",
        "\n",
        "from sklearn.metrics import confusion_matrix, f1_score, classification_report\n",
        "cm = confusion_matrix(y_test1, y_pred1)\n",
        "print(cm)\n",
        "print(classification_report(y_test1,y_pred1))"
      ]
    },
    {
      "cell_type": "code",
      "execution_count": null,
      "metadata": {
        "colab": {
          "base_uri": "https://localhost:8080/"
        },
        "id": "ZaMvoq1nYiqf",
        "outputId": "4476d544-2c64-4cea-fd98-86b30ceaf96e"
      },
      "outputs": [
        {
          "name": "stdout",
          "output_type": "stream",
          "text": [
            "[[8556 6487]\n",
            " [  87 1313]]\n",
            "              precision    recall  f1-score   support\n",
            "\n",
            "           0       0.99      0.57      0.72     15043\n",
            "           1       0.17      0.94      0.29      1400\n",
            "\n",
            "    accuracy                           0.60     16443\n",
            "   macro avg       0.58      0.75      0.50     16443\n",
            "weighted avg       0.92      0.60      0.69     16443\n",
            "\n"
          ]
        }
      ],
      "source": [
        "classifier = LogisticRegression(random_state = 43, C=100, max_iter=50, penalty='l2', solver='sag', tol=0.1)\n",
        "classifier.fit(X_res2, y_res2)\n",
        "\n",
        "y_pred2 = classifier.predict(X_test2)\n",
        "\n",
        "from sklearn.metrics import confusion_matrix, f1_score, classification_report\n",
        "cm = confusion_matrix(y_test2, y_pred2)\n",
        "print(cm)\n",
        "print(classification_report(y_test2,y_pred2))"
      ]
    },
    {
      "cell_type": "code",
      "execution_count": null,
      "metadata": {
        "colab": {
          "base_uri": "https://localhost:8080/"
        },
        "id": "RQuoujx4Yiqg",
        "outputId": "9165634b-c0b9-42bf-f140-2bd3f8a414cc"
      },
      "outputs": [
        {
          "name": "stdout",
          "output_type": "stream",
          "text": [
            "[[13868  1175]\n",
            " [  716   684]]\n",
            "              precision    recall  f1-score   support\n",
            "\n",
            "           0       0.95      0.92      0.94     15043\n",
            "           1       0.37      0.49      0.42      1400\n",
            "\n",
            "    accuracy                           0.88     16443\n",
            "   macro avg       0.66      0.71      0.68     16443\n",
            "weighted avg       0.90      0.88      0.89     16443\n",
            "\n"
          ]
        }
      ],
      "source": [
        "classifier = LogisticRegression(random_state = 43, C=10000, max_iter=50, penalty='l2', solver='sag', tol=0.1)\n",
        "classifier.fit(X_res3, y_res3)\n",
        "\n",
        "y_pred3 = classifier.predict(X_test3)\n",
        "\n",
        "from sklearn.metrics import confusion_matrix, f1_score, classification_report\n",
        "cm = confusion_matrix(y_test3, y_pred3)\n",
        "print(cm)\n",
        "print(classification_report(y_test3,y_pred3))"
      ]
    },
    {
      "cell_type": "code",
      "execution_count": null,
      "metadata": {
        "colab": {
          "base_uri": "https://localhost:8080/"
        },
        "id": "aNk6seJMYiqg",
        "outputId": "fb519533-1105-441a-fb5a-10e46a7967be"
      },
      "outputs": [
        {
          "name": "stdout",
          "output_type": "stream",
          "text": [
            "[[12058  2985]\n",
            " [  371  1029]]\n",
            "              precision    recall  f1-score   support\n",
            "\n",
            "           0       0.97      0.80      0.88     15043\n",
            "           1       0.26      0.73      0.38      1400\n",
            "\n",
            "    accuracy                           0.80     16443\n",
            "   macro avg       0.61      0.77      0.63     16443\n",
            "weighted avg       0.91      0.80      0.84     16443\n",
            "\n"
          ]
        }
      ],
      "source": [
        "classifier = LogisticRegression(random_state = 43, C=1000, max_iter=50, penalty='l2', solver='sag', tol=0.1)\n",
        "classifier.fit(X_res4, y_res4)\n",
        "\n",
        "y_pred4 = classifier.predict(X_test4)\n",
        "\n",
        "from sklearn.metrics import confusion_matrix, f1_score, classification_report\n",
        "cm = confusion_matrix(y_test4, y_pred4)\n",
        "print(cm)\n",
        "print(classification_report(y_test4,y_pred4))"
      ]
    },
    {
      "cell_type": "code",
      "execution_count": null,
      "metadata": {
        "colab": {
          "base_uri": "https://localhost:8080/"
        },
        "id": "6qhC4ZhLqn7d",
        "outputId": "6eac4b0f-3770-4b7c-efb3-d9d5ee1d43b6"
      },
      "outputs": [
        {
          "name": "stdout",
          "output_type": "stream",
          "text": [
            "[[11461  3582]\n",
            " [  293  1107]]\n",
            "              precision    recall  f1-score   support\n",
            "\n",
            "           0       0.98      0.76      0.86     15043\n",
            "           1       0.24      0.79      0.36      1400\n",
            "\n",
            "    accuracy                           0.76     16443\n",
            "   macro avg       0.61      0.78      0.61     16443\n",
            "weighted avg       0.91      0.76      0.81     16443\n",
            "\n"
          ]
        }
      ],
      "source": [
        "classifier = LogisticRegression(random_state = 43, C=10, max_iter=50, penalty='l2', solver='sag', tol=0.1)\n",
        "classifier.fit(X_res5, y_res5)\n",
        "\n",
        "y_pred5 = classifier.predict(X_test5)\n",
        "\n",
        "from sklearn.metrics import confusion_matrix, f1_score, classification_report\n",
        "cm = confusion_matrix(y_test5, y_pred5)\n",
        "print(cm)\n",
        "print(classification_report(y_test5,y_pred5))"
      ]
    },
    {
      "cell_type": "markdown",
      "source": [
        "##LR with ROS"
      ],
      "metadata": {
        "id": "9sWxsSZkSvfV"
      }
    },
    {
      "cell_type": "code",
      "source": [
        "from imblearn.over_sampling import RandomOverSampler\n",
        "ros = RandomOverSampler(random_state=43)\n",
        "\n",
        "X_res1, y_res1 = ros.fit_resample(X_train1,y_train1)\n",
        "\n",
        "X_res1 = pd.DataFrame(X_res1)\n",
        "#y_res1 = pd.DataFrame(y_res1)\n",
        "\n",
        "ros = RandomOverSampler(random_state=43)\n",
        "X_res2, y_res2 = ros.fit_resample(X_train2,y_train2)\n",
        "\n",
        "X_res2 = pd.DataFrame(X_res2)\n",
        "#y_res2 = pd.DataFrame(y_res2)\n",
        "\n",
        "ros = RandomOverSampler(random_state=43)\n",
        "X_res3, y_res3 = ros.fit_resample(X_train3,y_train3)\n",
        "\n",
        "X_res3 = pd.DataFrame(X_res3)\n",
        "#y_res3 = pd.DataFrame(y_res3)\n",
        "\n",
        "ros = RandomOverSampler(random_state=43)\n",
        "X_res4, y_res4 = ros.fit_resample(X_train4,y_train4)\n",
        "\n",
        "X_res4 = pd.DataFrame(X_res4)\n",
        "#y_res4 = pd.DataFrame(y_res4)\n",
        "\n",
        "ros = RandomOverSampler(random_state=43)\n",
        "X_res5, y_res5 = ros.fit_resample(X_train5,y_train5)\n",
        "\n",
        "X_res5 = pd.DataFrame(X_res5)\n",
        "#y_res5 = pd.DataFrame(y_res5)"
      ],
      "metadata": {
        "id": "IMk9kzJcSuzz"
      },
      "execution_count": null,
      "outputs": []
    },
    {
      "cell_type": "code",
      "execution_count": null,
      "metadata": {
        "colab": {
          "base_uri": "https://localhost:8080/"
        },
        "outputId": "dfcfbf2d-ef84-4b3f-8214-fbe77171ab0a",
        "id": "bscHZLMdTUBW"
      },
      "outputs": [
        {
          "output_type": "stream",
          "name": "stdout",
          "text": [
            "[[10436  4607]\n",
            " [  154  1246]]\n",
            "              precision    recall  f1-score   support\n",
            "\n",
            "           0       0.99      0.69      0.81     15043\n",
            "           1       0.21      0.89      0.34      1400\n",
            "\n",
            "    accuracy                           0.71     16443\n",
            "   macro avg       0.60      0.79      0.58     16443\n",
            "weighted avg       0.92      0.71      0.77     16443\n",
            "\n"
          ]
        }
      ],
      "source": [
        "classifier = LogisticRegression(random_state = 43, C=10000, max_iter=50, penalty='l2', solver='sag', tol=0.1)\n",
        "classifier.fit(X_res1, y_res1)\n",
        "\n",
        "y_pred1 = classifier.predict(X_test1)\n",
        "\n",
        "from sklearn.metrics import confusion_matrix, f1_score, classification_report\n",
        "cm = confusion_matrix(y_test1, y_pred1)\n",
        "print(cm)\n",
        "print(classification_report(y_test1,y_pred1))"
      ]
    },
    {
      "cell_type": "code",
      "execution_count": null,
      "metadata": {
        "colab": {
          "base_uri": "https://localhost:8080/"
        },
        "outputId": "7002274e-d156-430b-b0ca-fde24ac6c90c",
        "id": "3y2Dt95iTUBZ"
      },
      "outputs": [
        {
          "output_type": "stream",
          "name": "stdout",
          "text": [
            "[[13171  1872]\n",
            " [  569   831]]\n",
            "              precision    recall  f1-score   support\n",
            "\n",
            "           0       0.96      0.88      0.92     15043\n",
            "           1       0.31      0.59      0.41      1400\n",
            "\n",
            "    accuracy                           0.85     16443\n",
            "   macro avg       0.63      0.73      0.66     16443\n",
            "weighted avg       0.90      0.85      0.87     16443\n",
            "\n"
          ]
        }
      ],
      "source": [
        "classifier = LogisticRegression(random_state = 43, C=100, max_iter=50, penalty='l2', solver='sag', tol=0.1)\n",
        "classifier.fit(X_res2, y_res2)\n",
        "\n",
        "y_pred2 = classifier.predict(X_test2)\n",
        "\n",
        "from sklearn.metrics import confusion_matrix, f1_score, classification_report\n",
        "cm = confusion_matrix(y_test2, y_pred2)\n",
        "print(cm)\n",
        "print(classification_report(y_test2,y_pred2))"
      ]
    },
    {
      "cell_type": "code",
      "execution_count": null,
      "metadata": {
        "colab": {
          "base_uri": "https://localhost:8080/"
        },
        "outputId": "c9558154-85bc-47f6-9ee2-fcddd96a11aa",
        "id": "OI-OLFFeTUBb"
      },
      "outputs": [
        {
          "output_type": "stream",
          "name": "stdout",
          "text": [
            "[[12072  2971]\n",
            " [  368  1032]]\n",
            "              precision    recall  f1-score   support\n",
            "\n",
            "           0       0.97      0.80      0.88     15043\n",
            "           1       0.26      0.74      0.38      1400\n",
            "\n",
            "    accuracy                           0.80     16443\n",
            "   macro avg       0.61      0.77      0.63     16443\n",
            "weighted avg       0.91      0.80      0.84     16443\n",
            "\n"
          ]
        }
      ],
      "source": [
        "classifier = LogisticRegression(random_state = 43, C=10000, max_iter=50, penalty='l2', solver='sag', tol=0.1)\n",
        "classifier.fit(X_res3, y_res3)\n",
        "\n",
        "y_pred3 = classifier.predict(X_test3)\n",
        "\n",
        "from sklearn.metrics import confusion_matrix, f1_score, classification_report\n",
        "cm = confusion_matrix(y_test3, y_pred3)\n",
        "print(cm)\n",
        "print(classification_report(y_test3,y_pred3))"
      ]
    },
    {
      "cell_type": "code",
      "execution_count": null,
      "metadata": {
        "colab": {
          "base_uri": "https://localhost:8080/"
        },
        "outputId": "457b6736-a9cc-45dc-ad0f-2d45ab55b28b",
        "id": "hkEp-5PWTUBc"
      },
      "outputs": [
        {
          "output_type": "stream",
          "name": "stdout",
          "text": [
            "[[13154  1889]\n",
            " [  610   790]]\n",
            "              precision    recall  f1-score   support\n",
            "\n",
            "           0       0.96      0.87      0.91     15043\n",
            "           1       0.29      0.56      0.39      1400\n",
            "\n",
            "    accuracy                           0.85     16443\n",
            "   macro avg       0.63      0.72      0.65     16443\n",
            "weighted avg       0.90      0.85      0.87     16443\n",
            "\n"
          ]
        }
      ],
      "source": [
        "classifier = LogisticRegression(random_state = 43, C=1000, max_iter=50, penalty='l2', solver='sag', tol=0.1)\n",
        "classifier.fit(X_res4, y_res4)\n",
        "\n",
        "y_pred4 = classifier.predict(X_test4)\n",
        "\n",
        "from sklearn.metrics import confusion_matrix, f1_score, classification_report\n",
        "cm = confusion_matrix(y_test4, y_pred4)\n",
        "print(cm)\n",
        "print(classification_report(y_test4,y_pred4))"
      ]
    },
    {
      "cell_type": "markdown",
      "source": [
        "##LR 4x with ADASYN"
      ],
      "metadata": {
        "id": "e_QZ-ICcmlsp"
      }
    },
    {
      "cell_type": "code",
      "source": [
        "from sklearn.linear_model import LogisticRegression"
      ],
      "metadata": {
        "id": "bohgIqhenWS7"
      },
      "execution_count": null,
      "outputs": []
    },
    {
      "cell_type": "code",
      "source": [
        "from imblearn.over_sampling import ADASYN\n",
        "\n",
        "adasyn = ADASYN(random_state=43)\n",
        "X_res1, y_res1 = adasyn.fit_resample(X_train1,y_train1)\n",
        "\n",
        "X_res1 = pd.DataFrame(X_res1)\n",
        "#y_res1 = pd.DataFrame(y_res1)\n",
        "\n",
        "adasyn = ADASYN(random_state=43)\n",
        "X_res2, y_res2 = adasyn.fit_resample(X_train2,y_train2)\n",
        "\n",
        "X_res2 = pd.DataFrame(X_res2)\n",
        "#y_res2 = pd.DataFrame(y_res2)\n",
        "\n",
        "adasyn = ADASYN(random_state=43)\n",
        "X_res3, y_res3 = adasyn.fit_resample(X_train3,y_train3)\n",
        "\n",
        "X_res3 = pd.DataFrame(X_res3)\n",
        "#y_res3 = pd.DataFrame(y_res3)\n",
        "\n",
        "adasyn = ADASYN(random_state=43)\n",
        "X_res4, y_res4 = adasyn.fit_resample(X_train4,y_train4)\n",
        "\n",
        "X_res4 = pd.DataFrame(X_res4)\n",
        "#y_res4 = pd.DataFrame(y_res4)\n",
        "\n",
        "adasyn = ADASYN(random_state=43)\n",
        "X_res5, y_res5 = adasyn.fit_resample(X_train5,y_train5)\n",
        "\n",
        "X_res5 = pd.DataFrame(X_res5)\n",
        "#y_res5 = pd.DataFrame(y_res5)"
      ],
      "metadata": {
        "id": "XHqMi6BSmoJ8"
      },
      "execution_count": null,
      "outputs": []
    },
    {
      "cell_type": "code",
      "execution_count": null,
      "metadata": {
        "colab": {
          "base_uri": "https://localhost:8080/"
        },
        "outputId": "9fec5441-5b37-4320-b0a6-fbfbf01f2313",
        "id": "WsrvJXsBmsZE"
      },
      "outputs": [
        {
          "output_type": "stream",
          "name": "stdout",
          "text": [
            "[[12291  2752]\n",
            " [  398  1002]]\n",
            "              precision    recall  f1-score   support\n",
            "\n",
            "           0       0.97      0.82      0.89     15043\n",
            "           1       0.27      0.72      0.39      1400\n",
            "\n",
            "    accuracy                           0.81     16443\n",
            "   macro avg       0.62      0.77      0.64     16443\n",
            "weighted avg       0.91      0.81      0.84     16443\n",
            "\n"
          ]
        }
      ],
      "source": [
        "classifier = LogisticRegression(random_state = 43, C=10000, max_iter=50, penalty='l2', solver='sag', tol=0.1)\n",
        "classifier.fit(X_res1, y_res1)\n",
        "\n",
        "y_pred1 = classifier.predict(X_test1)\n",
        "\n",
        "from sklearn.metrics import confusion_matrix, f1_score, classification_report\n",
        "cm = confusion_matrix(y_test1, y_pred1)\n",
        "print(cm)\n",
        "print(classification_report(y_test1,y_pred1))"
      ]
    },
    {
      "cell_type": "code",
      "execution_count": null,
      "metadata": {
        "colab": {
          "base_uri": "https://localhost:8080/"
        },
        "outputId": "3ab51fba-18bc-4da6-85b5-1e662e39b780",
        "id": "zr8B5NV8msZt"
      },
      "outputs": [
        {
          "output_type": "stream",
          "name": "stdout",
          "text": [
            "[[10848  4195]\n",
            " [  263  1137]]\n",
            "              precision    recall  f1-score   support\n",
            "\n",
            "           0       0.98      0.72      0.83     15043\n",
            "           1       0.21      0.81      0.34      1400\n",
            "\n",
            "    accuracy                           0.73     16443\n",
            "   macro avg       0.59      0.77      0.58     16443\n",
            "weighted avg       0.91      0.73      0.79     16443\n",
            "\n"
          ]
        }
      ],
      "source": [
        "classifier = LogisticRegression(random_state = 43, C=100, max_iter=50, penalty='l2', solver='sag', tol=0.1)\n",
        "classifier.fit(X_res2, y_res2)\n",
        "\n",
        "y_pred2 = classifier.predict(X_test2)\n",
        "\n",
        "from sklearn.metrics import confusion_matrix, f1_score, classification_report\n",
        "cm = confusion_matrix(y_test2, y_pred2)\n",
        "print(cm)\n",
        "print(classification_report(y_test2,y_pred2))"
      ]
    },
    {
      "cell_type": "code",
      "execution_count": null,
      "metadata": {
        "colab": {
          "base_uri": "https://localhost:8080/"
        },
        "outputId": "2a1fdbd4-73ab-4bd7-eaaf-1242a040b4fc",
        "id": "LuAbyzmimsZv"
      },
      "outputs": [
        {
          "output_type": "stream",
          "name": "stdout",
          "text": [
            "[[11601  3442]\n",
            " [  333  1067]]\n",
            "              precision    recall  f1-score   support\n",
            "\n",
            "           0       0.97      0.77      0.86     15043\n",
            "           1       0.24      0.76      0.36      1400\n",
            "\n",
            "    accuracy                           0.77     16443\n",
            "   macro avg       0.60      0.77      0.61     16443\n",
            "weighted avg       0.91      0.77      0.82     16443\n",
            "\n"
          ]
        }
      ],
      "source": [
        "classifier = LogisticRegression(random_state = 43, C=10000, max_iter=50, penalty='l2', solver='sag', tol=0.1)\n",
        "classifier.fit(X_res3, y_res3)\n",
        "\n",
        "y_pred3 = classifier.predict(X_test3)\n",
        "\n",
        "from sklearn.metrics import confusion_matrix, f1_score, classification_report\n",
        "cm = confusion_matrix(y_test3, y_pred3)\n",
        "print(cm)\n",
        "print(classification_report(y_test3,y_pred3))"
      ]
    },
    {
      "cell_type": "code",
      "execution_count": null,
      "metadata": {
        "colab": {
          "base_uri": "https://localhost:8080/"
        },
        "outputId": "787cc081-17ad-45a6-faf4-12f1a2b48e07",
        "id": "C45TF2Q9msZw"
      },
      "outputs": [
        {
          "output_type": "stream",
          "name": "stdout",
          "text": [
            "[[11159  3884]\n",
            " [  234  1166]]\n",
            "              precision    recall  f1-score   support\n",
            "\n",
            "           0       0.98      0.74      0.84     15043\n",
            "           1       0.23      0.83      0.36      1400\n",
            "\n",
            "    accuracy                           0.75     16443\n",
            "   macro avg       0.61      0.79      0.60     16443\n",
            "weighted avg       0.92      0.75      0.80     16443\n",
            "\n"
          ]
        }
      ],
      "source": [
        "classifier = LogisticRegression(random_state = 43, C=1000, max_iter=50, penalty='l2', solver='sag', tol=0.1)\n",
        "classifier.fit(X_res4, y_res4)\n",
        "\n",
        "y_pred4 = classifier.predict(X_test4)\n",
        "\n",
        "from sklearn.metrics import confusion_matrix, f1_score, classification_report\n",
        "cm = confusion_matrix(y_test4, y_pred4)\n",
        "print(cm)\n",
        "print(classification_report(y_test4,y_pred4))"
      ]
    },
    {
      "cell_type": "markdown",
      "source": [
        "##LR 4x with RUS"
      ],
      "metadata": {
        "id": "19r2YGWzqV9u"
      }
    },
    {
      "cell_type": "code",
      "source": [
        "from sklearn.linear_model import LogisticRegression"
      ],
      "metadata": {
        "id": "IhDOzF-sqcMj"
      },
      "execution_count": null,
      "outputs": []
    },
    {
      "cell_type": "code",
      "source": [
        "from imblearn.under_sampling import RandomUnderSampler\n",
        "\n",
        "rus = RandomUnderSampler(random_state=43)\n",
        "X_res1, y_res1 = rus.fit_resample(X_train1,y_train1)\n",
        "\n",
        "X_res1 = pd.DataFrame(X_res1)\n",
        "#y_res1 = pd.DataFrame(y_res1)\n",
        "\n",
        "rus = RandomUnderSampler(random_state=43)\n",
        "X_res2, y_res2 = rus.fit_resample(X_train2,y_train2)\n",
        "\n",
        "X_res2 = pd.DataFrame(X_res2)\n",
        "#y_res2 = pd.DataFrame(y_res2)\n",
        "\n",
        "rus = RandomUnderSampler(random_state=43)\n",
        "X_res3, y_res3 = rus.fit_resample(X_train3,y_train3)\n",
        "\n",
        "X_res3 = pd.DataFrame(X_res3)\n",
        "#y_res3 = pd.DataFrame(y_res3)\n",
        "\n",
        "rus = RandomUnderSampler(random_state=43)\n",
        "X_res4, y_res4 = rus.fit_resample(X_train4,y_train4)\n",
        "\n",
        "X_res4 = pd.DataFrame(X_res4)\n",
        "#y_res4 = pd.DataFrame(y_res4)\n",
        "\n",
        "rus = RandomUnderSampler(random_state=43)\n",
        "X_res5, y_res5 = rus.fit_resample(X_train5,y_train5)\n",
        "\n",
        "X_res5 = pd.DataFrame(X_res5)\n",
        "#y_res5 = pd.DataFrame(y_res5)"
      ],
      "metadata": {
        "id": "Sp5Fpk1dqbDa"
      },
      "execution_count": null,
      "outputs": []
    },
    {
      "cell_type": "code",
      "execution_count": null,
      "metadata": {
        "colab": {
          "base_uri": "https://localhost:8080/"
        },
        "outputId": "476c2980-52d6-495a-cff7-b64cda436655",
        "id": "Hctpb4YSqgBD"
      },
      "outputs": [
        {
          "output_type": "stream",
          "name": "stdout",
          "text": [
            "[[12276  2767]\n",
            " [  412   988]]\n",
            "              precision    recall  f1-score   support\n",
            "\n",
            "           0       0.97      0.82      0.89     15043\n",
            "           1       0.26      0.71      0.38      1400\n",
            "\n",
            "    accuracy                           0.81     16443\n",
            "   macro avg       0.62      0.76      0.63     16443\n",
            "weighted avg       0.91      0.81      0.84     16443\n",
            "\n"
          ]
        }
      ],
      "source": [
        "classifier = LogisticRegression(random_state = 43, C=10000, max_iter=50, penalty='l2', solver='sag', tol=0.1)\n",
        "classifier.fit(X_res1, y_res1)\n",
        "\n",
        "y_pred1 = classifier.predict(X_test1)\n",
        "\n",
        "from sklearn.metrics import confusion_matrix, f1_score, classification_report\n",
        "cm = confusion_matrix(y_test1, y_pred1)\n",
        "print(cm)\n",
        "print(classification_report(y_test1,y_pred1))"
      ]
    },
    {
      "cell_type": "code",
      "execution_count": null,
      "metadata": {
        "colab": {
          "base_uri": "https://localhost:8080/"
        },
        "outputId": "d91886c0-0c16-41ff-ffa9-95a032ddf93b",
        "id": "Q_X38VekqgBn"
      },
      "outputs": [
        {
          "output_type": "stream",
          "name": "stdout",
          "text": [
            "[[11690  3353]\n",
            " [  320  1080]]\n",
            "              precision    recall  f1-score   support\n",
            "\n",
            "           0       0.97      0.78      0.86     15043\n",
            "           1       0.24      0.77      0.37      1400\n",
            "\n",
            "    accuracy                           0.78     16443\n",
            "   macro avg       0.61      0.77      0.62     16443\n",
            "weighted avg       0.91      0.78      0.82     16443\n",
            "\n"
          ]
        }
      ],
      "source": [
        "classifier = LogisticRegression(random_state = 43, C=100, max_iter=50, penalty='l2', solver='sag', tol=0.1)\n",
        "classifier.fit(X_res2, y_res2)\n",
        "\n",
        "y_pred2 = classifier.predict(X_test2)\n",
        "\n",
        "from sklearn.metrics import confusion_matrix, f1_score, classification_report\n",
        "cm = confusion_matrix(y_test2, y_pred2)\n",
        "print(cm)\n",
        "print(classification_report(y_test2,y_pred2))"
      ]
    },
    {
      "cell_type": "code",
      "execution_count": null,
      "metadata": {
        "colab": {
          "base_uri": "https://localhost:8080/"
        },
        "outputId": "e68842a6-9c59-48f2-ff73-4cf4d17a6312",
        "id": "I5iN71JCqgBo"
      },
      "outputs": [
        {
          "output_type": "stream",
          "name": "stdout",
          "text": [
            "[[11773  3270]\n",
            " [  336  1064]]\n",
            "              precision    recall  f1-score   support\n",
            "\n",
            "           0       0.97      0.78      0.87     15043\n",
            "           1       0.25      0.76      0.37      1400\n",
            "\n",
            "    accuracy                           0.78     16443\n",
            "   macro avg       0.61      0.77      0.62     16443\n",
            "weighted avg       0.91      0.78      0.82     16443\n",
            "\n"
          ]
        }
      ],
      "source": [
        "classifier = LogisticRegression(random_state = 43, C=10000, max_iter=50, penalty='l2', solver='sag', tol=0.1)\n",
        "classifier.fit(X_res3, y_res3)\n",
        "\n",
        "y_pred3 = classifier.predict(X_test3)\n",
        "\n",
        "from sklearn.metrics import confusion_matrix, f1_score, classification_report\n",
        "cm = confusion_matrix(y_test3, y_pred3)\n",
        "print(cm)\n",
        "print(classification_report(y_test3,y_pred3))"
      ]
    },
    {
      "cell_type": "code",
      "execution_count": null,
      "metadata": {
        "colab": {
          "base_uri": "https://localhost:8080/"
        },
        "outputId": "f93b3de7-308d-4bc8-8618-42948ff5842a",
        "id": "M6rsBwFIqgBp"
      },
      "outputs": [
        {
          "output_type": "stream",
          "name": "stdout",
          "text": [
            "[[12800  2243]\n",
            " [  482   918]]\n",
            "              precision    recall  f1-score   support\n",
            "\n",
            "           0       0.96      0.85      0.90     15043\n",
            "           1       0.29      0.66      0.40      1400\n",
            "\n",
            "    accuracy                           0.83     16443\n",
            "   macro avg       0.63      0.75      0.65     16443\n",
            "weighted avg       0.91      0.83      0.86     16443\n",
            "\n"
          ]
        }
      ],
      "source": [
        "classifier = LogisticRegression(random_state = 43, C=1000, max_iter=50, penalty='l2', solver='sag', tol=0.1)\n",
        "classifier.fit(X_res4, y_res4)\n",
        "\n",
        "y_pred4 = classifier.predict(X_test4)\n",
        "\n",
        "from sklearn.metrics import confusion_matrix, f1_score, classification_report\n",
        "cm = confusion_matrix(y_test4, y_pred4)\n",
        "print(cm)\n",
        "print(classification_report(y_test4,y_pred4))"
      ]
    },
    {
      "cell_type": "markdown",
      "source": [
        "##LR 4x with NCR US"
      ],
      "metadata": {
        "id": "pVSDtMA7z9lk"
      }
    },
    {
      "cell_type": "code",
      "source": [
        "from sklearn.linear_model import LogisticRegression"
      ],
      "metadata": {
        "id": "GSq5GkQz0h5Z"
      },
      "execution_count": null,
      "outputs": []
    },
    {
      "cell_type": "code",
      "source": [
        "from imblearn.under_sampling import NeighbourhoodCleaningRule\n",
        "\n",
        "ncr = NeighbourhoodCleaningRule(n_neighbors=5)\n",
        "X_res1, y_res1 = ncr.fit_resample(X_train1,y_train1)\n",
        "\n",
        "X_res1 = pd.DataFrame(X_res1)\n",
        "#y_res1 = pd.DataFrame(y_res1)\n",
        "\n",
        "ncr = NeighbourhoodCleaningRule(n_neighbors=3)\n",
        "X_res2, y_res2 = ncr.fit_resample(X_train2,y_train2)\n",
        "\n",
        "X_res2 = pd.DataFrame(X_res2)\n",
        "#y_res2 = pd.DataFrame(y_res2)\n",
        "\n",
        "ncr = NeighbourhoodCleaningRule(n_neighbors=3)\n",
        "X_res3, y_res3 = ncr.fit_resample(X_train3,y_train3)\n",
        "\n",
        "X_res3 = pd.DataFrame(X_res3)\n",
        "#y_res3 = pd.DataFrame(y_res3)\n",
        "\n",
        "ncr = NeighbourhoodCleaningRule(n_neighbors=3)\n",
        "X_res4, y_res4 = ncr.fit_resample(X_train4,y_train4)\n",
        "\n",
        "X_res4 = pd.DataFrame(X_res4)\n",
        "#y_res4 = pd.DataFrame(y_res4)\n",
        "\n",
        "#ncr = NeighbourhoodCleaningRule(n_neighbors=3)\n",
        "#X_res5, y_res5 = ncr.fit_resample(X_train5,y_train5)\n",
        "\n",
        "#X_res5 = pd.DataFrame(X_res5)\n",
        "#y_res5 = pd.DataFrame(y_res5)"
      ],
      "metadata": {
        "id": "B5SgWBTM0BAK"
      },
      "execution_count": null,
      "outputs": []
    },
    {
      "cell_type": "code",
      "execution_count": null,
      "metadata": {
        "colab": {
          "base_uri": "https://localhost:8080/"
        },
        "outputId": "ac52da62-e817-404e-fd33-9ff03d4170f0",
        "id": "SLfOF_7c0h5b"
      },
      "outputs": [
        {
          "output_type": "stream",
          "name": "stdout",
          "text": [
            "[[14194   849]\n",
            " [  788   612]]\n",
            "              precision    recall  f1-score   support\n",
            "\n",
            "           0       0.95      0.94      0.95     15043\n",
            "           1       0.42      0.44      0.43      1400\n",
            "\n",
            "    accuracy                           0.90     16443\n",
            "   macro avg       0.68      0.69      0.69     16443\n",
            "weighted avg       0.90      0.90      0.90     16443\n",
            "\n"
          ]
        }
      ],
      "source": [
        "classifier = LogisticRegression(random_state = 43, C=10000, max_iter=50, penalty='l2', solver='sag', tol=0.1)\n",
        "classifier.fit(X_res1, y_res1)\n",
        "\n",
        "y_pred1 = classifier.predict(X_test1)\n",
        "\n",
        "from sklearn.metrics import confusion_matrix, f1_score, classification_report\n",
        "cm = confusion_matrix(y_test1, y_pred1)\n",
        "print(cm)\n",
        "print(classification_report(y_test1,y_pred1))"
      ]
    },
    {
      "cell_type": "code",
      "execution_count": null,
      "metadata": {
        "colab": {
          "base_uri": "https://localhost:8080/"
        },
        "outputId": "2e3d61db-31d7-45d5-dd24-f7c315f8997f",
        "id": "fSXPp_h_0h5c"
      },
      "outputs": [
        {
          "output_type": "stream",
          "name": "stdout",
          "text": [
            "[[14332   711]\n",
            " [  797   603]]\n",
            "              precision    recall  f1-score   support\n",
            "\n",
            "           0       0.95      0.95      0.95     15043\n",
            "           1       0.46      0.43      0.44      1400\n",
            "\n",
            "    accuracy                           0.91     16443\n",
            "   macro avg       0.70      0.69      0.70     16443\n",
            "weighted avg       0.91      0.91      0.91     16443\n",
            "\n"
          ]
        }
      ],
      "source": [
        "classifier = LogisticRegression(random_state = 43, C=100, max_iter=50, penalty='l2', solver='sag', tol=0.1)\n",
        "classifier.fit(X_res2, y_res2)\n",
        "\n",
        "y_pred2 = classifier.predict(X_test2)\n",
        "\n",
        "from sklearn.metrics import confusion_matrix, f1_score, classification_report\n",
        "cm = confusion_matrix(y_test2, y_pred2)\n",
        "print(cm)\n",
        "print(classification_report(y_test2,y_pred2))"
      ]
    },
    {
      "cell_type": "code",
      "execution_count": null,
      "metadata": {
        "colab": {
          "base_uri": "https://localhost:8080/"
        },
        "outputId": "6399108b-5552-4150-c901-cefa6bfd3c7b",
        "id": "ALH1aTXk0h5d"
      },
      "outputs": [
        {
          "output_type": "stream",
          "name": "stdout",
          "text": [
            "[[14898   145]\n",
            " [  944   456]]\n",
            "              precision    recall  f1-score   support\n",
            "\n",
            "           0       0.94      0.99      0.96     15043\n",
            "           1       0.76      0.33      0.46      1400\n",
            "\n",
            "    accuracy                           0.93     16443\n",
            "   macro avg       0.85      0.66      0.71     16443\n",
            "weighted avg       0.92      0.93      0.92     16443\n",
            "\n"
          ]
        }
      ],
      "source": [
        "classifier = LogisticRegression(random_state = 43, C=10000, max_iter=50, penalty='l2', solver='sag', tol=0.1)\n",
        "classifier.fit(X_res3, y_res3)\n",
        "\n",
        "y_pred3 = classifier.predict(X_test3)\n",
        "\n",
        "from sklearn.metrics import confusion_matrix, f1_score, classification_report\n",
        "cm = confusion_matrix(y_test3, y_pred3)\n",
        "print(cm)\n",
        "print(classification_report(y_test3,y_pred3))"
      ]
    },
    {
      "cell_type": "code",
      "execution_count": null,
      "metadata": {
        "colab": {
          "base_uri": "https://localhost:8080/"
        },
        "outputId": "beb3b6db-3946-457d-80a4-bb85fedc3b58",
        "id": "LcXolIH_0h5e"
      },
      "outputs": [
        {
          "output_type": "stream",
          "name": "stdout",
          "text": [
            "[[14713   330]\n",
            " [  907   493]]\n",
            "              precision    recall  f1-score   support\n",
            "\n",
            "           0       0.94      0.98      0.96     15043\n",
            "           1       0.60      0.35      0.44      1400\n",
            "\n",
            "    accuracy                           0.92     16443\n",
            "   macro avg       0.77      0.67      0.70     16443\n",
            "weighted avg       0.91      0.92      0.92     16443\n",
            "\n"
          ]
        }
      ],
      "source": [
        "classifier = LogisticRegression(random_state = 43, C=1000, max_iter=50, penalty='l2', solver='sag', tol=0.1)\n",
        "classifier.fit(X_res4, y_res4)\n",
        "\n",
        "y_pred4 = classifier.predict(X_test4)\n",
        "\n",
        "from sklearn.metrics import confusion_matrix, f1_score, classification_report\n",
        "cm = confusion_matrix(y_test4, y_pred4)\n",
        "print(cm)\n",
        "print(classification_report(y_test4,y_pred4))"
      ]
    },
    {
      "cell_type": "markdown",
      "metadata": {
        "id": "5blBDq5uVA7d"
      },
      "source": [
        "##Decision Tree 4x\n",
        "\n",
        "Grid Search took ~5-8min each"
      ]
    },
    {
      "cell_type": "code",
      "execution_count": null,
      "metadata": {
        "id": "8mjuak71VAlg"
      },
      "outputs": [],
      "source": [
        "from sklearn.tree import DecisionTreeClassifier # Import Decision Tree Classifier"
      ]
    },
    {
      "cell_type": "code",
      "execution_count": null,
      "metadata": {
        "colab": {
          "base_uri": "https://localhost:8080/"
        },
        "id": "ux5z6ScLEYMG",
        "outputId": "a95a79fd-5ff6-4e5b-c766-7c25fe87a9ee"
      },
      "outputs": [
        {
          "output_type": "stream",
          "name": "stdout",
          "text": [
            "Fitting 5 folds for each of 450 candidates, totalling 2250 fits\n",
            "Best Parameters: {'criterion': 'entropy', 'max_depth': 25, 'min_samples_leaf': 9, 'min_samples_split': 2, 'random_state': 43, 'splitter': 'best'}\n"
          ]
        }
      ],
      "source": [
        "from sklearn.model_selection import GridSearchCV\n",
        "\n",
        "grid_params = {'criterion': ['gini','entropy','log_loss'],'splitter':['best','random'], 'max_depth':[25,35,45,55,None],\n",
        "              'min_samples_split': [2,4,6], 'min_samples_leaf': [1,3,5,7,9], 'random_state':[43]}\n",
        "grid_search = GridSearchCV(DecisionTreeClassifier(), param_grid=grid_params, scoring='f1', cv=StratifiedKFold(n_splits=5), verbose=2, n_jobs=-1)\n",
        "grid_search.fit(X_train1,y_train1)\n",
        "print(f'Best Parameters: {grid_search.best_params_}')"
      ]
    },
    {
      "cell_type": "code",
      "execution_count": null,
      "metadata": {
        "colab": {
          "base_uri": "https://localhost:8080/"
        },
        "id": "gkb3ta96VObL",
        "outputId": "049ea8e1-f37d-4032-a31c-cf51c79b1a90"
      },
      "outputs": [
        {
          "output_type": "stream",
          "name": "stdout",
          "text": [
            "Confusion Matrix:\n",
            " [[14818   911]\n",
            " [  225   489]]\n",
            "              precision    recall  f1-score   support\n",
            "\n",
            "           0       0.94      0.99      0.96     15043\n",
            "           1       0.68      0.35      0.46      1400\n",
            "\n",
            "    accuracy                           0.93     16443\n",
            "   macro avg       0.81      0.67      0.71     16443\n",
            "weighted avg       0.92      0.93      0.92     16443\n",
            "\n"
          ]
        }
      ],
      "source": [
        "#clf = DecisionTreeClassifier(random_state=43, criterion='entropy', max_depth=45, min_samples_leaf=9, min_samples_split=2, splitter='best', class_weight=None)\n",
        "clf = DecisionTreeClassifier(random_state=43,criterion='entropy', max_depth=25, min_samples_leaf=9, min_samples_split=2, splitter='best')\n",
        "clf.fit(X_train1,y_train1)\n",
        "\n",
        "y_pred1 = clf.predict(X_test1)\n",
        "\n",
        "cm = confusion_matrix(y_pred1, y_test1)\n",
        "print(\"Confusion Matrix:\\n\", cm)\n",
        "\n",
        "print(classification_report(y_test1, y_pred1))"
      ]
    },
    {
      "cell_type": "code",
      "execution_count": null,
      "metadata": {
        "colab": {
          "base_uri": "https://localhost:8080/"
        },
        "id": "6USRGvT4bcvK",
        "outputId": "eed781b4-fb58-4f7c-8d8a-813e1ec98510"
      },
      "outputs": [
        {
          "name": "stdout",
          "output_type": "stream",
          "text": [
            "Fitting 5 folds for each of 450 candidates, totalling 2250 fits\n",
            "Best Parameters: {'criterion': 'entropy', 'max_depth': 45, 'min_samples_leaf': 7, 'min_samples_split': 2, 'random_state': 43, 'splitter': 'best'}\n"
          ]
        }
      ],
      "source": [
        "grid_params = {'criterion': ['gini','entropy','log_loss'],'splitter':['best','random'], 'max_depth':[25,35,45,55,None],\n",
        "              'min_samples_split': [2,4,6], 'min_samples_leaf': [1,3,5,7,9], 'random_state':[43]}\n",
        "grid_search = GridSearchCV(DecisionTreeClassifier(), param_grid=grid_params, scoring='f1', cv=StratifiedKFold(n_splits=5), verbose=2, n_jobs=-1)\n",
        "grid_search.fit(X_train2,y_train2)\n",
        "print(f'Best Parameters: {grid_search.best_params_}')"
      ]
    },
    {
      "cell_type": "code",
      "execution_count": null,
      "metadata": {
        "colab": {
          "base_uri": "https://localhost:8080/"
        },
        "id": "QcCUcp_gWqeR",
        "outputId": "fdc5b376-a48c-4d7a-c64e-75ccce97dda2"
      },
      "outputs": [
        {
          "name": "stdout",
          "output_type": "stream",
          "text": [
            "Confusion Matrix:\n",
            " [[14876   915]\n",
            " [  167   485]]\n",
            "              precision    recall  f1-score   support\n",
            "\n",
            "           0       0.94      0.99      0.96     15043\n",
            "           1       0.74      0.35      0.47      1400\n",
            "\n",
            "    accuracy                           0.93     16443\n",
            "   macro avg       0.84      0.67      0.72     16443\n",
            "weighted avg       0.93      0.93      0.92     16443\n",
            "\n"
          ]
        }
      ],
      "source": [
        "clf = DecisionTreeClassifier(random_state=43,criterion='entropy', max_depth=45, min_samples_leaf=7, min_samples_split=2, splitter='best')\n",
        "clf.fit(X_train2,y_train2)\n",
        "\n",
        "y_pred2 = clf.predict(X_test2)\n",
        "\n",
        "cm = confusion_matrix(y_pred2, y_test2)\n",
        "print(\"Confusion Matrix:\\n\", cm)\n",
        "\n",
        "print(classification_report(y_test2, y_pred2))"
      ]
    },
    {
      "cell_type": "code",
      "execution_count": null,
      "metadata": {
        "colab": {
          "base_uri": "https://localhost:8080/"
        },
        "id": "D9UDovO6blNV",
        "outputId": "ddd3c823-ff33-4cae-cc9e-0ef68d54bb06"
      },
      "outputs": [
        {
          "name": "stdout",
          "output_type": "stream",
          "text": [
            "Fitting 5 folds for each of 450 candidates, totalling 2250 fits\n",
            "Best Parameters: {'criterion': 'entropy', 'max_depth': 25, 'min_samples_leaf': 3, 'min_samples_split': 2, 'random_state': 43, 'splitter': 'best'}\n"
          ]
        }
      ],
      "source": [
        "grid_params = {'criterion': ['gini','entropy','log_loss'],'splitter':['best','random'], 'max_depth':[25,35,45,55,None],\n",
        "              'min_samples_split': [2,4,6], 'min_samples_leaf': [1,3,5,7,9], 'random_state':[43]}\n",
        "grid_search = GridSearchCV(DecisionTreeClassifier(), param_grid=grid_params, scoring='f1', cv=StratifiedKFold(n_splits=5), verbose=2, n_jobs=-1)\n",
        "grid_search.fit(X_train3,y_train3)\n",
        "print(f'Best Parameters: {grid_search.best_params_}')"
      ]
    },
    {
      "cell_type": "code",
      "execution_count": null,
      "metadata": {
        "colab": {
          "base_uri": "https://localhost:8080/",
          "height": 750
        },
        "id": "sLCehP7aW5Ln",
        "outputId": "2f5149f3-174d-48b3-8dce-b16123df1071"
      },
      "outputs": [
        {
          "output_type": "stream",
          "name": "stdout",
          "text": [
            "Confusion Matrix:\n",
            " [[14821   883]\n",
            " [  222   517]]\n",
            "              precision    recall  f1-score   support\n",
            "\n",
            "           0       0.94      0.99      0.96     15043\n",
            "           1       0.70      0.37      0.48      1400\n",
            "\n",
            "    accuracy                           0.93     16443\n",
            "   macro avg       0.82      0.68      0.72     16443\n",
            "weighted avg       0.92      0.93      0.92     16443\n",
            "\n"
          ]
        },
        {
          "output_type": "display_data",
          "data": {
            "text/html": [
              "<html>\n",
              "<head><meta charset=\"utf-8\" /></head>\n",
              "<body>\n",
              "    <div>            <script src=\"https://cdnjs.cloudflare.com/ajax/libs/mathjax/2.7.5/MathJax.js?config=TeX-AMS-MML_SVG\"></script><script type=\"text/javascript\">if (window.MathJax && window.MathJax.Hub && window.MathJax.Hub.Config) {window.MathJax.Hub.Config({SVG: {font: \"STIX-Web\"}});}</script>                <script type=\"text/javascript\">window.PlotlyConfig = {MathJaxConfig: 'local'};</script>\n",
              "        <script charset=\"utf-8\" src=\"https://cdn.plot.ly/plotly-2.24.1.min.js\"></script>                <div id=\"e57a5a67-d0e6-4dfd-b1c0-4c00a419a67a\" class=\"plotly-graph-div\" style=\"height:525px; width:100%;\"></div>            <script type=\"text/javascript\">                                    window.PLOTLYENV=window.PLOTLYENV || {};                                    if (document.getElementById(\"e57a5a67-d0e6-4dfd-b1c0-4c00a419a67a\")) {                    Plotly.newPlot(                        \"e57a5a67-d0e6-4dfd-b1c0-4c00a419a67a\",                        [{\"coloraxis\":\"coloraxis\",\"name\":\"0\",\"texttemplate\":\"%{z}\",\"z\":[[14821,883],[222,517]],\"type\":\"heatmap\",\"xaxis\":\"x\",\"yaxis\":\"y\",\"hovertemplate\":\"x: %{x}\\u003cbr\\u003ey: %{y}\\u003cbr\\u003ecolor: %{z}\\u003cextra\\u003e\\u003c\\u002fextra\\u003e\"}],                        {\"template\":{\"data\":{\"histogram2dcontour\":[{\"type\":\"histogram2dcontour\",\"colorbar\":{\"outlinewidth\":0,\"ticks\":\"\"},\"colorscale\":[[0.0,\"#0d0887\"],[0.1111111111111111,\"#46039f\"],[0.2222222222222222,\"#7201a8\"],[0.3333333333333333,\"#9c179e\"],[0.4444444444444444,\"#bd3786\"],[0.5555555555555556,\"#d8576b\"],[0.6666666666666666,\"#ed7953\"],[0.7777777777777778,\"#fb9f3a\"],[0.8888888888888888,\"#fdca26\"],[1.0,\"#f0f921\"]]}],\"choropleth\":[{\"type\":\"choropleth\",\"colorbar\":{\"outlinewidth\":0,\"ticks\":\"\"}}],\"histogram2d\":[{\"type\":\"histogram2d\",\"colorbar\":{\"outlinewidth\":0,\"ticks\":\"\"},\"colorscale\":[[0.0,\"#0d0887\"],[0.1111111111111111,\"#46039f\"],[0.2222222222222222,\"#7201a8\"],[0.3333333333333333,\"#9c179e\"],[0.4444444444444444,\"#bd3786\"],[0.5555555555555556,\"#d8576b\"],[0.6666666666666666,\"#ed7953\"],[0.7777777777777778,\"#fb9f3a\"],[0.8888888888888888,\"#fdca26\"],[1.0,\"#f0f921\"]]}],\"heatmap\":[{\"type\":\"heatmap\",\"colorbar\":{\"outlinewidth\":0,\"ticks\":\"\"},\"colorscale\":[[0.0,\"#0d0887\"],[0.1111111111111111,\"#46039f\"],[0.2222222222222222,\"#7201a8\"],[0.3333333333333333,\"#9c179e\"],[0.4444444444444444,\"#bd3786\"],[0.5555555555555556,\"#d8576b\"],[0.6666666666666666,\"#ed7953\"],[0.7777777777777778,\"#fb9f3a\"],[0.8888888888888888,\"#fdca26\"],[1.0,\"#f0f921\"]]}],\"heatmapgl\":[{\"type\":\"heatmapgl\",\"colorbar\":{\"outlinewidth\":0,\"ticks\":\"\"},\"colorscale\":[[0.0,\"#0d0887\"],[0.1111111111111111,\"#46039f\"],[0.2222222222222222,\"#7201a8\"],[0.3333333333333333,\"#9c179e\"],[0.4444444444444444,\"#bd3786\"],[0.5555555555555556,\"#d8576b\"],[0.6666666666666666,\"#ed7953\"],[0.7777777777777778,\"#fb9f3a\"],[0.8888888888888888,\"#fdca26\"],[1.0,\"#f0f921\"]]}],\"contourcarpet\":[{\"type\":\"contourcarpet\",\"colorbar\":{\"outlinewidth\":0,\"ticks\":\"\"}}],\"contour\":[{\"type\":\"contour\",\"colorbar\":{\"outlinewidth\":0,\"ticks\":\"\"},\"colorscale\":[[0.0,\"#0d0887\"],[0.1111111111111111,\"#46039f\"],[0.2222222222222222,\"#7201a8\"],[0.3333333333333333,\"#9c179e\"],[0.4444444444444444,\"#bd3786\"],[0.5555555555555556,\"#d8576b\"],[0.6666666666666666,\"#ed7953\"],[0.7777777777777778,\"#fb9f3a\"],[0.8888888888888888,\"#fdca26\"],[1.0,\"#f0f921\"]]}],\"surface\":[{\"type\":\"surface\",\"colorbar\":{\"outlinewidth\":0,\"ticks\":\"\"},\"colorscale\":[[0.0,\"#0d0887\"],[0.1111111111111111,\"#46039f\"],[0.2222222222222222,\"#7201a8\"],[0.3333333333333333,\"#9c179e\"],[0.4444444444444444,\"#bd3786\"],[0.5555555555555556,\"#d8576b\"],[0.6666666666666666,\"#ed7953\"],[0.7777777777777778,\"#fb9f3a\"],[0.8888888888888888,\"#fdca26\"],[1.0,\"#f0f921\"]]}],\"mesh3d\":[{\"type\":\"mesh3d\",\"colorbar\":{\"outlinewidth\":0,\"ticks\":\"\"}}],\"scatter\":[{\"fillpattern\":{\"fillmode\":\"overlay\",\"size\":10,\"solidity\":0.2},\"type\":\"scatter\"}],\"parcoords\":[{\"type\":\"parcoords\",\"line\":{\"colorbar\":{\"outlinewidth\":0,\"ticks\":\"\"}}}],\"scatterpolargl\":[{\"type\":\"scatterpolargl\",\"marker\":{\"colorbar\":{\"outlinewidth\":0,\"ticks\":\"\"}}}],\"bar\":[{\"error_x\":{\"color\":\"#2a3f5f\"},\"error_y\":{\"color\":\"#2a3f5f\"},\"marker\":{\"line\":{\"color\":\"#E5ECF6\",\"width\":0.5},\"pattern\":{\"fillmode\":\"overlay\",\"size\":10,\"solidity\":0.2}},\"type\":\"bar\"}],\"scattergeo\":[{\"type\":\"scattergeo\",\"marker\":{\"colorbar\":{\"outlinewidth\":0,\"ticks\":\"\"}}}],\"scatterpolar\":[{\"type\":\"scatterpolar\",\"marker\":{\"colorbar\":{\"outlinewidth\":0,\"ticks\":\"\"}}}],\"histogram\":[{\"marker\":{\"pattern\":{\"fillmode\":\"overlay\",\"size\":10,\"solidity\":0.2}},\"type\":\"histogram\"}],\"scattergl\":[{\"type\":\"scattergl\",\"marker\":{\"colorbar\":{\"outlinewidth\":0,\"ticks\":\"\"}}}],\"scatter3d\":[{\"type\":\"scatter3d\",\"line\":{\"colorbar\":{\"outlinewidth\":0,\"ticks\":\"\"}},\"marker\":{\"colorbar\":{\"outlinewidth\":0,\"ticks\":\"\"}}}],\"scattermapbox\":[{\"type\":\"scattermapbox\",\"marker\":{\"colorbar\":{\"outlinewidth\":0,\"ticks\":\"\"}}}],\"scatterternary\":[{\"type\":\"scatterternary\",\"marker\":{\"colorbar\":{\"outlinewidth\":0,\"ticks\":\"\"}}}],\"scattercarpet\":[{\"type\":\"scattercarpet\",\"marker\":{\"colorbar\":{\"outlinewidth\":0,\"ticks\":\"\"}}}],\"carpet\":[{\"aaxis\":{\"endlinecolor\":\"#2a3f5f\",\"gridcolor\":\"white\",\"linecolor\":\"white\",\"minorgridcolor\":\"white\",\"startlinecolor\":\"#2a3f5f\"},\"baxis\":{\"endlinecolor\":\"#2a3f5f\",\"gridcolor\":\"white\",\"linecolor\":\"white\",\"minorgridcolor\":\"white\",\"startlinecolor\":\"#2a3f5f\"},\"type\":\"carpet\"}],\"table\":[{\"cells\":{\"fill\":{\"color\":\"#EBF0F8\"},\"line\":{\"color\":\"white\"}},\"header\":{\"fill\":{\"color\":\"#C8D4E3\"},\"line\":{\"color\":\"white\"}},\"type\":\"table\"}],\"barpolar\":[{\"marker\":{\"line\":{\"color\":\"#E5ECF6\",\"width\":0.5},\"pattern\":{\"fillmode\":\"overlay\",\"size\":10,\"solidity\":0.2}},\"type\":\"barpolar\"}],\"pie\":[{\"automargin\":true,\"type\":\"pie\"}]},\"layout\":{\"autotypenumbers\":\"strict\",\"colorway\":[\"#636efa\",\"#EF553B\",\"#00cc96\",\"#ab63fa\",\"#FFA15A\",\"#19d3f3\",\"#FF6692\",\"#B6E880\",\"#FF97FF\",\"#FECB52\"],\"font\":{\"color\":\"#2a3f5f\"},\"hovermode\":\"closest\",\"hoverlabel\":{\"align\":\"left\"},\"paper_bgcolor\":\"white\",\"plot_bgcolor\":\"#E5ECF6\",\"polar\":{\"bgcolor\":\"#E5ECF6\",\"angularaxis\":{\"gridcolor\":\"white\",\"linecolor\":\"white\",\"ticks\":\"\"},\"radialaxis\":{\"gridcolor\":\"white\",\"linecolor\":\"white\",\"ticks\":\"\"}},\"ternary\":{\"bgcolor\":\"#E5ECF6\",\"aaxis\":{\"gridcolor\":\"white\",\"linecolor\":\"white\",\"ticks\":\"\"},\"baxis\":{\"gridcolor\":\"white\",\"linecolor\":\"white\",\"ticks\":\"\"},\"caxis\":{\"gridcolor\":\"white\",\"linecolor\":\"white\",\"ticks\":\"\"}},\"coloraxis\":{\"colorbar\":{\"outlinewidth\":0,\"ticks\":\"\"}},\"colorscale\":{\"sequential\":[[0.0,\"#0d0887\"],[0.1111111111111111,\"#46039f\"],[0.2222222222222222,\"#7201a8\"],[0.3333333333333333,\"#9c179e\"],[0.4444444444444444,\"#bd3786\"],[0.5555555555555556,\"#d8576b\"],[0.6666666666666666,\"#ed7953\"],[0.7777777777777778,\"#fb9f3a\"],[0.8888888888888888,\"#fdca26\"],[1.0,\"#f0f921\"]],\"sequentialminus\":[[0.0,\"#0d0887\"],[0.1111111111111111,\"#46039f\"],[0.2222222222222222,\"#7201a8\"],[0.3333333333333333,\"#9c179e\"],[0.4444444444444444,\"#bd3786\"],[0.5555555555555556,\"#d8576b\"],[0.6666666666666666,\"#ed7953\"],[0.7777777777777778,\"#fb9f3a\"],[0.8888888888888888,\"#fdca26\"],[1.0,\"#f0f921\"]],\"diverging\":[[0,\"#8e0152\"],[0.1,\"#c51b7d\"],[0.2,\"#de77ae\"],[0.3,\"#f1b6da\"],[0.4,\"#fde0ef\"],[0.5,\"#f7f7f7\"],[0.6,\"#e6f5d0\"],[0.7,\"#b8e186\"],[0.8,\"#7fbc41\"],[0.9,\"#4d9221\"],[1,\"#276419\"]]},\"xaxis\":{\"gridcolor\":\"white\",\"linecolor\":\"white\",\"ticks\":\"\",\"title\":{\"standoff\":15},\"zerolinecolor\":\"white\",\"automargin\":true,\"zerolinewidth\":2},\"yaxis\":{\"gridcolor\":\"white\",\"linecolor\":\"white\",\"ticks\":\"\",\"title\":{\"standoff\":15},\"zerolinecolor\":\"white\",\"automargin\":true,\"zerolinewidth\":2},\"scene\":{\"xaxis\":{\"backgroundcolor\":\"#E5ECF6\",\"gridcolor\":\"white\",\"linecolor\":\"white\",\"showbackground\":true,\"ticks\":\"\",\"zerolinecolor\":\"white\",\"gridwidth\":2},\"yaxis\":{\"backgroundcolor\":\"#E5ECF6\",\"gridcolor\":\"white\",\"linecolor\":\"white\",\"showbackground\":true,\"ticks\":\"\",\"zerolinecolor\":\"white\",\"gridwidth\":2},\"zaxis\":{\"backgroundcolor\":\"#E5ECF6\",\"gridcolor\":\"white\",\"linecolor\":\"white\",\"showbackground\":true,\"ticks\":\"\",\"zerolinecolor\":\"white\",\"gridwidth\":2}},\"shapedefaults\":{\"line\":{\"color\":\"#2a3f5f\"}},\"annotationdefaults\":{\"arrowcolor\":\"#2a3f5f\",\"arrowhead\":0,\"arrowwidth\":1},\"geo\":{\"bgcolor\":\"white\",\"landcolor\":\"#E5ECF6\",\"subunitcolor\":\"white\",\"showland\":true,\"showlakes\":true,\"lakecolor\":\"white\"},\"title\":{\"x\":0.05},\"mapbox\":{\"style\":\"light\"}}},\"xaxis\":{\"anchor\":\"y\",\"domain\":[0.0,1.0],\"scaleanchor\":\"y\",\"constrain\":\"domain\",\"title\":{\"text\":\"Actual\"}},\"yaxis\":{\"anchor\":\"x\",\"domain\":[0.0,1.0],\"autorange\":\"reversed\",\"constrain\":\"domain\",\"title\":{\"text\":\"Predicted\"}},\"coloraxis\":{\"colorscale\":[[0.0,\"#0d0887\"],[0.1111111111111111,\"#46039f\"],[0.2222222222222222,\"#7201a8\"],[0.3333333333333333,\"#9c179e\"],[0.4444444444444444,\"#bd3786\"],[0.5555555555555556,\"#d8576b\"],[0.6666666666666666,\"#ed7953\"],[0.7777777777777778,\"#fb9f3a\"],[0.8888888888888888,\"#fdca26\"],[1.0,\"#f0f921\"]]},\"title\":{\"text\":\"Confusion Matrix: Decision Tree \\u002f No Resampling \\u002f Feature Variation 3\"}},                        {\"responsive\": true}                    ).then(function(){\n",
              "                            \n",
              "var gd = document.getElementById('e57a5a67-d0e6-4dfd-b1c0-4c00a419a67a');\n",
              "var x = new MutationObserver(function (mutations, observer) {{\n",
              "        var display = window.getComputedStyle(gd).display;\n",
              "        if (!display || display === 'none') {{\n",
              "            console.log([gd, 'removed!']);\n",
              "            Plotly.purge(gd);\n",
              "            observer.disconnect();\n",
              "        }}\n",
              "}});\n",
              "\n",
              "// Listen for the removal of the full notebook cells\n",
              "var notebookContainer = gd.closest('#notebook-container');\n",
              "if (notebookContainer) {{\n",
              "    x.observe(notebookContainer, {childList: true});\n",
              "}}\n",
              "\n",
              "// Listen for the clearing of the current output cell\n",
              "var outputEl = gd.closest('.output');\n",
              "if (outputEl) {{\n",
              "    x.observe(outputEl, {childList: true});\n",
              "}}\n",
              "\n",
              "                        })                };                            </script>        </div>\n",
              "</body>\n",
              "</html>"
            ]
          },
          "metadata": {}
        }
      ],
      "source": [
        "clf = DecisionTreeClassifier(random_state=43,criterion='entropy', max_depth=25, min_samples_leaf=3, min_samples_split=2, splitter='best')\n",
        "clf.fit(X_train3,y_train3)\n",
        "\n",
        "y_pred3 = clf.predict(X_test3)\n",
        "\n",
        "cm = confusion_matrix(y_pred3, y_test3)\n",
        "print(\"Confusion Matrix:\\n\", cm)\n",
        "\n",
        "print(classification_report(y_test3, y_pred3))\n",
        "import plotly.express as px\n",
        "fig = px.imshow(cm, text_auto=True, title='Confusion Matrix: Decision Tree / No Resampling / Feature Variation 3')\n",
        "fig.update_layout(xaxis_title=\"Actual\", yaxis_title=\"Predicted\")"
      ]
    },
    {
      "cell_type": "code",
      "execution_count": null,
      "metadata": {
        "colab": {
          "base_uri": "https://localhost:8080/"
        },
        "id": "E8MBexSEbo5F",
        "outputId": "918cb8a9-88bf-4be8-bf30-26870a1834b8"
      },
      "outputs": [
        {
          "name": "stdout",
          "output_type": "stream",
          "text": [
            "Fitting 5 folds for each of 450 candidates, totalling 2250 fits\n",
            "Best Parameters: {'criterion': 'gini', 'max_depth': 25, 'min_samples_leaf': 3, 'min_samples_split': 2, 'random_state': 43, 'splitter': 'best'}\n"
          ]
        }
      ],
      "source": [
        "grid_params = {'criterion': ['gini','entropy','log_loss'],'splitter':['best','random'], 'max_depth':[25,35,45,55,None],\n",
        "              'min_samples_split': [2,4,6], 'min_samples_leaf': [1,3,5,7,9], 'random_state':[43]}\n",
        "grid_search = GridSearchCV(DecisionTreeClassifier(), param_grid=grid_params, scoring='f1', cv=StratifiedKFold(n_splits=5), verbose=2, n_jobs=-1)\n",
        "grid_search.fit(X_train4,y_train4)\n",
        "print(f'Best Parameters: {grid_search.best_params_}')"
      ]
    },
    {
      "cell_type": "code",
      "execution_count": null,
      "metadata": {
        "colab": {
          "base_uri": "https://localhost:8080/"
        },
        "id": "8hVMBG5vbkMc",
        "outputId": "87225e9a-95f4-4684-97ac-b355920afe15"
      },
      "outputs": [
        {
          "name": "stdout",
          "output_type": "stream",
          "text": [
            "Confusion Matrix:\n",
            " [[14824   905]\n",
            " [  219   495]]\n",
            "              precision    recall  f1-score   support\n",
            "\n",
            "           0       0.94      0.99      0.96     15043\n",
            "           1       0.69      0.35      0.47      1400\n",
            "\n",
            "    accuracy                           0.93     16443\n",
            "   macro avg       0.82      0.67      0.72     16443\n",
            "weighted avg       0.92      0.93      0.92     16443\n",
            "\n"
          ]
        }
      ],
      "source": [
        "clf = DecisionTreeClassifier(random_state=43,criterion='gini', max_depth=25, min_samples_leaf=3, min_samples_split=2, splitter='best')\n",
        "clf.fit(X_train4,y_train4)\n",
        "\n",
        "y_pred4 = clf.predict(X_test4)\n",
        "\n",
        "cm = confusion_matrix(y_pred4, y_test4)\n",
        "print(\"Confusion Matrix:\\n\", cm)\n",
        "\n",
        "print(classification_report(y_test4, y_pred4))"
      ]
    },
    {
      "cell_type": "code",
      "execution_count": null,
      "metadata": {
        "colab": {
          "base_uri": "https://localhost:8080/"
        },
        "id": "RMCsMSODnQ89",
        "outputId": "b9511b99-fabc-4dbe-8c87-c0f79c3d671e"
      },
      "outputs": [
        {
          "name": "stdout",
          "output_type": "stream",
          "text": [
            "Fitting 5 folds for each of 450 candidates, totalling 2250 fits\n",
            "Best Parameters: {'criterion': 'gini', 'max_depth': 25, 'min_samples_leaf': 5, 'min_samples_split': 2, 'random_state': 43, 'splitter': 'random'}\n"
          ]
        }
      ],
      "source": [
        "grid_params = {'criterion': ['gini','entropy','log_loss'],'splitter':['best','random'], 'max_depth':[25,35,45,55,None],\n",
        "              'min_samples_split': [2,4,6], 'min_samples_leaf': [1,3,5,7,9], 'random_state':[43]}\n",
        "grid_search = GridSearchCV(DecisionTreeClassifier(), param_grid=grid_params, scoring='f1', cv=StratifiedKFold(n_splits=5), verbose=2, n_jobs=-1)\n",
        "grid_search.fit(X_train5,y_train5)\n",
        "print(f'Best Parameters: {grid_search.best_params_}')"
      ]
    },
    {
      "cell_type": "code",
      "execution_count": null,
      "metadata": {
        "colab": {
          "base_uri": "https://localhost:8080/"
        },
        "id": "3dLIChJbnUDU",
        "outputId": "3e550829-f9f2-4cd0-cfc9-9c4736b4f003"
      },
      "outputs": [
        {
          "name": "stdout",
          "output_type": "stream",
          "text": [
            "Confusion Matrix:\n",
            " [[14891   923]\n",
            " [  152   477]]\n",
            "              precision    recall  f1-score   support\n",
            "\n",
            "           0       0.94      0.99      0.97     15043\n",
            "           1       0.76      0.34      0.47      1400\n",
            "\n",
            "    accuracy                           0.93     16443\n",
            "   macro avg       0.85      0.67      0.72     16443\n",
            "weighted avg       0.93      0.93      0.92     16443\n",
            "\n"
          ]
        }
      ],
      "source": [
        "clf = DecisionTreeClassifier(random_state=43,criterion='gini', max_depth=25, min_samples_leaf=5, min_samples_split=2, splitter='random')\n",
        "clf.fit(X_train5,y_train5)\n",
        "\n",
        "y_pred5 = clf.predict(X_test5)\n",
        "\n",
        "cm = confusion_matrix(y_pred5, y_test5)\n",
        "print(\"Confusion Matrix:\\n\", cm)\n",
        "\n",
        "print(classification_report(y_test5, y_pred5))"
      ]
    },
    {
      "cell_type": "markdown",
      "metadata": {
        "id": "Z2L15aXaheAq"
      },
      "source": [
        "##Decision Tree 4x with SMOTE"
      ]
    },
    {
      "cell_type": "code",
      "source": [
        "from sklearn.tree import DecisionTreeClassifier # Import Decision Tree Classifier"
      ],
      "metadata": {
        "id": "kya4_jgSUgOC"
      },
      "execution_count": null,
      "outputs": []
    },
    {
      "cell_type": "code",
      "execution_count": null,
      "metadata": {
        "id": "8Ez9gE4rhcHT"
      },
      "outputs": [],
      "source": [
        "from imblearn.over_sampling import SMOTE\n",
        "\n",
        "smote = SMOTE(random_state=43)\n",
        "X_res1, y_res1 = smote.fit_resample(X_train1,y_train1)\n",
        "\n",
        "X_res1 = pd.DataFrame(X_res1)\n",
        "#y_res1 = pd.DataFrame(y_res1)\n",
        "\n",
        "smote = SMOTE(random_state=43)\n",
        "X_res2, y_res2 = smote.fit_resample(X_train2,y_train2)\n",
        "\n",
        "X_res2 = pd.DataFrame(X_res2)\n",
        "#y_res2 = pd.DataFrame(y_res2)\n",
        "\n",
        "smote = SMOTE(random_state=43)\n",
        "X_res3, y_res3 = smote.fit_resample(X_train3,y_train3)\n",
        "\n",
        "X_res3 = pd.DataFrame(X_res3)\n",
        "#y_res3 = pd.DataFrame(y_res3)\n",
        "\n",
        "smote = SMOTE(random_state=43)\n",
        "X_res4, y_res4 = smote.fit_resample(X_train4,y_train4)\n",
        "\n",
        "X_res4 = pd.DataFrame(X_res4)\n",
        "#y_res4 = pd.DataFrame(y_res4)\n",
        "\n",
        "smote = SMOTE(random_state=43)\n",
        "X_res5, y_res5 = smote.fit_resample(X_train5,y_train5)\n",
        "\n",
        "X_res5 = pd.DataFrame(X_res5)\n",
        "#y_res5 = pd.DataFrame(y_res5)"
      ]
    },
    {
      "cell_type": "code",
      "execution_count": null,
      "metadata": {
        "colab": {
          "base_uri": "https://localhost:8080/"
        },
        "id": "rRWKQjN3hpGu",
        "outputId": "d3f251a7-1182-4665-d074-bb190f61c392"
      },
      "outputs": [
        {
          "output_type": "stream",
          "name": "stdout",
          "text": [
            "Confusion Matrix:\n",
            " [[14284   819]\n",
            " [  759   581]]\n",
            "              precision    recall  f1-score   support\n",
            "\n",
            "           0       0.95      0.95      0.95     15043\n",
            "           1       0.43      0.41      0.42      1400\n",
            "\n",
            "    accuracy                           0.90     16443\n",
            "   macro avg       0.69      0.68      0.69     16443\n",
            "weighted avg       0.90      0.90      0.90     16443\n",
            "\n"
          ]
        }
      ],
      "source": [
        "#clf = DecisionTreeClassifier(random_state=43, criterion='entropy', max_depth=45, min_samples_leaf=9, min_samples_split=2, splitter='best', class_weight=None)\n",
        "clf = DecisionTreeClassifier(random_state=43,criterion='entropy', max_depth=25, min_samples_leaf=9, min_samples_split=2, splitter='best')\n",
        "clf.fit(X_res1,y_res1)\n",
        "\n",
        "y_pred1 = clf.predict(X_test1)\n",
        "\n",
        "cm = confusion_matrix(y_pred1, y_test1)\n",
        "print(\"Confusion Matrix:\\n\", cm)\n",
        "\n",
        "print(classification_report(y_test1, y_pred1))"
      ]
    },
    {
      "cell_type": "code",
      "execution_count": null,
      "metadata": {
        "colab": {
          "base_uri": "https://localhost:8080/"
        },
        "id": "DAW2HDOnhpGw",
        "outputId": "5f310967-8ec0-4abe-e7a9-1744996ee1b1"
      },
      "outputs": [
        {
          "name": "stdout",
          "output_type": "stream",
          "text": [
            "Confusion Matrix:\n",
            " [[14341   838]\n",
            " [  702   562]]\n",
            "              precision    recall  f1-score   support\n",
            "\n",
            "           0       0.94      0.95      0.95     15043\n",
            "           1       0.44      0.40      0.42      1400\n",
            "\n",
            "    accuracy                           0.91     16443\n",
            "   macro avg       0.69      0.68      0.69     16443\n",
            "weighted avg       0.90      0.91      0.90     16443\n",
            "\n"
          ]
        }
      ],
      "source": [
        "clf = DecisionTreeClassifier(random_state=43,criterion='entropy', max_depth=45, min_samples_leaf=7, min_samples_split=2, splitter='best')\n",
        "clf.fit(X_res2,y_res2)\n",
        "\n",
        "y_pred2 = clf.predict(X_test2)\n",
        "\n",
        "cm = confusion_matrix(y_pred2, y_test2)\n",
        "print(\"Confusion Matrix:\\n\", cm)\n",
        "\n",
        "print(classification_report(y_test2, y_pred2))"
      ]
    },
    {
      "cell_type": "code",
      "execution_count": null,
      "metadata": {
        "colab": {
          "base_uri": "https://localhost:8080/"
        },
        "id": "_TQp_P33hpGx",
        "outputId": "96a91760-7aeb-4fb9-b607-a21cb39142f8"
      },
      "outputs": [
        {
          "name": "stdout",
          "output_type": "stream",
          "text": [
            "Confusion Matrix:\n",
            " [[14092   746]\n",
            " [  951   654]]\n",
            "              precision    recall  f1-score   support\n",
            "\n",
            "           0       0.95      0.94      0.94     15043\n",
            "           1       0.41      0.47      0.44      1400\n",
            "\n",
            "    accuracy                           0.90     16443\n",
            "   macro avg       0.68      0.70      0.69     16443\n",
            "weighted avg       0.90      0.90      0.90     16443\n",
            "\n"
          ]
        }
      ],
      "source": [
        "clf = DecisionTreeClassifier(random_state=43,criterion='entropy', max_depth=25, min_samples_leaf=3, min_samples_split=2, splitter='best')\n",
        "clf.fit(X_res3,y_res3)\n",
        "\n",
        "y_pred3 = clf.predict(X_test3)\n",
        "\n",
        "cm = confusion_matrix(y_pred3, y_test3)\n",
        "print(\"Confusion Matrix:\\n\", cm)\n",
        "\n",
        "print(classification_report(y_test3, y_pred3))"
      ]
    },
    {
      "cell_type": "code",
      "execution_count": null,
      "metadata": {
        "colab": {
          "base_uri": "https://localhost:8080/"
        },
        "id": "EXTsaV_8hpGy",
        "outputId": "375d477d-01d3-4112-c26b-08b62e9ad76b"
      },
      "outputs": [
        {
          "name": "stdout",
          "output_type": "stream",
          "text": [
            "Confusion Matrix:\n",
            " [[12856   531]\n",
            " [ 2187   869]]\n",
            "              precision    recall  f1-score   support\n",
            "\n",
            "           0       0.96      0.85      0.90     15043\n",
            "           1       0.28      0.62      0.39      1400\n",
            "\n",
            "    accuracy                           0.83     16443\n",
            "   macro avg       0.62      0.74      0.65     16443\n",
            "weighted avg       0.90      0.83      0.86     16443\n",
            "\n"
          ]
        }
      ],
      "source": [
        "clf = DecisionTreeClassifier(random_state=43,criterion='gini', max_depth=25, min_samples_leaf=3, min_samples_split=2, splitter='best')\n",
        "clf.fit(X_res4,y_res4)\n",
        "\n",
        "y_pred4 = clf.predict(X_test4)\n",
        "\n",
        "cm = confusion_matrix(y_pred4, y_test4)\n",
        "print(\"Confusion Matrix:\\n\", cm)\n",
        "\n",
        "print(classification_report(y_test4, y_pred4))"
      ]
    },
    {
      "cell_type": "code",
      "execution_count": null,
      "metadata": {
        "colab": {
          "base_uri": "https://localhost:8080/"
        },
        "id": "_wu2PlrwqHkS",
        "outputId": "80094d5f-7f70-43d2-df54-9b0d1d9a5152"
      },
      "outputs": [
        {
          "name": "stdout",
          "output_type": "stream",
          "text": [
            "Confusion Matrix:\n",
            " [[12800   485]\n",
            " [ 2243   915]]\n",
            "              precision    recall  f1-score   support\n",
            "\n",
            "           0       0.96      0.85      0.90     15043\n",
            "           1       0.29      0.65      0.40      1400\n",
            "\n",
            "    accuracy                           0.83     16443\n",
            "   macro avg       0.63      0.75      0.65     16443\n",
            "weighted avg       0.91      0.83      0.86     16443\n",
            "\n"
          ]
        }
      ],
      "source": [
        "clf = DecisionTreeClassifier(random_state=43,criterion='gini', max_depth=25, min_samples_leaf=5, min_samples_split=2, splitter='random')\n",
        "clf.fit(X_res5,y_res5)\n",
        "\n",
        "y_pred5 = clf.predict(X_test5)\n",
        "\n",
        "cm = confusion_matrix(y_pred5, y_test5)\n",
        "print(\"Confusion Matrix:\\n\", cm)\n",
        "\n",
        "print(classification_report(y_test5, y_pred5))"
      ]
    },
    {
      "cell_type": "markdown",
      "source": [
        "##Decision Tree 4x with ROS"
      ],
      "metadata": {
        "id": "ElSPS9jLULch"
      }
    },
    {
      "cell_type": "code",
      "source": [
        "from sklearn.tree import DecisionTreeClassifier # Import Decision Tree Classifier"
      ],
      "metadata": {
        "id": "pwdj4GmwUhfB"
      },
      "execution_count": null,
      "outputs": []
    },
    {
      "cell_type": "code",
      "source": [
        "from imblearn.over_sampling import RandomOverSampler\n",
        "ros = RandomOverSampler(random_state=43)\n",
        "\n",
        "X_res1, y_res1 = ros.fit_resample(X_train1,y_train1)\n",
        "\n",
        "X_res1 = pd.DataFrame(X_res1)\n",
        "#y_res1 = pd.DataFrame(y_res1)\n",
        "\n",
        "ros = RandomOverSampler(random_state=43)\n",
        "X_res2, y_res2 = ros.fit_resample(X_train2,y_train2)\n",
        "\n",
        "X_res2 = pd.DataFrame(X_res2)\n",
        "#y_res2 = pd.DataFrame(y_res2)\n",
        "\n",
        "ros = RandomOverSampler(random_state=43)\n",
        "X_res3, y_res3 = ros.fit_resample(X_train3,y_train3)\n",
        "\n",
        "X_res3 = pd.DataFrame(X_res3)\n",
        "#y_res3 = pd.DataFrame(y_res3)\n",
        "\n",
        "ros = RandomOverSampler(random_state=43)\n",
        "X_res4, y_res4 = ros.fit_resample(X_train4,y_train4)\n",
        "\n",
        "X_res4 = pd.DataFrame(X_res4)\n",
        "#y_res4 = pd.DataFrame(y_res4)\n",
        "\n",
        "ros = RandomOverSampler(random_state=43)\n",
        "X_res5, y_res5 = ros.fit_resample(X_train5,y_train5)\n",
        "\n",
        "X_res5 = pd.DataFrame(X_res5)\n",
        "#y_res5 = pd.DataFrame(y_res5)"
      ],
      "metadata": {
        "id": "vVQgqRa3UOaA"
      },
      "execution_count": null,
      "outputs": []
    },
    {
      "cell_type": "code",
      "source": [],
      "metadata": {
        "id": "-TEMUF-lUOKm"
      },
      "execution_count": null,
      "outputs": []
    },
    {
      "cell_type": "code",
      "execution_count": null,
      "metadata": {
        "colab": {
          "base_uri": "https://localhost:8080/"
        },
        "outputId": "62e4145e-0746-4aca-b9de-a977bcdb3a69",
        "id": "PnH_wwMyUU_l"
      },
      "outputs": [
        {
          "output_type": "stream",
          "name": "stdout",
          "text": [
            "Confusion Matrix:\n",
            " [[12389   439]\n",
            " [ 2654   961]]\n",
            "              precision    recall  f1-score   support\n",
            "\n",
            "           0       0.97      0.82      0.89     15043\n",
            "           1       0.27      0.69      0.38      1400\n",
            "\n",
            "    accuracy                           0.81     16443\n",
            "   macro avg       0.62      0.76      0.64     16443\n",
            "weighted avg       0.91      0.81      0.85     16443\n",
            "\n"
          ]
        }
      ],
      "source": [
        "#clf = DecisionTreeClassifier(random_state=43, criterion='entropy', max_depth=45, min_samples_leaf=9, min_samples_split=2, splitter='best', class_weight=None)\n",
        "clf = DecisionTreeClassifier(random_state=43,criterion='entropy', max_depth=25, min_samples_leaf=9, min_samples_split=2, splitter='best')\n",
        "clf.fit(X_res1,y_res1)\n",
        "\n",
        "y_pred1 = clf.predict(X_test1)\n",
        "\n",
        "cm = confusion_matrix(y_pred1, y_test1)\n",
        "print(\"Confusion Matrix:\\n\", cm)\n",
        "\n",
        "print(classification_report(y_test1, y_pred1))"
      ]
    },
    {
      "cell_type": "code",
      "execution_count": null,
      "metadata": {
        "colab": {
          "base_uri": "https://localhost:8080/"
        },
        "outputId": "909ded42-b143-4240-fc92-eb38ea992355",
        "id": "sP6wULw8UVAD"
      },
      "outputs": [
        {
          "output_type": "stream",
          "name": "stdout",
          "text": [
            "Confusion Matrix:\n",
            " [[13126   559]\n",
            " [ 1917   841]]\n",
            "              precision    recall  f1-score   support\n",
            "\n",
            "           0       0.96      0.87      0.91     15043\n",
            "           1       0.30      0.60      0.40      1400\n",
            "\n",
            "    accuracy                           0.85     16443\n",
            "   macro avg       0.63      0.74      0.66     16443\n",
            "weighted avg       0.90      0.85      0.87     16443\n",
            "\n"
          ]
        }
      ],
      "source": [
        "clf = DecisionTreeClassifier(random_state=43,criterion='entropy', max_depth=45, min_samples_leaf=7, min_samples_split=2, splitter='best')\n",
        "clf.fit(X_res2,y_res2)\n",
        "\n",
        "y_pred2 = clf.predict(X_test2)\n",
        "\n",
        "cm = confusion_matrix(y_pred2, y_test2)\n",
        "print(\"Confusion Matrix:\\n\", cm)\n",
        "\n",
        "print(classification_report(y_test2, y_pred2))"
      ]
    },
    {
      "cell_type": "code",
      "execution_count": null,
      "metadata": {
        "colab": {
          "base_uri": "https://localhost:8080/"
        },
        "outputId": "f2a97c5c-b550-4d54-dc8d-b60f1a4d6124",
        "id": "cJAwOSb9UVAE"
      },
      "outputs": [
        {
          "output_type": "stream",
          "name": "stdout",
          "text": [
            "Confusion Matrix:\n",
            " [[12182   412]\n",
            " [ 2861   988]]\n",
            "              precision    recall  f1-score   support\n",
            "\n",
            "           0       0.97      0.81      0.88     15043\n",
            "           1       0.26      0.71      0.38      1400\n",
            "\n",
            "    accuracy                           0.80     16443\n",
            "   macro avg       0.61      0.76      0.63     16443\n",
            "weighted avg       0.91      0.80      0.84     16443\n",
            "\n"
          ]
        }
      ],
      "source": [
        "clf = DecisionTreeClassifier(random_state=43,criterion='entropy', max_depth=25, min_samples_leaf=3, min_samples_split=2, splitter='best')\n",
        "clf.fit(X_res3,y_res3)\n",
        "\n",
        "y_pred3 = clf.predict(X_test3)\n",
        "\n",
        "cm = confusion_matrix(y_pred3, y_test3)\n",
        "print(\"Confusion Matrix:\\n\", cm)\n",
        "\n",
        "print(classification_report(y_test3, y_pred3))"
      ]
    },
    {
      "cell_type": "code",
      "execution_count": null,
      "metadata": {
        "colab": {
          "base_uri": "https://localhost:8080/"
        },
        "outputId": "acf50abd-3169-4643-e0fd-43a75f626f29",
        "id": "-etGVV5wUVAF"
      },
      "outputs": [
        {
          "output_type": "stream",
          "name": "stdout",
          "text": [
            "Confusion Matrix:\n",
            " [[12391   474]\n",
            " [ 2652   926]]\n",
            "              precision    recall  f1-score   support\n",
            "\n",
            "           0       0.96      0.82      0.89     15043\n",
            "           1       0.26      0.66      0.37      1400\n",
            "\n",
            "    accuracy                           0.81     16443\n",
            "   macro avg       0.61      0.74      0.63     16443\n",
            "weighted avg       0.90      0.81      0.84     16443\n",
            "\n"
          ]
        }
      ],
      "source": [
        "clf = DecisionTreeClassifier(random_state=43,criterion='gini', max_depth=25, min_samples_leaf=3, min_samples_split=2, splitter='best')\n",
        "clf.fit(X_res4,y_res4)\n",
        "\n",
        "y_pred4 = clf.predict(X_test4)\n",
        "\n",
        "cm = confusion_matrix(y_pred4, y_test4)\n",
        "print(\"Confusion Matrix:\\n\", cm)\n",
        "\n",
        "print(classification_report(y_test4, y_pred4))"
      ]
    },
    {
      "cell_type": "markdown",
      "source": [
        "##Decision Tree 4x with ADASYN"
      ],
      "metadata": {
        "id": "aKca1A_fncV6"
      }
    },
    {
      "cell_type": "code",
      "source": [
        "from sklearn.tree import DecisionTreeClassifier # Import Decision Tree Classifier"
      ],
      "metadata": {
        "id": "HbI58iywnfbq"
      },
      "execution_count": null,
      "outputs": []
    },
    {
      "cell_type": "code",
      "source": [
        "from imblearn.over_sampling import ADASYN\n",
        "\n",
        "adasyn = ADASYN(random_state=43)\n",
        "X_res1, y_res1 = adasyn.fit_resample(X_train1,y_train1)\n",
        "\n",
        "X_res1 = pd.DataFrame(X_res1)\n",
        "#y_res1 = pd.DataFrame(y_res1)\n",
        "\n",
        "adasyn = ADASYN(random_state=43)\n",
        "X_res2, y_res2 = adasyn.fit_resample(X_train2,y_train2)\n",
        "\n",
        "X_res2 = pd.DataFrame(X_res2)\n",
        "#y_res2 = pd.DataFrame(y_res2)\n",
        "\n",
        "adasyn = ADASYN(random_state=43)\n",
        "X_res3, y_res3 = adasyn.fit_resample(X_train3,y_train3)\n",
        "\n",
        "X_res3 = pd.DataFrame(X_res3)\n",
        "#y_res3 = pd.DataFrame(y_res3)\n",
        "\n",
        "adasyn = ADASYN(random_state=43)\n",
        "X_res4, y_res4 = adasyn.fit_resample(X_train4,y_train4)\n",
        "\n",
        "X_res4 = pd.DataFrame(X_res4)\n",
        "#y_res4 = pd.DataFrame(y_res4)\n",
        "\n",
        "adasyn = ADASYN(random_state=43)\n",
        "X_res5, y_res5 = adasyn.fit_resample(X_train5,y_train5)\n",
        "\n",
        "X_res5 = pd.DataFrame(X_res5)\n",
        "#y_res5 = pd.DataFrame(y_res5)"
      ],
      "metadata": {
        "id": "7LjExE0MnftD"
      },
      "execution_count": null,
      "outputs": []
    },
    {
      "cell_type": "code",
      "execution_count": null,
      "metadata": {
        "colab": {
          "base_uri": "https://localhost:8080/"
        },
        "outputId": "4b32c25f-f8d1-4dc8-cc50-13cf2512c704",
        "id": "mCUdCc7wnm8I"
      },
      "outputs": [
        {
          "output_type": "stream",
          "name": "stdout",
          "text": [
            "Confusion Matrix:\n",
            " [[14197   801]\n",
            " [  846   599]]\n",
            "              precision    recall  f1-score   support\n",
            "\n",
            "           0       0.95      0.94      0.95     15043\n",
            "           1       0.41      0.43      0.42      1400\n",
            "\n",
            "    accuracy                           0.90     16443\n",
            "   macro avg       0.68      0.69      0.68     16443\n",
            "weighted avg       0.90      0.90      0.90     16443\n",
            "\n"
          ]
        }
      ],
      "source": [
        "#clf = DecisionTreeClassifier(random_state=43, criterion='entropy', max_depth=45, min_samples_leaf=9, min_samples_split=2, splitter='best', class_weight=None)\n",
        "clf = DecisionTreeClassifier(random_state=43,criterion='entropy', max_depth=25, min_samples_leaf=9, min_samples_split=2, splitter='best')\n",
        "clf.fit(X_res1,y_res1)\n",
        "\n",
        "y_pred1 = clf.predict(X_test1)\n",
        "\n",
        "cm = confusion_matrix(y_pred1, y_test1)\n",
        "print(\"Confusion Matrix:\\n\", cm)\n",
        "\n",
        "print(classification_report(y_test1, y_pred1))"
      ]
    },
    {
      "cell_type": "code",
      "execution_count": null,
      "metadata": {
        "colab": {
          "base_uri": "https://localhost:8080/"
        },
        "outputId": "45ead2cc-db83-463c-90cb-70b49892520e",
        "id": "pQpe3LConm8K"
      },
      "outputs": [
        {
          "output_type": "stream",
          "name": "stdout",
          "text": [
            "Confusion Matrix:\n",
            " [[14265   819]\n",
            " [  778   581]]\n",
            "              precision    recall  f1-score   support\n",
            "\n",
            "           0       0.95      0.95      0.95     15043\n",
            "           1       0.43      0.41      0.42      1400\n",
            "\n",
            "    accuracy                           0.90     16443\n",
            "   macro avg       0.69      0.68      0.68     16443\n",
            "weighted avg       0.90      0.90      0.90     16443\n",
            "\n"
          ]
        }
      ],
      "source": [
        "clf = DecisionTreeClassifier(random_state=43,criterion='entropy', max_depth=45, min_samples_leaf=7, min_samples_split=2, splitter='best')\n",
        "clf.fit(X_res2,y_res2)\n",
        "\n",
        "y_pred2 = clf.predict(X_test2)\n",
        "\n",
        "cm = confusion_matrix(y_pred2, y_test2)\n",
        "print(\"Confusion Matrix:\\n\", cm)\n",
        "\n",
        "print(classification_report(y_test2, y_pred2))"
      ]
    },
    {
      "cell_type": "code",
      "execution_count": null,
      "metadata": {
        "colab": {
          "base_uri": "https://localhost:8080/"
        },
        "outputId": "5fa1ee53-b27e-4e74-b63c-c02b4ac56fae",
        "id": "D4hEcCgNnm8L"
      },
      "outputs": [
        {
          "output_type": "stream",
          "name": "stdout",
          "text": [
            "Confusion Matrix:\n",
            " [[13086   559]\n",
            " [ 1957   841]]\n",
            "              precision    recall  f1-score   support\n",
            "\n",
            "           0       0.96      0.87      0.91     15043\n",
            "           1       0.30      0.60      0.40      1400\n",
            "\n",
            "    accuracy                           0.85     16443\n",
            "   macro avg       0.63      0.74      0.66     16443\n",
            "weighted avg       0.90      0.85      0.87     16443\n",
            "\n"
          ]
        }
      ],
      "source": [
        "clf = DecisionTreeClassifier(random_state=43,criterion='entropy', max_depth=25, min_samples_leaf=3, min_samples_split=2, splitter='best')\n",
        "clf.fit(X_res3,y_res3)\n",
        "\n",
        "y_pred3 = clf.predict(X_test3)\n",
        "\n",
        "cm = confusion_matrix(y_pred3, y_test3)\n",
        "print(\"Confusion Matrix:\\n\", cm)\n",
        "\n",
        "print(classification_report(y_test3, y_pred3))"
      ]
    },
    {
      "cell_type": "code",
      "execution_count": null,
      "metadata": {
        "colab": {
          "base_uri": "https://localhost:8080/"
        },
        "outputId": "c1d04e6e-a27d-4473-9843-d4ab07c8b27c",
        "id": "KPJGg4lJnm8M"
      },
      "outputs": [
        {
          "output_type": "stream",
          "name": "stdout",
          "text": [
            "Confusion Matrix:\n",
            " [[13104   544]\n",
            " [ 1939   856]]\n",
            "              precision    recall  f1-score   support\n",
            "\n",
            "           0       0.96      0.87      0.91     15043\n",
            "           1       0.31      0.61      0.41      1400\n",
            "\n",
            "    accuracy                           0.85     16443\n",
            "   macro avg       0.63      0.74      0.66     16443\n",
            "weighted avg       0.90      0.85      0.87     16443\n",
            "\n"
          ]
        }
      ],
      "source": [
        "clf = DecisionTreeClassifier(random_state=43,criterion='gini', max_depth=25, min_samples_leaf=3, min_samples_split=2, splitter='best')\n",
        "clf.fit(X_res4,y_res4)\n",
        "\n",
        "y_pred4 = clf.predict(X_test4)\n",
        "\n",
        "cm = confusion_matrix(y_pred4, y_test4)\n",
        "print(\"Confusion Matrix:\\n\", cm)\n",
        "\n",
        "print(classification_report(y_test4, y_pred4))"
      ]
    },
    {
      "cell_type": "markdown",
      "source": [
        "##Decision Tree 4x with RUS"
      ],
      "metadata": {
        "id": "UVuhhdM-ryHU"
      }
    },
    {
      "cell_type": "code",
      "source": [
        "from sklearn.tree import DecisionTreeClassifier # Import Decision Tree Classifier"
      ],
      "metadata": {
        "id": "m9yuEvj3r4Rn"
      },
      "execution_count": null,
      "outputs": []
    },
    {
      "cell_type": "code",
      "source": [
        "from imblearn.under_sampling import RandomUnderSampler\n",
        "\n",
        "rus = RandomUnderSampler(random_state=43)\n",
        "X_res1, y_res1 = rus.fit_resample(X_train1,y_train1)\n",
        "\n",
        "X_res1 = pd.DataFrame(X_res1)\n",
        "#y_res1 = pd.DataFrame(y_res1)\n",
        "\n",
        "rus = RandomUnderSampler(random_state=43)\n",
        "X_res2, y_res2 = rus.fit_resample(X_train2,y_train2)\n",
        "\n",
        "X_res2 = pd.DataFrame(X_res2)\n",
        "#y_res2 = pd.DataFrame(y_res2)\n",
        "\n",
        "rus = RandomUnderSampler(random_state=43)\n",
        "X_res3, y_res3 = rus.fit_resample(X_train3,y_train3)\n",
        "\n",
        "X_res3 = pd.DataFrame(X_res3)\n",
        "#y_res3 = pd.DataFrame(y_res3)\n",
        "\n",
        "rus = RandomUnderSampler(random_state=43)\n",
        "X_res4, y_res4 = rus.fit_resample(X_train4,y_train4)\n",
        "\n",
        "X_res4 = pd.DataFrame(X_res4)\n",
        "#y_res4 = pd.DataFrame(y_res4)\n",
        "\n",
        "rus = RandomUnderSampler(random_state=43)\n",
        "X_res5, y_res5 = rus.fit_resample(X_train5,y_train5)\n",
        "\n",
        "X_res5 = pd.DataFrame(X_res5)\n",
        "#y_res5 = pd.DataFrame(y_res5)"
      ],
      "metadata": {
        "id": "pdtogZuprxE-"
      },
      "execution_count": null,
      "outputs": []
    },
    {
      "cell_type": "code",
      "execution_count": null,
      "metadata": {
        "colab": {
          "base_uri": "https://localhost:8080/"
        },
        "outputId": "afa6d0f8-bea9-40cc-fcde-a6b3a4a43ff4",
        "id": "l1jb3k7jr4Rp"
      },
      "outputs": [
        {
          "output_type": "stream",
          "name": "stdout",
          "text": [
            "Confusion Matrix:\n",
            " [[11587   334]\n",
            " [ 3456  1066]]\n",
            "              precision    recall  f1-score   support\n",
            "\n",
            "           0       0.97      0.77      0.86     15043\n",
            "           1       0.24      0.76      0.36      1400\n",
            "\n",
            "    accuracy                           0.77     16443\n",
            "   macro avg       0.60      0.77      0.61     16443\n",
            "weighted avg       0.91      0.77      0.82     16443\n",
            "\n"
          ]
        }
      ],
      "source": [
        "#clf = DecisionTreeClassifier(random_state=43, criterion='entropy', max_depth=45, min_samples_leaf=9, min_samples_split=2, splitter='best', class_weight=None)\n",
        "clf = DecisionTreeClassifier(random_state=43,criterion='entropy', max_depth=25, min_samples_leaf=9, min_samples_split=2, splitter='best')\n",
        "clf.fit(X_res1,y_res1)\n",
        "\n",
        "y_pred1 = clf.predict(X_test1)\n",
        "\n",
        "cm = confusion_matrix(y_pred1, y_test1)\n",
        "print(\"Confusion Matrix:\\n\", cm)\n",
        "\n",
        "print(classification_report(y_test1, y_pred1))"
      ]
    },
    {
      "cell_type": "code",
      "execution_count": null,
      "metadata": {
        "colab": {
          "base_uri": "https://localhost:8080/"
        },
        "outputId": "a9515242-b8fd-4f14-d36a-ba0a02f25d2f",
        "id": "N2F3iSzpr4Rq"
      },
      "outputs": [
        {
          "output_type": "stream",
          "name": "stdout",
          "text": [
            "Confusion Matrix:\n",
            " [[11501   278]\n",
            " [ 3542  1122]]\n",
            "              precision    recall  f1-score   support\n",
            "\n",
            "           0       0.98      0.76      0.86     15043\n",
            "           1       0.24      0.80      0.37      1400\n",
            "\n",
            "    accuracy                           0.77     16443\n",
            "   macro avg       0.61      0.78      0.61     16443\n",
            "weighted avg       0.91      0.77      0.82     16443\n",
            "\n"
          ]
        }
      ],
      "source": [
        "clf = DecisionTreeClassifier(random_state=43,criterion='entropy', max_depth=45, min_samples_leaf=7, min_samples_split=2, splitter='best')\n",
        "clf.fit(X_res2,y_res2)\n",
        "\n",
        "y_pred2 = clf.predict(X_test2)\n",
        "\n",
        "cm = confusion_matrix(y_pred2, y_test2)\n",
        "print(\"Confusion Matrix:\\n\", cm)\n",
        "\n",
        "print(classification_report(y_test2, y_pred2))"
      ]
    },
    {
      "cell_type": "code",
      "execution_count": null,
      "metadata": {
        "colab": {
          "base_uri": "https://localhost:8080/"
        },
        "outputId": "8c65bed1-10a9-4f12-d54c-ec54b90e9e94",
        "id": "aDLp43N7r4Rr"
      },
      "outputs": [
        {
          "output_type": "stream",
          "name": "stdout",
          "text": [
            "Confusion Matrix:\n",
            " [[11338   271]\n",
            " [ 3705  1129]]\n",
            "              precision    recall  f1-score   support\n",
            "\n",
            "           0       0.98      0.75      0.85     15043\n",
            "           1       0.23      0.81      0.36      1400\n",
            "\n",
            "    accuracy                           0.76     16443\n",
            "   macro avg       0.61      0.78      0.61     16443\n",
            "weighted avg       0.91      0.76      0.81     16443\n",
            "\n"
          ]
        }
      ],
      "source": [
        "clf = DecisionTreeClassifier(random_state=43,criterion='entropy', max_depth=25, min_samples_leaf=3, min_samples_split=2, splitter='best')\n",
        "clf.fit(X_res3,y_res3)\n",
        "\n",
        "y_pred3 = clf.predict(X_test3)\n",
        "\n",
        "cm = confusion_matrix(y_pred3, y_test3)\n",
        "print(\"Confusion Matrix:\\n\", cm)\n",
        "\n",
        "print(classification_report(y_test3, y_pred3))"
      ]
    },
    {
      "cell_type": "code",
      "execution_count": null,
      "metadata": {
        "colab": {
          "base_uri": "https://localhost:8080/"
        },
        "outputId": "de9942c3-a7be-4f5c-8d1a-e4795d9fbf5a",
        "id": "D9KMqdRMr4Rs"
      },
      "outputs": [
        {
          "output_type": "stream",
          "name": "stdout",
          "text": [
            "Confusion Matrix:\n",
            " [[11631   330]\n",
            " [ 3412  1070]]\n",
            "              precision    recall  f1-score   support\n",
            "\n",
            "           0       0.97      0.77      0.86     15043\n",
            "           1       0.24      0.76      0.36      1400\n",
            "\n",
            "    accuracy                           0.77     16443\n",
            "   macro avg       0.61      0.77      0.61     16443\n",
            "weighted avg       0.91      0.77      0.82     16443\n",
            "\n"
          ]
        }
      ],
      "source": [
        "clf = DecisionTreeClassifier(random_state=43,criterion='gini', max_depth=25, min_samples_leaf=3, min_samples_split=2, splitter='best')\n",
        "clf.fit(X_res4,y_res4)\n",
        "\n",
        "y_pred4 = clf.predict(X_test4)\n",
        "\n",
        "cm = confusion_matrix(y_pred4, y_test4)\n",
        "print(\"Confusion Matrix:\\n\", cm)\n",
        "\n",
        "print(classification_report(y_test4, y_pred4))"
      ]
    },
    {
      "cell_type": "markdown",
      "source": [
        "##Decision Tree 4x with NCR US"
      ],
      "metadata": {
        "id": "5gDIyXeK0qKB"
      }
    },
    {
      "cell_type": "code",
      "source": [
        "from sklearn.tree import DecisionTreeClassifier # Import Decision Tree Classifier"
      ],
      "metadata": {
        "id": "HPjHuU4j0xL_"
      },
      "execution_count": null,
      "outputs": []
    },
    {
      "cell_type": "code",
      "source": [
        "from imblearn.under_sampling import NeighbourhoodCleaningRule\n",
        "\n",
        "ncr = NeighbourhoodCleaningRule(n_neighbors=3)\n",
        "X_res1, y_res1 = ncr.fit_resample(X_train1,y_train1)\n",
        "\n",
        "X_res1 = pd.DataFrame(X_res1)\n",
        "#y_res1 = pd.DataFrame(y_res1)\n",
        "\n",
        "ncr = NeighbourhoodCleaningRule(n_neighbors=3)\n",
        "X_res2, y_res2 = ncr.fit_resample(X_train2,y_train2)\n",
        "\n",
        "X_res2 = pd.DataFrame(X_res2)\n",
        "#y_res2 = pd.DataFrame(y_res2)\n",
        "\n",
        "ncr = NeighbourhoodCleaningRule(n_neighbors=3)\n",
        "X_res3, y_res3 = ncr.fit_resample(X_train3,y_train3)\n",
        "\n",
        "X_res3 = pd.DataFrame(X_res3)\n",
        "#y_res3 = pd.DataFrame(y_res3)\n",
        "\n",
        "ncr = NeighbourhoodCleaningRule(n_neighbors=3)\n",
        "X_res4, y_res4 = ncr.fit_resample(X_train4,y_train4)\n",
        "\n",
        "X_res4 = pd.DataFrame(X_res4)\n",
        "#y_res4 = pd.DataFrame(y_res4)\n",
        "\n",
        "#ncr = NeighbourhoodCleaningRule(n_neighbors=3)\n",
        "#X_res5, y_res5 = ncr.fit_resample(X_train5,y_train5)\n",
        "\n",
        "#X_res5 = pd.DataFrame(X_res5)\n",
        "#y_res5 = pd.DataFrame(y_res5)"
      ],
      "metadata": {
        "id": "MK-iOUo70pdc"
      },
      "execution_count": null,
      "outputs": []
    },
    {
      "cell_type": "code",
      "execution_count": null,
      "metadata": {
        "colab": {
          "base_uri": "https://localhost:8080/"
        },
        "outputId": "ed308701-4465-4eda-957b-91f92adc6a5b",
        "id": "Lh8UH3Sv0xMh"
      },
      "outputs": [
        {
          "output_type": "stream",
          "name": "stdout",
          "text": [
            "Confusion Matrix:\n",
            " [[13960   695]\n",
            " [ 1083   705]]\n",
            "              precision    recall  f1-score   support\n",
            "\n",
            "           0       0.95      0.93      0.94     15043\n",
            "           1       0.39      0.50      0.44      1400\n",
            "\n",
            "    accuracy                           0.89     16443\n",
            "   macro avg       0.67      0.72      0.69     16443\n",
            "weighted avg       0.91      0.89      0.90     16443\n",
            "\n"
          ]
        }
      ],
      "source": [
        "#clf = DecisionTreeClassifier(random_state=43, criterion='entropy', max_depth=45, min_samples_leaf=9, min_samples_split=2, splitter='best', class_weight=None)\n",
        "clf = DecisionTreeClassifier(random_state=43,criterion='entropy', max_depth=25, min_samples_leaf=9, min_samples_split=2, splitter='best')\n",
        "clf.fit(X_res1,y_res1)\n",
        "\n",
        "y_pred1 = clf.predict(X_test1)\n",
        "\n",
        "cm = confusion_matrix(y_pred1, y_test1)\n",
        "print(\"Confusion Matrix:\\n\", cm)\n",
        "\n",
        "print(classification_report(y_test1, y_pred1))"
      ]
    },
    {
      "cell_type": "code",
      "execution_count": null,
      "metadata": {
        "colab": {
          "base_uri": "https://localhost:8080/"
        },
        "outputId": "915ce809-be6a-4830-aebd-aea578380d08",
        "id": "9mLTKgGE0xMi"
      },
      "outputs": [
        {
          "output_type": "stream",
          "name": "stdout",
          "text": [
            "Confusion Matrix:\n",
            " [[14124   750]\n",
            " [  919   650]]\n",
            "              precision    recall  f1-score   support\n",
            "\n",
            "           0       0.95      0.94      0.94     15043\n",
            "           1       0.41      0.46      0.44      1400\n",
            "\n",
            "    accuracy                           0.90     16443\n",
            "   macro avg       0.68      0.70      0.69     16443\n",
            "weighted avg       0.90      0.90      0.90     16443\n",
            "\n"
          ]
        }
      ],
      "source": [
        "clf = DecisionTreeClassifier(random_state=43,criterion='entropy', max_depth=45, min_samples_leaf=7, min_samples_split=2, splitter='best')\n",
        "clf.fit(X_res2,y_res2)\n",
        "\n",
        "y_pred2 = clf.predict(X_test2)\n",
        "\n",
        "cm = confusion_matrix(y_pred2, y_test2)\n",
        "print(\"Confusion Matrix:\\n\", cm)\n",
        "\n",
        "print(classification_report(y_test2, y_pred2))"
      ]
    },
    {
      "cell_type": "code",
      "execution_count": null,
      "metadata": {
        "colab": {
          "base_uri": "https://localhost:8080/"
        },
        "outputId": "fadeb35a-8976-4501-a289-1f783f85b534",
        "id": "Kdwr3SRJ0xMj"
      },
      "outputs": [
        {
          "output_type": "stream",
          "name": "stdout",
          "text": [
            "Confusion Matrix:\n",
            " [[14274   753]\n",
            " [  769   647]]\n",
            "              precision    recall  f1-score   support\n",
            "\n",
            "           0       0.95      0.95      0.95     15043\n",
            "           1       0.46      0.46      0.46      1400\n",
            "\n",
            "    accuracy                           0.91     16443\n",
            "   macro avg       0.70      0.71      0.70     16443\n",
            "weighted avg       0.91      0.91      0.91     16443\n",
            "\n"
          ]
        }
      ],
      "source": [
        "clf = DecisionTreeClassifier(random_state=43,criterion='entropy', max_depth=25, min_samples_leaf=3, min_samples_split=2, splitter='best')\n",
        "clf.fit(X_res3,y_res3)\n",
        "\n",
        "y_pred3 = clf.predict(X_test3)\n",
        "\n",
        "cm = confusion_matrix(y_pred3, y_test3)\n",
        "print(\"Confusion Matrix:\\n\", cm)\n",
        "\n",
        "print(classification_report(y_test3, y_pred3))"
      ]
    },
    {
      "cell_type": "code",
      "execution_count": null,
      "metadata": {
        "colab": {
          "base_uri": "https://localhost:8080/"
        },
        "outputId": "7ab79e24-e38d-46c4-a0c6-86566548a3dc",
        "id": "zWUm-cO90xMk"
      },
      "outputs": [
        {
          "output_type": "stream",
          "name": "stdout",
          "text": [
            "Confusion Matrix:\n",
            " [[14179   733]\n",
            " [  864   667]]\n",
            "              precision    recall  f1-score   support\n",
            "\n",
            "           0       0.95      0.94      0.95     15043\n",
            "           1       0.44      0.48      0.46      1400\n",
            "\n",
            "    accuracy                           0.90     16443\n",
            "   macro avg       0.69      0.71      0.70     16443\n",
            "weighted avg       0.91      0.90      0.90     16443\n",
            "\n"
          ]
        }
      ],
      "source": [
        "clf = DecisionTreeClassifier(random_state=43,criterion='gini', max_depth=25, min_samples_leaf=3, min_samples_split=2, splitter='best')\n",
        "clf.fit(X_res4,y_res4)\n",
        "\n",
        "y_pred4 = clf.predict(X_test4)\n",
        "\n",
        "cm = confusion_matrix(y_pred4, y_test4)\n",
        "print(\"Confusion Matrix:\\n\", cm)\n",
        "\n",
        "print(classification_report(y_test4, y_pred4))"
      ]
    },
    {
      "cell_type": "markdown",
      "metadata": {
        "id": "C8gFENhqriJd"
      },
      "source": [
        "##Random Forest 4x\n",
        "Grid Search took ~1hr each"
      ]
    },
    {
      "cell_type": "code",
      "execution_count": null,
      "metadata": {
        "id": "-ZGgAiCFrklz"
      },
      "outputs": [],
      "source": [
        "from sklearn.ensemble import RandomForestClassifier # Import Decision Tree Classifier\n",
        "from sklearn.model_selection import GridSearchCV"
      ]
    },
    {
      "cell_type": "code",
      "execution_count": null,
      "metadata": {
        "colab": {
          "base_uri": "https://localhost:8080/"
        },
        "id": "sd_PG4zosmQO",
        "outputId": "3da174f8-e79c-4d10-e9b3-6def55da62b8"
      },
      "outputs": [
        {
          "output_type": "stream",
          "name": "stdout",
          "text": [
            "Fitting 5 folds for each of 108 candidates, totalling 540 fits\n",
            "Best Parameters: {'criterion': 'entropy', 'max_depth': 45, 'min_samples_leaf': 1, 'min_samples_split': 2, 'n_estimators': 300, 'random_state': 43}\n"
          ]
        }
      ],
      "source": [
        "parameter_grid = {'n_estimators':[100,200,300],\n",
        "                  'criterion':['gini','entropy'],\n",
        "                  'max_depth':[None,25,45],\n",
        "                  'min_samples_split':[2,5],\n",
        "                  'min_samples_leaf':[1,3,7],\n",
        "                  'random_state':[43]}\n",
        "\n",
        "gs = GridSearchCV(estimator=RandomForestClassifier(), param_grid=parameter_grid, cv=StratifiedKFold(n_splits=5), scoring='f1', n_jobs=-1, verbose=2)\n",
        "\n",
        "gs.fit(X_train1, y_train1)\n",
        "\n",
        "best_params = gs.best_params_\n",
        "print(f\"Best Parameters: {gs.best_params_}\")"
      ]
    },
    {
      "cell_type": "code",
      "execution_count": null,
      "metadata": {
        "colab": {
          "base_uri": "https://localhost:8080/"
        },
        "id": "2ldU6UqotIcT",
        "outputId": "ba6315b7-85a3-4bf7-c2bd-2cd59d47d9ac"
      },
      "outputs": [
        {
          "output_type": "stream",
          "name": "stdout",
          "text": [
            "Confusion Matrix:\n",
            " [[14969   993]\n",
            " [   74   407]]\n",
            "              precision    recall  f1-score   support\n",
            "\n",
            "           0       0.94      1.00      0.97     15043\n",
            "           1       0.85      0.29      0.43      1400\n",
            "\n",
            "    accuracy                           0.94     16443\n",
            "   macro avg       0.89      0.64      0.70     16443\n",
            "weighted avg       0.93      0.94      0.92     16443\n",
            "\n"
          ]
        }
      ],
      "source": [
        "forest = RandomForestClassifier(criterion='entropy', max_depth=45, min_samples_leaf=1, min_samples_split=2, n_estimators=300, random_state=43)\n",
        "forest.fit(X_train1, y_train1)\n",
        "\n",
        "y_pred1 = forest.predict(X_test1)\n",
        "\n",
        "cm = confusion_matrix(y_pred1, y_test1)\n",
        "print(\"Confusion Matrix:\\n\", cm)\n",
        "\n",
        "print(classification_report(y_test1, y_pred1))"
      ]
    },
    {
      "cell_type": "code",
      "execution_count": null,
      "metadata": {
        "colab": {
          "base_uri": "https://localhost:8080/"
        },
        "id": "e97PK_7wtdL_",
        "outputId": "2ca2dbb5-e4af-4e59-9a7a-b0134bf8c313"
      },
      "outputs": [
        {
          "name": "stdout",
          "output_type": "stream",
          "text": [
            "Fitting 5 folds for each of 108 candidates, totalling 540 fits\n",
            "Best Parameters: {'criterion': 'entropy', 'max_depth': 45, 'min_samples_leaf': 1, 'min_samples_split': 5, 'n_estimators': 300, 'random_state': 43}\n"
          ]
        }
      ],
      "source": [
        "parameter_grid = {'n_estimators':[100,200,300],\n",
        "                  'criterion':['gini','entropy'],\n",
        "                  'max_depth':[None,25,45],\n",
        "                  'min_samples_split':[2,5],\n",
        "                  'min_samples_leaf':[1,3,7],\n",
        "                  'random_state':[43]}\n",
        "\n",
        "gs = GridSearchCV(estimator=RandomForestClassifier(), param_grid=parameter_grid, cv=StratifiedKFold(n_splits=5), scoring='f1', n_jobs=-1, verbose=2)\n",
        "\n",
        "gs.fit(X_train2, y_train2)\n",
        "\n",
        "best_params = gs.best_params_\n",
        "print(f\"Best Parameters: {gs.best_params_}\")"
      ]
    },
    {
      "cell_type": "code",
      "execution_count": null,
      "metadata": {
        "colab": {
          "base_uri": "https://localhost:8080/"
        },
        "id": "RHw-I0u6tgt3",
        "outputId": "1096024d-8b14-4d95-a220-fb83b09e6058"
      },
      "outputs": [
        {
          "name": "stdout",
          "output_type": "stream",
          "text": [
            "Confusion Matrix:\n",
            " [[14948   938]\n",
            " [   95   462]]\n",
            "              precision    recall  f1-score   support\n",
            "\n",
            "           0       0.94      0.99      0.97     15043\n",
            "           1       0.83      0.33      0.47      1400\n",
            "\n",
            "    accuracy                           0.94     16443\n",
            "   macro avg       0.89      0.66      0.72     16443\n",
            "weighted avg       0.93      0.94      0.92     16443\n",
            "\n"
          ]
        }
      ],
      "source": [
        "forest = RandomForestClassifier(criterion='entropy', max_depth=45, min_samples_leaf=1, min_samples_split=5, n_estimators=300, random_state=43)\n",
        "forest.fit(X_train2, y_train2)\n",
        "\n",
        "y_pred2 = forest.predict(X_test2)\n",
        "\n",
        "cm = confusion_matrix(y_pred2, y_test2)\n",
        "print(\"Confusion Matrix:\\n\", cm)\n",
        "\n",
        "print(classification_report(y_test2, y_pred2))"
      ]
    },
    {
      "cell_type": "code",
      "execution_count": null,
      "metadata": {
        "colab": {
          "base_uri": "https://localhost:8080/"
        },
        "id": "6DeORbLrtrkI",
        "outputId": "bfbd995f-8a4a-4c0e-bcf2-1ea89eeb351c"
      },
      "outputs": [
        {
          "name": "stdout",
          "output_type": "stream",
          "text": [
            "Fitting 5 folds for each of 108 candidates, totalling 540 fits\n",
            "Best Parameters: {'criterion': 'entropy', 'max_depth': 45, 'min_samples_leaf': 1, 'min_samples_split': 5, 'n_estimators': 300, 'random_state': 43}\n"
          ]
        }
      ],
      "source": [
        "parameter_grid = {'n_estimators':[100,200,300],\n",
        "                  'criterion':['gini','entropy'],\n",
        "                  'max_depth':[None,25,45],\n",
        "                  'min_samples_split':[2,5],\n",
        "                  'min_samples_leaf':[1,3,7],\n",
        "                  'random_state':[43]}\n",
        "\n",
        "gs = GridSearchCV(estimator=RandomForestClassifier(), param_grid=parameter_grid, cv=StratifiedKFold(n_splits=5), scoring='f1', n_jobs=-1, verbose=2)\n",
        "\n",
        "gs.fit(X_train3, y_train3)\n",
        "\n",
        "best_params = gs.best_params_\n",
        "print(f\"Best Parameters: {gs.best_params_}\")"
      ]
    },
    {
      "cell_type": "code",
      "execution_count": null,
      "metadata": {
        "colab": {
          "base_uri": "https://localhost:8080/"
        },
        "id": "4vwZQ4kLtrkK",
        "outputId": "a7c12579-d528-4b91-e277-1ada59e3a92c"
      },
      "outputs": [
        {
          "name": "stdout",
          "output_type": "stream",
          "text": [
            "Confusion Matrix:\n",
            " [[14909   926]\n",
            " [  134   474]]\n",
            "              precision    recall  f1-score   support\n",
            "\n",
            "           0       0.94      0.99      0.97     15043\n",
            "           1       0.78      0.34      0.47      1400\n",
            "\n",
            "    accuracy                           0.94     16443\n",
            "   macro avg       0.86      0.66      0.72     16443\n",
            "weighted avg       0.93      0.94      0.92     16443\n",
            "\n"
          ]
        }
      ],
      "source": [
        "forest = RandomForestClassifier(criterion='entropy', max_depth=45, min_samples_leaf=1, min_samples_split=5, n_estimators=300, random_state=43)\n",
        "forest.fit(X_train3, y_train3)\n",
        "\n",
        "y_pred3 = forest.predict(X_test3)\n",
        "\n",
        "cm = confusion_matrix(y_pred3, y_test3)\n",
        "print(\"Confusion Matrix:\\n\", cm)\n",
        "\n",
        "print(classification_report(y_test3, y_pred3))"
      ]
    },
    {
      "cell_type": "code",
      "execution_count": null,
      "metadata": {
        "colab": {
          "base_uri": "https://localhost:8080/"
        },
        "id": "vjgnaNLztrDF",
        "outputId": "498b5d0c-2c21-4b7e-bfb4-87b7e11363eb"
      },
      "outputs": [
        {
          "name": "stdout",
          "output_type": "stream",
          "text": [
            "Fitting 5 folds for each of 108 candidates, totalling 540 fits\n",
            "Best Parameters: {'criterion': 'entropy', 'max_depth': 25, 'min_samples_leaf': 1, 'min_samples_split': 5, 'n_estimators': 200, 'random_state': 43}\n"
          ]
        }
      ],
      "source": [
        "parameter_grid = {'n_estimators':[100,200,300],\n",
        "                  'criterion':['gini','entropy'],\n",
        "                  'max_depth':[None,25,45],\n",
        "                  'min_samples_split':[2,5],\n",
        "                  'min_samples_leaf':[1,3,7],\n",
        "                  'random_state':[43]}\n",
        "\n",
        "gs = GridSearchCV(estimator=RandomForestClassifier(), param_grid=parameter_grid, cv=StratifiedKFold(n_splits=5), scoring='f1', n_jobs=-1, verbose=2)\n",
        "\n",
        "gs.fit(X_train4, y_train4)\n",
        "\n",
        "best_params = gs.best_params_\n",
        "print(f\"Best Parameters: {gs.best_params_}\")"
      ]
    },
    {
      "cell_type": "code",
      "execution_count": null,
      "metadata": {
        "colab": {
          "base_uri": "https://localhost:8080/"
        },
        "id": "3IUNnDSWtrDQ",
        "outputId": "cb743bf1-0c70-4c9a-ab18-805b787118ab"
      },
      "outputs": [
        {
          "name": "stdout",
          "output_type": "stream",
          "text": [
            "Confusion Matrix:\n",
            " [[14889   925]\n",
            " [  154   475]]\n",
            "              precision    recall  f1-score   support\n",
            "\n",
            "           0       0.94      0.99      0.97     15043\n",
            "           1       0.76      0.34      0.47      1400\n",
            "\n",
            "    accuracy                           0.93     16443\n",
            "   macro avg       0.85      0.66      0.72     16443\n",
            "weighted avg       0.93      0.93      0.92     16443\n",
            "\n"
          ]
        }
      ],
      "source": [
        "forest = RandomForestClassifier(criterion='entropy', max_depth=25, min_samples_leaf=1, min_samples_split=5, n_estimators=200, random_state=43)\n",
        "forest.fit(X_train4, y_train4)\n",
        "\n",
        "y_pred4 = forest.predict(X_test4)\n",
        "\n",
        "cm = confusion_matrix(y_pred4, y_test4)\n",
        "print(\"Confusion Matrix:\\n\", cm)\n",
        "\n",
        "print(classification_report(y_test4, y_pred4))"
      ]
    },
    {
      "cell_type": "code",
      "execution_count": null,
      "metadata": {
        "colab": {
          "base_uri": "https://localhost:8080/"
        },
        "id": "ZxG8TzZGtpxw",
        "outputId": "325da6f6-373d-425c-d2a8-87855aece44a"
      },
      "outputs": [
        {
          "name": "stdout",
          "output_type": "stream",
          "text": [
            "Fitting 5 folds for each of 108 candidates, totalling 540 fits\n",
            "Best Parameters: {'criterion': 'entropy', 'max_depth': None, 'min_samples_leaf': 1, 'min_samples_split': 5, 'n_estimators': 200, 'random_state': 43}\n"
          ]
        }
      ],
      "source": [
        "parameter_grid = {'n_estimators':[100,200,300],\n",
        "                  'criterion':['gini','entropy'],\n",
        "                  'max_depth':[None,25,45],\n",
        "                  'min_samples_split':[2,5],\n",
        "                  'min_samples_leaf':[1,3,7],\n",
        "                  'random_state':[43]}\n",
        "\n",
        "gs = GridSearchCV(estimator=RandomForestClassifier(), param_grid=parameter_grid, cv=StratifiedKFold(n_splits=5), scoring='f1', n_jobs=-1, verbose=2)\n",
        "\n",
        "gs.fit(X_train5, y_train5)\n",
        "\n",
        "best_params = gs.best_params_\n",
        "print(f\"Best Parameters: {gs.best_params_}\")"
      ]
    },
    {
      "cell_type": "code",
      "execution_count": null,
      "metadata": {
        "colab": {
          "base_uri": "https://localhost:8080/"
        },
        "id": "43-HKONmtpxx",
        "outputId": "d5f9800f-f53d-4bde-b766-9539d89810d7"
      },
      "outputs": [
        {
          "name": "stdout",
          "output_type": "stream",
          "text": [
            "Confusion Matrix:\n",
            " [[14950   938]\n",
            " [   93   462]]\n",
            "              precision    recall  f1-score   support\n",
            "\n",
            "           0       0.94      0.99      0.97     15043\n",
            "           1       0.83      0.33      0.47      1400\n",
            "\n",
            "    accuracy                           0.94     16443\n",
            "   macro avg       0.89      0.66      0.72     16443\n",
            "weighted avg       0.93      0.94      0.92     16443\n",
            "\n"
          ]
        }
      ],
      "source": [
        "forest = RandomForestClassifier(criterion='entropy', max_depth=None, min_samples_leaf=1, min_samples_split=5, n_estimators=200, random_state=43)\n",
        "forest.fit(X_train5, y_train5)\n",
        "\n",
        "y_pred5 = forest.predict(X_test5)\n",
        "\n",
        "cm = confusion_matrix(y_pred5, y_test5)\n",
        "print(\"Confusion Matrix:\\n\", cm)\n",
        "\n",
        "print(classification_report(y_test5, y_pred5))"
      ]
    },
    {
      "cell_type": "markdown",
      "metadata": {
        "id": "PigA12Wj12Y5"
      },
      "source": [
        "##Random Forest 4x with SMOTE"
      ]
    },
    {
      "cell_type": "code",
      "execution_count": null,
      "metadata": {
        "id": "3vQxLZxMKKac"
      },
      "outputs": [],
      "source": [
        "from imblearn.over_sampling import SMOTE\n",
        "\n",
        "smote = SMOTE(random_state=43)\n",
        "X_res1, y_res1 = smote.fit_resample(X_train1,y_train1)\n",
        "\n",
        "X_res1 = pd.DataFrame(X_res1)\n",
        "#y_res1 = pd.DataFrame(y_res1)\n",
        "\n",
        "smote = SMOTE(random_state=43)\n",
        "X_res2, y_res2 = smote.fit_resample(X_train2,y_train2)\n",
        "\n",
        "X_res2 = pd.DataFrame(X_res2)\n",
        "#y_res2 = pd.DataFrame(y_res2)\n",
        "\n",
        "smote = SMOTE(random_state=43)\n",
        "X_res3, y_res3 = smote.fit_resample(X_train3,y_train3)\n",
        "\n",
        "X_res3 = pd.DataFrame(X_res3)\n",
        "#y_res3 = pd.DataFrame(y_res3)\n",
        "\n",
        "smote = SMOTE(random_state=43)\n",
        "X_res4, y_res4 = smote.fit_resample(X_train4,y_train4)\n",
        "\n",
        "X_res4 = pd.DataFrame(X_res4)\n",
        "#y_res4 = pd.DataFrame(y_res4)\n",
        "\n",
        "smote = SMOTE(random_state=43)\n",
        "X_res5, y_res5 = smote.fit_resample(X_train5,y_train5)\n",
        "\n",
        "X_res5 = pd.DataFrame(X_res5)\n",
        "#y_res5 = pd.DataFrame(y_res5)"
      ]
    },
    {
      "cell_type": "code",
      "execution_count": null,
      "metadata": {
        "colab": {
          "base_uri": "https://localhost:8080/"
        },
        "id": "CL-0Qi9qKSNV",
        "outputId": "8cb75f65-feb2-4c31-bc8a-d7ae7d0b066a"
      },
      "outputs": [
        {
          "output_type": "stream",
          "name": "stdout",
          "text": [
            "Confusion Matrix:\n",
            " [[14702   924]\n",
            " [  341   476]]\n",
            "              precision    recall  f1-score   support\n",
            "\n",
            "           0       0.94      0.98      0.96     15043\n",
            "           1       0.58      0.34      0.43      1400\n",
            "\n",
            "    accuracy                           0.92     16443\n",
            "   macro avg       0.76      0.66      0.69     16443\n",
            "weighted avg       0.91      0.92      0.91     16443\n",
            "\n"
          ]
        }
      ],
      "source": [
        "forest = RandomForestClassifier(criterion='entropy', max_depth=45, min_samples_leaf=1, min_samples_split=2, n_estimators=300, random_state=43)\n",
        "forest.fit(X_res1, y_res1)\n",
        "\n",
        "y_pred1 = forest.predict(X_test1)\n",
        "\n",
        "cm = confusion_matrix(y_pred1, y_test1)\n",
        "print(\"Confusion Matrix:\\n\", cm)\n",
        "\n",
        "print(classification_report(y_test1, y_pred1))"
      ]
    },
    {
      "cell_type": "code",
      "execution_count": null,
      "metadata": {
        "colab": {
          "base_uri": "https://localhost:8080/"
        },
        "id": "GbVeR2sRKSN8",
        "outputId": "e8f630ad-f129-445e-b76c-de59ba89fc86"
      },
      "outputs": [
        {
          "name": "stdout",
          "output_type": "stream",
          "text": [
            "Confusion Matrix:\n",
            " [[14369   779]\n",
            " [  674   621]]\n",
            "              precision    recall  f1-score   support\n",
            "\n",
            "           0       0.95      0.96      0.95     15043\n",
            "           1       0.48      0.44      0.46      1400\n",
            "\n",
            "    accuracy                           0.91     16443\n",
            "   macro avg       0.71      0.70      0.71     16443\n",
            "weighted avg       0.91      0.91      0.91     16443\n",
            "\n"
          ]
        }
      ],
      "source": [
        "forest = RandomForestClassifier(criterion='entropy', max_depth=45, min_samples_leaf=1, min_samples_split=5, n_estimators=300, random_state=43)\n",
        "forest.fit(X_res2, y_res2)\n",
        "\n",
        "y_pred2 = forest.predict(X_test2)\n",
        "\n",
        "cm = confusion_matrix(y_pred2, y_test2)\n",
        "print(\"Confusion Matrix:\\n\", cm)\n",
        "\n",
        "print(classification_report(y_test2, y_pred2))"
      ]
    },
    {
      "cell_type": "code",
      "execution_count": null,
      "metadata": {
        "colab": {
          "base_uri": "https://localhost:8080/"
        },
        "id": "VIhI4UTnKSN9",
        "outputId": "9e73a485-0260-4a29-d681-4414e37a6547"
      },
      "outputs": [
        {
          "name": "stdout",
          "output_type": "stream",
          "text": [
            "Confusion Matrix:\n",
            " [[14293   776]\n",
            " [  750   624]]\n",
            "              precision    recall  f1-score   support\n",
            "\n",
            "           0       0.95      0.95      0.95     15043\n",
            "           1       0.45      0.45      0.45      1400\n",
            "\n",
            "    accuracy                           0.91     16443\n",
            "   macro avg       0.70      0.70      0.70     16443\n",
            "weighted avg       0.91      0.91      0.91     16443\n",
            "\n"
          ]
        }
      ],
      "source": [
        "forest = RandomForestClassifier(criterion='entropy', max_depth=45, min_samples_leaf=1, min_samples_split=5, n_estimators=300, random_state=43)\n",
        "forest.fit(X_res3, y_res3)\n",
        "\n",
        "y_pred3 = forest.predict(X_test3)\n",
        "\n",
        "cm = confusion_matrix(y_pred3, y_test3)\n",
        "print(\"Confusion Matrix:\\n\", cm)\n",
        "\n",
        "print(classification_report(y_test3, y_pred3))"
      ]
    },
    {
      "cell_type": "code",
      "execution_count": null,
      "metadata": {
        "colab": {
          "base_uri": "https://localhost:8080/"
        },
        "id": "re4_MdEKKSN-",
        "outputId": "c898161d-1bef-40d4-e4cf-6ee948f596ef"
      },
      "outputs": [
        {
          "name": "stdout",
          "output_type": "stream",
          "text": [
            "Confusion Matrix:\n",
            " [[13598   630]\n",
            " [ 1445   770]]\n",
            "              precision    recall  f1-score   support\n",
            "\n",
            "           0       0.96      0.90      0.93     15043\n",
            "           1       0.35      0.55      0.43      1400\n",
            "\n",
            "    accuracy                           0.87     16443\n",
            "   macro avg       0.65      0.73      0.68     16443\n",
            "weighted avg       0.90      0.87      0.89     16443\n",
            "\n"
          ]
        }
      ],
      "source": [
        "forest = RandomForestClassifier(criterion='entropy', max_depth=25, min_samples_leaf=1, min_samples_split=5, n_estimators=200, random_state=43)\n",
        "forest.fit(X_res4, y_res4)\n",
        "\n",
        "y_pred4 = forest.predict(X_test4)\n",
        "\n",
        "cm = confusion_matrix(y_pred4, y_test4)\n",
        "print(\"Confusion Matrix:\\n\", cm)\n",
        "\n",
        "print(classification_report(y_test4, y_pred4))"
      ]
    },
    {
      "cell_type": "code",
      "execution_count": null,
      "metadata": {
        "colab": {
          "base_uri": "https://localhost:8080/"
        },
        "id": "qTBLRFNDKSOA",
        "outputId": "43ff681b-c05c-4917-ec98-d21a2e2a22a7"
      },
      "outputs": [
        {
          "name": "stdout",
          "output_type": "stream",
          "text": [
            "Confusion Matrix:\n",
            " [[14502   812]\n",
            " [  541   588]]\n",
            "              precision    recall  f1-score   support\n",
            "\n",
            "           0       0.95      0.96      0.96     15043\n",
            "           1       0.52      0.42      0.47      1400\n",
            "\n",
            "    accuracy                           0.92     16443\n",
            "   macro avg       0.73      0.69      0.71     16443\n",
            "weighted avg       0.91      0.92      0.91     16443\n",
            "\n"
          ]
        }
      ],
      "source": [
        "forest = RandomForestClassifier(criterion='entropy', max_depth=None, min_samples_leaf=1, min_samples_split=5, n_estimators=200, random_state=43)\n",
        "forest.fit(X_res5, y_res5)\n",
        "\n",
        "y_pred5 = forest.predict(X_test5)\n",
        "\n",
        "cm = confusion_matrix(y_pred5, y_test5)\n",
        "print(\"Confusion Matrix:\\n\", cm)\n",
        "\n",
        "print(classification_report(y_test5, y_pred5))"
      ]
    },
    {
      "cell_type": "markdown",
      "source": [
        "##RF 4x with ROS"
      ],
      "metadata": {
        "id": "t-LQggqFUzFA"
      }
    },
    {
      "cell_type": "code",
      "source": [
        "from sklearn.ensemble import RandomForestClassifier # Import Decision Tree Classifier"
      ],
      "metadata": {
        "id": "dT5Ov_9iU1xf"
      },
      "execution_count": null,
      "outputs": []
    },
    {
      "cell_type": "code",
      "source": [
        "from imblearn.over_sampling import RandomOverSampler\n",
        "ros = RandomOverSampler(random_state=43)\n",
        "\n",
        "X_res1, y_res1 = ros.fit_resample(X_train1,y_train1)\n",
        "\n",
        "X_res1 = pd.DataFrame(X_res1)\n",
        "#y_res1 = pd.DataFrame(y_res1)\n",
        "\n",
        "ros = RandomOverSampler(random_state=43)\n",
        "X_res2, y_res2 = ros.fit_resample(X_train2,y_train2)\n",
        "\n",
        "X_res2 = pd.DataFrame(X_res2)\n",
        "#y_res2 = pd.DataFrame(y_res2)\n",
        "\n",
        "ros = RandomOverSampler(random_state=43)\n",
        "X_res3, y_res3 = ros.fit_resample(X_train3,y_train3)\n",
        "\n",
        "X_res3 = pd.DataFrame(X_res3)\n",
        "#y_res3 = pd.DataFrame(y_res3)\n",
        "\n",
        "ros = RandomOverSampler(random_state=43)\n",
        "X_res4, y_res4 = ros.fit_resample(X_train4,y_train4)\n",
        "\n",
        "X_res4 = pd.DataFrame(X_res4)\n",
        "#y_res4 = pd.DataFrame(y_res4)\n",
        "\n",
        "ros = RandomOverSampler(random_state=43)\n",
        "X_res5, y_res5 = ros.fit_resample(X_train5,y_train5)\n",
        "\n",
        "X_res5 = pd.DataFrame(X_res5)\n",
        "#y_res5 = pd.DataFrame(y_res5)"
      ],
      "metadata": {
        "id": "MFIfYNx5U2D-"
      },
      "execution_count": null,
      "outputs": []
    },
    {
      "cell_type": "code",
      "execution_count": null,
      "metadata": {
        "colab": {
          "base_uri": "https://localhost:8080/"
        },
        "outputId": "1fedd6fc-cb59-4602-97bd-3b930f5a7c28",
        "id": "LvYKv50JU-_K"
      },
      "outputs": [
        {
          "output_type": "stream",
          "name": "stdout",
          "text": [
            "Confusion Matrix:\n",
            " [[14715   909]\n",
            " [  328   491]]\n",
            "              precision    recall  f1-score   support\n",
            "\n",
            "           0       0.94      0.98      0.96     15043\n",
            "           1       0.60      0.35      0.44      1400\n",
            "\n",
            "    accuracy                           0.92     16443\n",
            "   macro avg       0.77      0.66      0.70     16443\n",
            "weighted avg       0.91      0.92      0.92     16443\n",
            "\n"
          ]
        }
      ],
      "source": [
        "forest = RandomForestClassifier(criterion='entropy', max_depth=45, min_samples_leaf=1, min_samples_split=2, n_estimators=300, random_state=43)\n",
        "forest.fit(X_res1, y_res1)\n",
        "\n",
        "y_pred1 = forest.predict(X_test1)\n",
        "\n",
        "cm = confusion_matrix(y_pred1, y_test1)\n",
        "print(\"Confusion Matrix:\\n\", cm)\n",
        "\n",
        "print(classification_report(y_test1, y_pred1))"
      ]
    },
    {
      "cell_type": "code",
      "execution_count": null,
      "metadata": {
        "colab": {
          "base_uri": "https://localhost:8080/"
        },
        "outputId": "41bc191f-7455-4513-e77a-a00159abac58",
        "id": "JRc_rrv1U-_M"
      },
      "outputs": [
        {
          "output_type": "stream",
          "name": "stdout",
          "text": [
            "Confusion Matrix:\n",
            " [[14331   778]\n",
            " [  712   622]]\n",
            "              precision    recall  f1-score   support\n",
            "\n",
            "           0       0.95      0.95      0.95     15043\n",
            "           1       0.47      0.44      0.46      1400\n",
            "\n",
            "    accuracy                           0.91     16443\n",
            "   macro avg       0.71      0.70      0.70     16443\n",
            "weighted avg       0.91      0.91      0.91     16443\n",
            "\n"
          ]
        }
      ],
      "source": [
        "forest = RandomForestClassifier(criterion='entropy', max_depth=45, min_samples_leaf=1, min_samples_split=5, n_estimators=300, random_state=43)\n",
        "forest.fit(X_res2, y_res2)\n",
        "\n",
        "y_pred2 = forest.predict(X_test2)\n",
        "\n",
        "cm = confusion_matrix(y_pred2, y_test2)\n",
        "print(\"Confusion Matrix:\\n\", cm)\n",
        "\n",
        "print(classification_report(y_test2, y_pred2))"
      ]
    },
    {
      "cell_type": "code",
      "execution_count": null,
      "metadata": {
        "colab": {
          "base_uri": "https://localhost:8080/"
        },
        "outputId": "39f7c38f-8fdc-46bd-d350-089765e30cb6",
        "id": "-8SdCFMQU-_N"
      },
      "outputs": [
        {
          "output_type": "stream",
          "name": "stdout",
          "text": [
            "Confusion Matrix:\n",
            " [[13951   738]\n",
            " [ 1092   662]]\n",
            "              precision    recall  f1-score   support\n",
            "\n",
            "           0       0.95      0.93      0.94     15043\n",
            "           1       0.38      0.47      0.42      1400\n",
            "\n",
            "    accuracy                           0.89     16443\n",
            "   macro avg       0.66      0.70      0.68     16443\n",
            "weighted avg       0.90      0.89      0.89     16443\n",
            "\n"
          ]
        }
      ],
      "source": [
        "forest = RandomForestClassifier(criterion='entropy', max_depth=45, min_samples_leaf=1, min_samples_split=5, n_estimators=300, random_state=43)\n",
        "forest.fit(X_res3, y_res3)\n",
        "\n",
        "y_pred3 = forest.predict(X_test3)\n",
        "\n",
        "cm = confusion_matrix(y_pred3, y_test3)\n",
        "print(\"Confusion Matrix:\\n\", cm)\n",
        "\n",
        "print(classification_report(y_test3, y_pred3))"
      ]
    },
    {
      "cell_type": "code",
      "execution_count": null,
      "metadata": {
        "colab": {
          "base_uri": "https://localhost:8080/"
        },
        "outputId": "3da4a373-b3ab-44ba-e258-54904196c143",
        "id": "od2cSicbU-_O"
      },
      "outputs": [
        {
          "output_type": "stream",
          "name": "stdout",
          "text": [
            "Confusion Matrix:\n",
            " [[12773   551]\n",
            " [ 2270   849]]\n",
            "              precision    recall  f1-score   support\n",
            "\n",
            "           0       0.96      0.85      0.90     15043\n",
            "           1       0.27      0.61      0.38      1400\n",
            "\n",
            "    accuracy                           0.83     16443\n",
            "   macro avg       0.62      0.73      0.64     16443\n",
            "weighted avg       0.90      0.83      0.86     16443\n",
            "\n"
          ]
        }
      ],
      "source": [
        "forest = RandomForestClassifier(criterion='entropy', max_depth=25, min_samples_leaf=1, min_samples_split=5, n_estimators=200, random_state=43)\n",
        "forest.fit(X_res4, y_res4)\n",
        "\n",
        "y_pred4 = forest.predict(X_test4)\n",
        "\n",
        "cm = confusion_matrix(y_pred4, y_test4)\n",
        "print(\"Confusion Matrix:\\n\", cm)\n",
        "\n",
        "print(classification_report(y_test4, y_pred4))"
      ]
    },
    {
      "cell_type": "markdown",
      "source": [
        "##RF 4x with ADASYN"
      ],
      "metadata": {
        "id": "fS5ZtMs9nuhb"
      }
    },
    {
      "cell_type": "code",
      "source": [
        "from sklearn.ensemble import RandomForestClassifier # Import Decision Tree Classifier"
      ],
      "metadata": {
        "id": "9FHUC6JYn5GK"
      },
      "execution_count": null,
      "outputs": []
    },
    {
      "cell_type": "code",
      "source": [
        "from imblearn.over_sampling import ADASYN\n",
        "\n",
        "adasyn = ADASYN(random_state=43)\n",
        "X_res1, y_res1 = adasyn.fit_resample(X_train1,y_train1)\n",
        "\n",
        "X_res1 = pd.DataFrame(X_res1)\n",
        "#y_res1 = pd.DataFrame(y_res1)\n",
        "\n",
        "adasyn = ADASYN(random_state=43)\n",
        "X_res2, y_res2 = adasyn.fit_resample(X_train2,y_train2)\n",
        "\n",
        "X_res2 = pd.DataFrame(X_res2)\n",
        "#y_res2 = pd.DataFrame(y_res2)\n",
        "\n",
        "adasyn = ADASYN(random_state=43)\n",
        "X_res3, y_res3 = adasyn.fit_resample(X_train3,y_train3)\n",
        "\n",
        "X_res3 = pd.DataFrame(X_res3)\n",
        "#y_res3 = pd.DataFrame(y_res3)\n",
        "\n",
        "adasyn = ADASYN(random_state=43)\n",
        "X_res4, y_res4 = adasyn.fit_resample(X_train4,y_train4)\n",
        "\n",
        "X_res4 = pd.DataFrame(X_res4)\n",
        "#y_res4 = pd.DataFrame(y_res4)\n",
        "\n",
        "adasyn = ADASYN(random_state=43)\n",
        "X_res5, y_res5 = adasyn.fit_resample(X_train5,y_train5)\n",
        "\n",
        "X_res5 = pd.DataFrame(X_res5)\n",
        "#y_res5 = pd.DataFrame(y_res5)"
      ],
      "metadata": {
        "id": "gRH1p-J2nxHF"
      },
      "execution_count": null,
      "outputs": []
    },
    {
      "cell_type": "code",
      "execution_count": null,
      "metadata": {
        "colab": {
          "base_uri": "https://localhost:8080/"
        },
        "outputId": "3867fba6-7083-4557-f9ab-f82695f8bec7",
        "id": "pEDvdCfVn92c"
      },
      "outputs": [
        {
          "output_type": "stream",
          "name": "stdout",
          "text": [
            "Confusion Matrix:\n",
            " [[14695   911]\n",
            " [  348   489]]\n",
            "              precision    recall  f1-score   support\n",
            "\n",
            "           0       0.94      0.98      0.96     15043\n",
            "           1       0.58      0.35      0.44      1400\n",
            "\n",
            "    accuracy                           0.92     16443\n",
            "   macro avg       0.76      0.66      0.70     16443\n",
            "weighted avg       0.91      0.92      0.91     16443\n",
            "\n"
          ]
        }
      ],
      "source": [
        "forest = RandomForestClassifier(criterion='entropy', max_depth=45, min_samples_leaf=1, min_samples_split=2, n_estimators=300, random_state=43)\n",
        "forest.fit(X_res1, y_res1)\n",
        "\n",
        "y_pred1 = forest.predict(X_test1)\n",
        "\n",
        "cm = confusion_matrix(y_pred1, y_test1)\n",
        "print(\"Confusion Matrix:\\n\", cm)\n",
        "\n",
        "print(classification_report(y_test1, y_pred1))"
      ]
    },
    {
      "cell_type": "code",
      "execution_count": null,
      "metadata": {
        "colab": {
          "base_uri": "https://localhost:8080/"
        },
        "outputId": "7821da88-0907-425a-9925-7f15653023b7",
        "id": "PqYngD2Zn92p"
      },
      "outputs": [
        {
          "output_type": "stream",
          "name": "stdout",
          "text": [
            "Confusion Matrix:\n",
            " [[14312   785]\n",
            " [  731   615]]\n",
            "              precision    recall  f1-score   support\n",
            "\n",
            "           0       0.95      0.95      0.95     15043\n",
            "           1       0.46      0.44      0.45      1400\n",
            "\n",
            "    accuracy                           0.91     16443\n",
            "   macro avg       0.70      0.70      0.70     16443\n",
            "weighted avg       0.91      0.91      0.91     16443\n",
            "\n"
          ]
        }
      ],
      "source": [
        "forest = RandomForestClassifier(criterion='entropy', max_depth=45, min_samples_leaf=1, min_samples_split=5, n_estimators=300, random_state=43)\n",
        "forest.fit(X_res2, y_res2)\n",
        "\n",
        "y_pred2 = forest.predict(X_test2)\n",
        "\n",
        "cm = confusion_matrix(y_pred2, y_test2)\n",
        "print(\"Confusion Matrix:\\n\", cm)\n",
        "\n",
        "print(classification_report(y_test2, y_pred2))"
      ]
    },
    {
      "cell_type": "code",
      "execution_count": null,
      "metadata": {
        "colab": {
          "base_uri": "https://localhost:8080/"
        },
        "outputId": "a0200295-3c6c-4965-ae0b-4579867b27c8",
        "id": "2Sry0SERn92q"
      },
      "outputs": [
        {
          "output_type": "stream",
          "name": "stdout",
          "text": [
            "Confusion Matrix:\n",
            " [[14253   765]\n",
            " [  790   635]]\n",
            "              precision    recall  f1-score   support\n",
            "\n",
            "           0       0.95      0.95      0.95     15043\n",
            "           1       0.45      0.45      0.45      1400\n",
            "\n",
            "    accuracy                           0.91     16443\n",
            "   macro avg       0.70      0.70      0.70     16443\n",
            "weighted avg       0.91      0.91      0.91     16443\n",
            "\n"
          ]
        }
      ],
      "source": [
        "forest = RandomForestClassifier(criterion='entropy', max_depth=45, min_samples_leaf=1, min_samples_split=5, n_estimators=300, random_state=43)\n",
        "forest.fit(X_res3, y_res3)\n",
        "\n",
        "y_pred3 = forest.predict(X_test3)\n",
        "\n",
        "cm = confusion_matrix(y_pred3, y_test3)\n",
        "print(\"Confusion Matrix:\\n\", cm)\n",
        "\n",
        "print(classification_report(y_test3, y_pred3))"
      ]
    },
    {
      "cell_type": "code",
      "execution_count": null,
      "metadata": {
        "colab": {
          "base_uri": "https://localhost:8080/"
        },
        "outputId": "f0362d37-3968-4ea3-c4cb-29d3e6eeadd7",
        "id": "LgO_Zjnzn92q"
      },
      "outputs": [
        {
          "output_type": "stream",
          "name": "stdout",
          "text": [
            "Confusion Matrix:\n",
            " [[13480   611]\n",
            " [ 1563   789]]\n",
            "              precision    recall  f1-score   support\n",
            "\n",
            "           0       0.96      0.90      0.93     15043\n",
            "           1       0.34      0.56      0.42      1400\n",
            "\n",
            "    accuracy                           0.87     16443\n",
            "   macro avg       0.65      0.73      0.67     16443\n",
            "weighted avg       0.90      0.87      0.88     16443\n",
            "\n"
          ]
        }
      ],
      "source": [
        "forest = RandomForestClassifier(criterion='entropy', max_depth=25, min_samples_leaf=1, min_samples_split=5, n_estimators=200, random_state=43)\n",
        "forest.fit(X_res4, y_res4)\n",
        "\n",
        "y_pred4 = forest.predict(X_test4)\n",
        "\n",
        "cm = confusion_matrix(y_pred4, y_test4)\n",
        "print(\"Confusion Matrix:\\n\", cm)\n",
        "\n",
        "print(classification_report(y_test4, y_pred4))"
      ]
    },
    {
      "cell_type": "markdown",
      "source": [
        "##RF 4x with RUS"
      ],
      "metadata": {
        "id": "AqxgckjysF6p"
      }
    },
    {
      "cell_type": "code",
      "source": [
        "from sklearn.ensemble import RandomForestClassifier # Import Random Forest Classifier"
      ],
      "metadata": {
        "id": "OIJceXZFsMAU"
      },
      "execution_count": null,
      "outputs": []
    },
    {
      "cell_type": "code",
      "source": [
        "from imblearn.under_sampling import RandomUnderSampler\n",
        "\n",
        "rus = RandomUnderSampler(random_state=43)\n",
        "X_res1, y_res1 = rus.fit_resample(X_train1,y_train1)\n",
        "\n",
        "X_res1 = pd.DataFrame(X_res1)\n",
        "#y_res1 = pd.DataFrame(y_res1)\n",
        "\n",
        "rus = RandomUnderSampler(random_state=43)\n",
        "X_res2, y_res2 = rus.fit_resample(X_train2,y_train2)\n",
        "\n",
        "X_res2 = pd.DataFrame(X_res2)\n",
        "#y_res2 = pd.DataFrame(y_res2)\n",
        "\n",
        "rus = RandomUnderSampler(random_state=43)\n",
        "X_res3, y_res3 = rus.fit_resample(X_train3,y_train3)\n",
        "\n",
        "X_res3 = pd.DataFrame(X_res3)\n",
        "#y_res3 = pd.DataFrame(y_res3)\n",
        "\n",
        "rus = RandomUnderSampler(random_state=43)\n",
        "X_res4, y_res4 = rus.fit_resample(X_train4,y_train4)\n",
        "\n",
        "X_res4 = pd.DataFrame(X_res4)\n",
        "#y_res4 = pd.DataFrame(y_res4)\n",
        "\n",
        "rus = RandomUnderSampler(random_state=43)\n",
        "X_res5, y_res5 = rus.fit_resample(X_train5,y_train5)\n",
        "\n",
        "X_res5 = pd.DataFrame(X_res5)\n",
        "#y_res5 = pd.DataFrame(y_res5)"
      ],
      "metadata": {
        "id": "rIZGaxm0sFS2"
      },
      "execution_count": null,
      "outputs": []
    },
    {
      "cell_type": "code",
      "execution_count": null,
      "metadata": {
        "colab": {
          "base_uri": "https://localhost:8080/"
        },
        "outputId": "8c2621b0-fde4-4fb1-80f6-91dbb4f1c246",
        "id": "iOmj60HPsMA3"
      },
      "outputs": [
        {
          "output_type": "stream",
          "name": "stdout",
          "text": [
            "Confusion Matrix:\n",
            " [[10874   185]\n",
            " [ 4169  1215]]\n",
            "              precision    recall  f1-score   support\n",
            "\n",
            "           0       0.98      0.72      0.83     15043\n",
            "           1       0.23      0.87      0.36      1400\n",
            "\n",
            "    accuracy                           0.74     16443\n",
            "   macro avg       0.60      0.80      0.60     16443\n",
            "weighted avg       0.92      0.74      0.79     16443\n",
            "\n"
          ]
        }
      ],
      "source": [
        "forest = RandomForestClassifier(criterion='entropy', max_depth=45, min_samples_leaf=1, min_samples_split=2, n_estimators=300, random_state=43)\n",
        "forest.fit(X_res1, y_res1)\n",
        "\n",
        "y_pred1 = forest.predict(X_test1)\n",
        "\n",
        "cm = confusion_matrix(y_pred1, y_test1)\n",
        "print(\"Confusion Matrix:\\n\", cm)\n",
        "\n",
        "print(classification_report(y_test1, y_pred1))"
      ]
    },
    {
      "cell_type": "code",
      "execution_count": null,
      "metadata": {
        "colab": {
          "base_uri": "https://localhost:8080/"
        },
        "outputId": "32c71bfb-6347-465e-f0c2-071d7c209d78",
        "id": "TpfqPNrksMA5"
      },
      "outputs": [
        {
          "output_type": "stream",
          "name": "stdout",
          "text": [
            "Confusion Matrix:\n",
            " [[10995   171]\n",
            " [ 4048  1229]]\n",
            "              precision    recall  f1-score   support\n",
            "\n",
            "           0       0.98      0.73      0.84     15043\n",
            "           1       0.23      0.88      0.37      1400\n",
            "\n",
            "    accuracy                           0.74     16443\n",
            "   macro avg       0.61      0.80      0.60     16443\n",
            "weighted avg       0.92      0.74      0.80     16443\n",
            "\n"
          ]
        }
      ],
      "source": [
        "forest = RandomForestClassifier(criterion='entropy', max_depth=45, min_samples_leaf=1, min_samples_split=5, n_estimators=300, random_state=43)\n",
        "forest.fit(X_res2, y_res2)\n",
        "\n",
        "y_pred2 = forest.predict(X_test2)\n",
        "\n",
        "cm = confusion_matrix(y_pred2, y_test2)\n",
        "print(\"Confusion Matrix:\\n\", cm)\n",
        "\n",
        "print(classification_report(y_test2, y_pred2))"
      ]
    },
    {
      "cell_type": "code",
      "execution_count": null,
      "metadata": {
        "colab": {
          "base_uri": "https://localhost:8080/"
        },
        "outputId": "2d121ab8-af0a-44b5-8fde-0996577db764",
        "id": "v-V-licJsMA6"
      },
      "outputs": [
        {
          "output_type": "stream",
          "name": "stdout",
          "text": [
            "Confusion Matrix:\n",
            " [[11047   180]\n",
            " [ 3996  1220]]\n",
            "              precision    recall  f1-score   support\n",
            "\n",
            "           0       0.98      0.73      0.84     15043\n",
            "           1       0.23      0.87      0.37      1400\n",
            "\n",
            "    accuracy                           0.75     16443\n",
            "   macro avg       0.61      0.80      0.60     16443\n",
            "weighted avg       0.92      0.75      0.80     16443\n",
            "\n"
          ]
        }
      ],
      "source": [
        "forest = RandomForestClassifier(criterion='entropy', max_depth=45, min_samples_leaf=1, min_samples_split=5, n_estimators=300, random_state=43)\n",
        "forest.fit(X_res3, y_res3)\n",
        "\n",
        "y_pred3 = forest.predict(X_test3)\n",
        "\n",
        "cm = confusion_matrix(y_pred3, y_test3)\n",
        "print(\"Confusion Matrix:\\n\", cm)\n",
        "\n",
        "print(classification_report(y_test3, y_pred3))"
      ]
    },
    {
      "cell_type": "code",
      "execution_count": null,
      "metadata": {
        "colab": {
          "base_uri": "https://localhost:8080/"
        },
        "outputId": "30d9090c-7851-4c51-f537-910f11b8df30",
        "id": "tOnVMbe2sMA7"
      },
      "outputs": [
        {
          "output_type": "stream",
          "name": "stdout",
          "text": [
            "Confusion Matrix:\n",
            " [[11238   225]\n",
            " [ 3805  1175]]\n",
            "              precision    recall  f1-score   support\n",
            "\n",
            "           0       0.98      0.75      0.85     15043\n",
            "           1       0.24      0.84      0.37      1400\n",
            "\n",
            "    accuracy                           0.75     16443\n",
            "   macro avg       0.61      0.79      0.61     16443\n",
            "weighted avg       0.92      0.75      0.81     16443\n",
            "\n"
          ]
        }
      ],
      "source": [
        "forest = RandomForestClassifier(criterion='entropy', max_depth=25, min_samples_leaf=1, min_samples_split=5, n_estimators=200, random_state=43)\n",
        "forest.fit(X_res4, y_res4)\n",
        "\n",
        "y_pred4 = forest.predict(X_test4)\n",
        "\n",
        "cm = confusion_matrix(y_pred4, y_test4)\n",
        "print(\"Confusion Matrix:\\n\", cm)\n",
        "\n",
        "print(classification_report(y_test4, y_pred4))"
      ]
    },
    {
      "cell_type": "markdown",
      "source": [
        "##RF 4x with NCR US"
      ],
      "metadata": {
        "id": "hMsOV_dX05Lg"
      }
    },
    {
      "cell_type": "code",
      "source": [
        "from sklearn.ensemble import RandomForestClassifier # Import Random Forest Classifier"
      ],
      "metadata": {
        "id": "glILYHn61D-6"
      },
      "execution_count": null,
      "outputs": []
    },
    {
      "cell_type": "code",
      "source": [
        "from imblearn.under_sampling import NeighbourhoodCleaningRule\n",
        "\n",
        "ncr = NeighbourhoodCleaningRule(n_neighbors=3)\n",
        "X_res1, y_res1 = ncr.fit_resample(X_train1,y_train1)\n",
        "\n",
        "X_res1 = pd.DataFrame(X_res1)\n",
        "#y_res1 = pd.DataFrame(y_res1)\n",
        "\n",
        "ncr = NeighbourhoodCleaningRule(n_neighbors=3)\n",
        "X_res2, y_res2 = ncr.fit_resample(X_train2,y_train2)\n",
        "\n",
        "X_res2 = pd.DataFrame(X_res2)\n",
        "#y_res2 = pd.DataFrame(y_res2)\n",
        "\n",
        "ncr = NeighbourhoodCleaningRule(n_neighbors=3)\n",
        "X_res3, y_res3 = ncr.fit_resample(X_train3,y_train3)\n",
        "\n",
        "X_res3 = pd.DataFrame(X_res3)\n",
        "#y_res3 = pd.DataFrame(y_res3)\n",
        "\n",
        "ncr = NeighbourhoodCleaningRule(n_neighbors=3)\n",
        "X_res4, y_res4 = ncr.fit_resample(X_train4,y_train4)\n",
        "\n",
        "X_res4 = pd.DataFrame(X_res4)\n",
        "#y_res4 = pd.DataFrame(y_res4)\n",
        "\n",
        "#ncr = NeighbourhoodCleaningRule(n_neighbors=3)\n",
        "#X_res5, y_res5 = ncr.fit_resample(X_train5,y_train5)\n",
        "\n",
        "#X_res5 = pd.DataFrame(X_res5)\n",
        "#y_res5 = pd.DataFrame(y_res5)"
      ],
      "metadata": {
        "id": "Bd41EaqS04kG"
      },
      "execution_count": null,
      "outputs": []
    },
    {
      "cell_type": "code",
      "execution_count": null,
      "metadata": {
        "colab": {
          "base_uri": "https://localhost:8080/"
        },
        "outputId": "ba5750b0-b546-49fe-8609-01b32f8afefc",
        "id": "nYDZR1yX1D_d"
      },
      "outputs": [
        {
          "output_type": "stream",
          "name": "stdout",
          "text": [
            "Confusion Matrix:\n",
            " [[14553   858]\n",
            " [  490   542]]\n",
            "              precision    recall  f1-score   support\n",
            "\n",
            "           0       0.94      0.97      0.96     15043\n",
            "           1       0.53      0.39      0.45      1400\n",
            "\n",
            "    accuracy                           0.92     16443\n",
            "   macro avg       0.73      0.68      0.70     16443\n",
            "weighted avg       0.91      0.92      0.91     16443\n",
            "\n"
          ]
        }
      ],
      "source": [
        "forest = RandomForestClassifier(criterion='entropy', max_depth=45, min_samples_leaf=1, min_samples_split=2, n_estimators=300, random_state=43)\n",
        "forest.fit(X_res1, y_res1)\n",
        "\n",
        "y_pred1 = forest.predict(X_test1)\n",
        "\n",
        "cm = confusion_matrix(y_pred1, y_test1)\n",
        "print(\"Confusion Matrix:\\n\", cm)\n",
        "\n",
        "print(classification_report(y_test1, y_pred1))"
      ]
    },
    {
      "cell_type": "code",
      "execution_count": null,
      "metadata": {
        "colab": {
          "base_uri": "https://localhost:8080/"
        },
        "outputId": "397e76ca-54c3-410f-8390-f518e1b0f18e",
        "id": "lvGYgd3N1D_f"
      },
      "outputs": [
        {
          "output_type": "stream",
          "name": "stdout",
          "text": [
            "Confusion Matrix:\n",
            " [[14288   745]\n",
            " [  755   655]]\n",
            "              precision    recall  f1-score   support\n",
            "\n",
            "           0       0.95      0.95      0.95     15043\n",
            "           1       0.46      0.47      0.47      1400\n",
            "\n",
            "    accuracy                           0.91     16443\n",
            "   macro avg       0.71      0.71      0.71     16443\n",
            "weighted avg       0.91      0.91      0.91     16443\n",
            "\n"
          ]
        }
      ],
      "source": [
        "forest = RandomForestClassifier(criterion='entropy', max_depth=45, min_samples_leaf=1, min_samples_split=5, n_estimators=300, random_state=43)\n",
        "forest.fit(X_res2, y_res2)\n",
        "\n",
        "y_pred2 = forest.predict(X_test2)\n",
        "\n",
        "cm = confusion_matrix(y_pred2, y_test2)\n",
        "print(\"Confusion Matrix:\\n\", cm)\n",
        "\n",
        "print(classification_report(y_test2, y_pred2))"
      ]
    },
    {
      "cell_type": "code",
      "execution_count": null,
      "metadata": {
        "colab": {
          "base_uri": "https://localhost:8080/"
        },
        "outputId": "316e9b9a-43b1-41ce-9f3d-bcb9adcb40ff",
        "id": "IZt5_mBQ1D_f"
      },
      "outputs": [
        {
          "output_type": "stream",
          "name": "stdout",
          "text": [
            "Confusion Matrix:\n",
            " [[14208   745]\n",
            " [  835   655]]\n",
            "              precision    recall  f1-score   support\n",
            "\n",
            "           0       0.95      0.94      0.95     15043\n",
            "           1       0.44      0.47      0.45      1400\n",
            "\n",
            "    accuracy                           0.90     16443\n",
            "   macro avg       0.69      0.71      0.70     16443\n",
            "weighted avg       0.91      0.90      0.91     16443\n",
            "\n"
          ]
        }
      ],
      "source": [
        "forest = RandomForestClassifier(criterion='entropy', max_depth=45, min_samples_leaf=1, min_samples_split=5, n_estimators=300, random_state=43)\n",
        "forest.fit(X_res3, y_res3)\n",
        "\n",
        "y_pred3 = forest.predict(X_test3)\n",
        "\n",
        "cm = confusion_matrix(y_pred3, y_test3)\n",
        "print(\"Confusion Matrix:\\n\", cm)\n",
        "\n",
        "print(classification_report(y_test3, y_pred3))"
      ]
    },
    {
      "cell_type": "code",
      "execution_count": null,
      "metadata": {
        "colab": {
          "base_uri": "https://localhost:8080/"
        },
        "outputId": "bb9156b0-932e-4a09-fa53-55432a7efa99",
        "id": "UNG4h9Po1D_g"
      },
      "outputs": [
        {
          "output_type": "stream",
          "name": "stdout",
          "text": [
            "Confusion Matrix:\n",
            " [[14128   720]\n",
            " [  915   680]]\n",
            "              precision    recall  f1-score   support\n",
            "\n",
            "           0       0.95      0.94      0.95     15043\n",
            "           1       0.43      0.49      0.45      1400\n",
            "\n",
            "    accuracy                           0.90     16443\n",
            "   macro avg       0.69      0.71      0.70     16443\n",
            "weighted avg       0.91      0.90      0.90     16443\n",
            "\n"
          ]
        }
      ],
      "source": [
        "forest = RandomForestClassifier(criterion='entropy', max_depth=25, min_samples_leaf=1, min_samples_split=5, n_estimators=200, random_state=43)\n",
        "forest.fit(X_res4, y_res4)\n",
        "\n",
        "y_pred4 = forest.predict(X_test4)\n",
        "\n",
        "cm = confusion_matrix(y_pred4, y_test4)\n",
        "print(\"Confusion Matrix:\\n\", cm)\n",
        "\n",
        "print(classification_report(y_test4, y_pred4))"
      ]
    },
    {
      "cell_type": "markdown",
      "metadata": {
        "id": "UbxJcagP3DDf"
      },
      "source": [
        "##Gaussian Naive Bayes 4x\n",
        "Grid Search took ~2min each"
      ]
    },
    {
      "cell_type": "code",
      "execution_count": null,
      "metadata": {
        "id": "gtRdbF6D3F8w"
      },
      "outputs": [],
      "source": [
        "from sklearn.naive_bayes import GaussianNB\n",
        "from sklearn.model_selection import GridSearchCV, RepeatedStratifiedKFold"
      ]
    },
    {
      "cell_type": "code",
      "execution_count": null,
      "metadata": {
        "colab": {
          "base_uri": "https://localhost:8080/"
        },
        "id": "nnHEmbjO3z_c",
        "outputId": "08363b09-fe8c-46b3-c8bd-a9cec3ab2936"
      },
      "outputs": [
        {
          "output_type": "stream",
          "name": "stdout",
          "text": [
            "Fitting 15 folds for each of 100 candidates, totalling 1500 fits\n",
            "Best Parameters: {'var_smoothing': 0.09090909181818174}\n"
          ]
        }
      ],
      "source": [
        "grid_params = {'var_smoothing': np.linspace(10**0, 10**-9, num=100)}\n",
        "grid_search = GridSearchCV(GaussianNB(), param_grid=grid_params, scoring='f1', cv=RepeatedStratifiedKFold(n_splits=5, n_repeats=3,random_state=43), verbose=2, n_jobs=-1)\n",
        "grid_search.fit(X_train1,y_train1)\n",
        "print(f'Best Parameters: {grid_search.best_params_}')"
      ]
    },
    {
      "cell_type": "code",
      "execution_count": null,
      "metadata": {
        "colab": {
          "base_uri": "https://localhost:8080/"
        },
        "id": "ZCciWXOU5QOy",
        "outputId": "25cd7803-617e-41c4-a34f-7976c186d261"
      },
      "outputs": [
        {
          "output_type": "stream",
          "name": "stdout",
          "text": [
            "Confusion Matrix:\n",
            " [[13792   934]\n",
            " [ 1251   466]]\n",
            "              precision    recall  f1-score   support\n",
            "\n",
            "           0       0.94      0.92      0.93     15043\n",
            "           1       0.27      0.33      0.30      1400\n",
            "\n",
            "    accuracy                           0.87     16443\n",
            "   macro avg       0.60      0.62      0.61     16443\n",
            "weighted avg       0.88      0.87      0.87     16443\n",
            "\n"
          ]
        }
      ],
      "source": [
        "gnb = GaussianNB(var_smoothing = 0.09090909181818174)\n",
        "gnb.fit(X_train1,y_train1)\n",
        "\n",
        "y_pred1 = gnb.predict(X_test1)\n",
        "\n",
        "cm = confusion_matrix(y_pred1, y_test1)\n",
        "print(\"Confusion Matrix:\\n\", cm)\n",
        "\n",
        "print(classification_report(y_test1, y_pred1))"
      ]
    },
    {
      "cell_type": "code",
      "execution_count": null,
      "metadata": {
        "colab": {
          "base_uri": "https://localhost:8080/"
        },
        "id": "7SjL8ztU6JV4",
        "outputId": "e5ea4e79-cabc-49c6-cb21-b9d0919f2316"
      },
      "outputs": [
        {
          "name": "stdout",
          "output_type": "stream",
          "text": [
            "Fitting 15 folds for each of 100 candidates, totalling 1500 fits\n",
            "Best Parameters: {'var_smoothing': 0.09090909181818174}\n"
          ]
        }
      ],
      "source": [
        "grid_params = {'var_smoothing': np.linspace(10**0, 10**-9, num=100)}\n",
        "grid_search = GridSearchCV(GaussianNB(), param_grid=grid_params, scoring='f1', cv=RepeatedStratifiedKFold(n_splits=5, n_repeats=3,random_state=43), verbose=2, n_jobs=-1)\n",
        "grid_search.fit(X_train2,y_train2)\n",
        "print(f'Best Parameters: {grid_search.best_params_}')"
      ]
    },
    {
      "cell_type": "code",
      "execution_count": null,
      "metadata": {
        "colab": {
          "base_uri": "https://localhost:8080/"
        },
        "id": "5nBG5NEU6pDa",
        "outputId": "a3736d4c-26be-4998-879e-f7fe8e42e2db"
      },
      "outputs": [
        {
          "name": "stdout",
          "output_type": "stream",
          "text": [
            "Confusion Matrix:\n",
            " [[13862   957]\n",
            " [ 1181   443]]\n",
            "              precision    recall  f1-score   support\n",
            "\n",
            "           0       0.94      0.92      0.93     15043\n",
            "           1       0.27      0.32      0.29      1400\n",
            "\n",
            "    accuracy                           0.87     16443\n",
            "   macro avg       0.60      0.62      0.61     16443\n",
            "weighted avg       0.88      0.87      0.87     16443\n",
            "\n"
          ]
        }
      ],
      "source": [
        "gnb = GaussianNB(var_smoothing = 0.09090909181818174)\n",
        "gnb.fit(X_train2,y_train2)\n",
        "\n",
        "y_pred2 = gnb.predict(X_test2)\n",
        "\n",
        "cm = confusion_matrix(y_pred2, y_test2)\n",
        "print(\"Confusion Matrix:\\n\", cm)\n",
        "\n",
        "print(classification_report(y_test2, y_pred2))"
      ]
    },
    {
      "cell_type": "code",
      "execution_count": null,
      "metadata": {
        "colab": {
          "base_uri": "https://localhost:8080/"
        },
        "id": "jjovf5vT8AG3",
        "outputId": "42249da6-1325-4c0f-e8a3-f41bbbddf83c"
      },
      "outputs": [
        {
          "name": "stdout",
          "output_type": "stream",
          "text": [
            "Fitting 15 folds for each of 100 candidates, totalling 1500 fits\n",
            "Best Parameters: {'var_smoothing': 0.09090909181818174}\n"
          ]
        }
      ],
      "source": [
        "grid_params = {'var_smoothing': np.linspace(10**0, 10**-9, num=100)}\n",
        "grid_search = GridSearchCV(GaussianNB(), param_grid=grid_params, scoring='f1', cv=RepeatedStratifiedKFold(n_splits=5, n_repeats=3,random_state=43), verbose=2, n_jobs=-1)\n",
        "grid_search.fit(X_train3,y_train3)\n",
        "print(f'Best Parameters: {grid_search.best_params_}')"
      ]
    },
    {
      "cell_type": "code",
      "execution_count": null,
      "metadata": {
        "colab": {
          "base_uri": "https://localhost:8080/"
        },
        "id": "e3gtZsOo8LAG",
        "outputId": "4525e568-3751-4adf-8fe9-419445ab61ca"
      },
      "outputs": [
        {
          "name": "stdout",
          "output_type": "stream",
          "text": [
            "Confusion Matrix:\n",
            " [[13826   948]\n",
            " [ 1217   452]]\n",
            "              precision    recall  f1-score   support\n",
            "\n",
            "           0       0.94      0.92      0.93     15043\n",
            "           1       0.27      0.32      0.29      1400\n",
            "\n",
            "    accuracy                           0.87     16443\n",
            "   macro avg       0.60      0.62      0.61     16443\n",
            "weighted avg       0.88      0.87      0.87     16443\n",
            "\n"
          ]
        }
      ],
      "source": [
        "gnb = GaussianNB(var_smoothing = 0.09090909181818174)\n",
        "gnb.fit(X_train3,y_train3)\n",
        "\n",
        "y_pred3 = gnb.predict(X_test3)\n",
        "\n",
        "cm = confusion_matrix(y_pred3, y_test3)\n",
        "print(\"Confusion Matrix:\\n\", cm)\n",
        "\n",
        "print(classification_report(y_test3, y_pred3))"
      ]
    },
    {
      "cell_type": "code",
      "execution_count": null,
      "metadata": {
        "colab": {
          "base_uri": "https://localhost:8080/"
        },
        "id": "Pz8JQrbH8i3c",
        "outputId": "f2212c57-c07b-4161-b9fd-2e41e042fa87"
      },
      "outputs": [
        {
          "name": "stdout",
          "output_type": "stream",
          "text": [
            "Fitting 15 folds for each of 100 candidates, totalling 1500 fits\n",
            "Best Parameters: {'var_smoothing': 1e-09}\n"
          ]
        }
      ],
      "source": [
        "grid_params = {'var_smoothing': np.linspace(10**0, 10**-9, num=100)}\n",
        "grid_search = GridSearchCV(GaussianNB(), param_grid=grid_params, scoring='f1', cv=RepeatedStratifiedKFold(n_splits=5, n_repeats=3,random_state=43), verbose=2, n_jobs=-1)\n",
        "grid_search.fit(X_train4,y_train4)\n",
        "print(f'Best Parameters: {grid_search.best_params_}')"
      ]
    },
    {
      "cell_type": "code",
      "execution_count": null,
      "metadata": {
        "colab": {
          "base_uri": "https://localhost:8080/"
        },
        "id": "_62Vs6jD87R6",
        "outputId": "bdb05537-e44f-473b-b2af-e4a98979954a"
      },
      "outputs": [
        {
          "name": "stdout",
          "output_type": "stream",
          "text": [
            "Confusion Matrix:\n",
            " [[14202  1043]\n",
            " [  841   357]]\n",
            "              precision    recall  f1-score   support\n",
            "\n",
            "           0       0.93      0.94      0.94     15043\n",
            "           1       0.30      0.26      0.27      1400\n",
            "\n",
            "    accuracy                           0.89     16443\n",
            "   macro avg       0.61      0.60      0.61     16443\n",
            "weighted avg       0.88      0.89      0.88     16443\n",
            "\n"
          ]
        }
      ],
      "source": [
        "gnb = GaussianNB(var_smoothing = 1e-09)\n",
        "gnb.fit(X_train4,y_train4)\n",
        "\n",
        "y_pred4 = gnb.predict(X_test4)\n",
        "\n",
        "cm = confusion_matrix(y_pred4, y_test4)\n",
        "print(\"Confusion Matrix:\\n\", cm)\n",
        "\n",
        "print(classification_report(y_test4, y_pred4))"
      ]
    },
    {
      "cell_type": "markdown",
      "metadata": {
        "id": "KiNUwXKk9TBO"
      },
      "source": [
        "##Naive Bayes 4x with SMOTE"
      ]
    },
    {
      "cell_type": "code",
      "execution_count": null,
      "metadata": {
        "id": "C-aU-DXC9SrR"
      },
      "outputs": [],
      "source": [
        "from imblearn.over_sampling import SMOTE\n",
        "\n",
        "smote = SMOTE(random_state=43)\n",
        "X_res1, y_res1 = smote.fit_resample(X_train1,y_train1)\n",
        "\n",
        "X_res1 = pd.DataFrame(X_res1)\n",
        "#y_res1 = pd.DataFrame(y_res1)\n",
        "\n",
        "smote = SMOTE(random_state=43)\n",
        "X_res2, y_res2 = smote.fit_resample(X_train2,y_train2)\n",
        "\n",
        "X_res2 = pd.DataFrame(X_res2)\n",
        "#y_res2 = pd.DataFrame(y_res2)\n",
        "\n",
        "smote = SMOTE(random_state=43)\n",
        "X_res3, y_res3 = smote.fit_resample(X_train3,y_train3)\n",
        "\n",
        "X_res3 = pd.DataFrame(X_res3)\n",
        "#y_res3 = pd.DataFrame(y_res3)\n",
        "\n",
        "smote = SMOTE(random_state=43)\n",
        "X_res4, y_res4 = smote.fit_resample(X_train4,y_train4)\n",
        "\n",
        "X_res4 = pd.DataFrame(X_res4)\n",
        "#y_res4 = pd.DataFrame(y_res4)\n",
        "\n",
        "smote = SMOTE(random_state=43)\n",
        "X_res5, y_res5 = smote.fit_resample(X_train5,y_train5)\n",
        "\n",
        "X_res5 = pd.DataFrame(X_res5)\n",
        "#y_res5 = pd.DataFrame(y_res5)"
      ]
    },
    {
      "cell_type": "code",
      "execution_count": null,
      "metadata": {
        "colab": {
          "base_uri": "https://localhost:8080/"
        },
        "id": "lPR_n9-g9gmo",
        "outputId": "2e72ac3d-692d-47a4-a852-14c0473b1495"
      },
      "outputs": [
        {
          "output_type": "stream",
          "name": "stdout",
          "text": [
            "Confusion Matrix:\n",
            " [[6963  201]\n",
            " [8080 1199]]\n",
            "              precision    recall  f1-score   support\n",
            "\n",
            "           0       0.97      0.46      0.63     15043\n",
            "           1       0.13      0.86      0.22      1400\n",
            "\n",
            "    accuracy                           0.50     16443\n",
            "   macro avg       0.55      0.66      0.43     16443\n",
            "weighted avg       0.90      0.50      0.59     16443\n",
            "\n"
          ]
        }
      ],
      "source": [
        "gnb = GaussianNB(var_smoothing = 0.09090909181818174)\n",
        "gnb.fit(X_res1,y_res1)\n",
        "\n",
        "y_pred1 = gnb.predict(X_test1)\n",
        "\n",
        "cm = confusion_matrix(y_pred1, y_test1)\n",
        "print(\"Confusion Matrix:\\n\", cm)\n",
        "\n",
        "print(classification_report(y_test1, y_pred1))"
      ]
    },
    {
      "cell_type": "code",
      "execution_count": null,
      "metadata": {
        "colab": {
          "base_uri": "https://localhost:8080/"
        },
        "id": "s6T7JnIJ9gmq",
        "outputId": "f025d19c-3a45-41c3-821d-6dd2d84b8e29"
      },
      "outputs": [
        {
          "name": "stdout",
          "output_type": "stream",
          "text": [
            "Confusion Matrix:\n",
            " [[7459  218]\n",
            " [7584 1182]]\n",
            "              precision    recall  f1-score   support\n",
            "\n",
            "           0       0.97      0.50      0.66     15043\n",
            "           1       0.13      0.84      0.23      1400\n",
            "\n",
            "    accuracy                           0.53     16443\n",
            "   macro avg       0.55      0.67      0.44     16443\n",
            "weighted avg       0.90      0.53      0.62     16443\n",
            "\n"
          ]
        }
      ],
      "source": [
        "gnb = GaussianNB(var_smoothing = 0.09090909181818174)\n",
        "gnb.fit(X_res2,y_res2)\n",
        "\n",
        "y_pred2 = gnb.predict(X_test2)\n",
        "\n",
        "cm = confusion_matrix(y_pred2, y_test2)\n",
        "print(\"Confusion Matrix:\\n\", cm)\n",
        "\n",
        "print(classification_report(y_test2, y_pred2))"
      ]
    },
    {
      "cell_type": "code",
      "execution_count": null,
      "metadata": {
        "colab": {
          "base_uri": "https://localhost:8080/"
        },
        "id": "ox67FOEr9gmr",
        "outputId": "c9e37b15-0c79-4dd3-e3e1-6dd97f0b551e"
      },
      "outputs": [
        {
          "name": "stdout",
          "output_type": "stream",
          "text": [
            "Confusion Matrix:\n",
            " [[6667  213]\n",
            " [8376 1187]]\n",
            "              precision    recall  f1-score   support\n",
            "\n",
            "           0       0.97      0.44      0.61     15043\n",
            "           1       0.12      0.85      0.22      1400\n",
            "\n",
            "    accuracy                           0.48     16443\n",
            "   macro avg       0.55      0.65      0.41     16443\n",
            "weighted avg       0.90      0.48      0.57     16443\n",
            "\n"
          ]
        }
      ],
      "source": [
        "gnb = GaussianNB(var_smoothing = 0.09090909181818174)\n",
        "gnb.fit(X_res3,y_res3)\n",
        "\n",
        "y_pred3 = gnb.predict(X_test3)\n",
        "\n",
        "cm = confusion_matrix(y_pred3, y_test3)\n",
        "print(\"Confusion Matrix:\\n\", cm)\n",
        "\n",
        "print(classification_report(y_test3, y_pred3))"
      ]
    },
    {
      "cell_type": "code",
      "execution_count": null,
      "metadata": {
        "colab": {
          "base_uri": "https://localhost:8080/"
        },
        "id": "Y9qfeyEG9gms",
        "outputId": "523fd73e-8a32-47d8-b989-cfa47674904a"
      },
      "outputs": [
        {
          "name": "stdout",
          "output_type": "stream",
          "text": [
            "Confusion Matrix:\n",
            " [[9761  354]\n",
            " [5282 1046]]\n",
            "              precision    recall  f1-score   support\n",
            "\n",
            "           0       0.97      0.65      0.78     15043\n",
            "           1       0.17      0.75      0.27      1400\n",
            "\n",
            "    accuracy                           0.66     16443\n",
            "   macro avg       0.57      0.70      0.52     16443\n",
            "weighted avg       0.90      0.66      0.73     16443\n",
            "\n"
          ]
        }
      ],
      "source": [
        "gnb = GaussianNB(var_smoothing = 1e-09)\n",
        "gnb.fit(X_res4,y_res4)\n",
        "\n",
        "y_pred4 = gnb.predict(X_test4)\n",
        "\n",
        "cm = confusion_matrix(y_pred4, y_test4)\n",
        "print(\"Confusion Matrix:\\n\", cm)\n",
        "\n",
        "print(classification_report(y_test4, y_pred4))"
      ]
    },
    {
      "cell_type": "markdown",
      "source": [
        "##Naive Bayes 4x with ROS"
      ],
      "metadata": {
        "id": "6Nih1eZqVDZn"
      }
    },
    {
      "cell_type": "code",
      "source": [
        "from sklearn.naive_bayes import GaussianNB"
      ],
      "metadata": {
        "id": "vUejsS9HVIxy"
      },
      "execution_count": null,
      "outputs": []
    },
    {
      "cell_type": "code",
      "source": [
        "from imblearn.over_sampling import RandomOverSampler\n",
        "ros = RandomOverSampler(random_state=43)\n",
        "\n",
        "X_res1, y_res1 = ros.fit_resample(X_train1,y_train1)\n",
        "\n",
        "X_res1 = pd.DataFrame(X_res1)\n",
        "#y_res1 = pd.DataFrame(y_res1)\n",
        "\n",
        "ros = RandomOverSampler(random_state=43)\n",
        "X_res2, y_res2 = ros.fit_resample(X_train2,y_train2)\n",
        "\n",
        "X_res2 = pd.DataFrame(X_res2)\n",
        "#y_res2 = pd.DataFrame(y_res2)\n",
        "\n",
        "ros = RandomOverSampler(random_state=43)\n",
        "X_res3, y_res3 = ros.fit_resample(X_train3,y_train3)\n",
        "\n",
        "X_res3 = pd.DataFrame(X_res3)\n",
        "#y_res3 = pd.DataFrame(y_res3)\n",
        "\n",
        "ros = RandomOverSampler(random_state=43)\n",
        "X_res4, y_res4 = ros.fit_resample(X_train4,y_train4)\n",
        "\n",
        "X_res4 = pd.DataFrame(X_res4)\n",
        "#y_res4 = pd.DataFrame(y_res4)\n",
        "\n",
        "ros = RandomOverSampler(random_state=43)\n",
        "X_res5, y_res5 = ros.fit_resample(X_train5,y_train5)\n",
        "\n",
        "X_res5 = pd.DataFrame(X_res5)\n",
        "#y_res5 = pd.DataFrame(y_res5)"
      ],
      "metadata": {
        "id": "3gI4gLDAVMnK"
      },
      "execution_count": null,
      "outputs": []
    },
    {
      "cell_type": "code",
      "execution_count": null,
      "metadata": {
        "colab": {
          "base_uri": "https://localhost:8080/"
        },
        "outputId": "1ecd223a-0eb0-4ca3-ada5-4c7af229b01d",
        "id": "IyHlj1IvVU7M"
      },
      "outputs": [
        {
          "output_type": "stream",
          "name": "stdout",
          "text": [
            "Confusion Matrix:\n",
            " [[9504  314]\n",
            " [5539 1086]]\n",
            "              precision    recall  f1-score   support\n",
            "\n",
            "           0       0.97      0.63      0.76     15043\n",
            "           1       0.16      0.78      0.27      1400\n",
            "\n",
            "    accuracy                           0.64     16443\n",
            "   macro avg       0.57      0.70      0.52     16443\n",
            "weighted avg       0.90      0.64      0.72     16443\n",
            "\n"
          ]
        }
      ],
      "source": [
        "gnb = GaussianNB(var_smoothing = 0.09090909181818174)\n",
        "gnb.fit(X_res1,y_res1)\n",
        "\n",
        "y_pred1 = gnb.predict(X_test1)\n",
        "\n",
        "cm = confusion_matrix(y_pred1, y_test1)\n",
        "print(\"Confusion Matrix:\\n\", cm)\n",
        "\n",
        "print(classification_report(y_test1, y_pred1))"
      ]
    },
    {
      "cell_type": "code",
      "execution_count": null,
      "metadata": {
        "colab": {
          "base_uri": "https://localhost:8080/"
        },
        "outputId": "99a6fc5d-31bc-44b0-e4d7-65f8e647090e",
        "id": "Sv0_o1YPVU7O"
      },
      "outputs": [
        {
          "output_type": "stream",
          "name": "stdout",
          "text": [
            "Confusion Matrix:\n",
            " [[9593  331]\n",
            " [5450 1069]]\n",
            "              precision    recall  f1-score   support\n",
            "\n",
            "           0       0.97      0.64      0.77     15043\n",
            "           1       0.16      0.76      0.27      1400\n",
            "\n",
            "    accuracy                           0.65     16443\n",
            "   macro avg       0.57      0.70      0.52     16443\n",
            "weighted avg       0.90      0.65      0.73     16443\n",
            "\n"
          ]
        }
      ],
      "source": [
        "gnb = GaussianNB(var_smoothing = 0.09090909181818174)\n",
        "gnb.fit(X_res2,y_res2)\n",
        "\n",
        "y_pred2 = gnb.predict(X_test2)\n",
        "\n",
        "cm = confusion_matrix(y_pred2, y_test2)\n",
        "print(\"Confusion Matrix:\\n\", cm)\n",
        "\n",
        "print(classification_report(y_test2, y_pred2))"
      ]
    },
    {
      "cell_type": "code",
      "execution_count": null,
      "metadata": {
        "colab": {
          "base_uri": "https://localhost:8080/"
        },
        "outputId": "bb0adc19-5851-4a32-8efd-26736bd9304e",
        "id": "lxY02xfnVU7Q"
      },
      "outputs": [
        {
          "output_type": "stream",
          "name": "stdout",
          "text": [
            "Confusion Matrix:\n",
            " [[9540  329]\n",
            " [5503 1071]]\n",
            "              precision    recall  f1-score   support\n",
            "\n",
            "           0       0.97      0.63      0.77     15043\n",
            "           1       0.16      0.77      0.27      1400\n",
            "\n",
            "    accuracy                           0.65     16443\n",
            "   macro avg       0.56      0.70      0.52     16443\n",
            "weighted avg       0.90      0.65      0.72     16443\n",
            "\n"
          ]
        }
      ],
      "source": [
        "gnb = GaussianNB(var_smoothing = 0.09090909181818174)\n",
        "gnb.fit(X_res3,y_res3)\n",
        "\n",
        "y_pred3 = gnb.predict(X_test3)\n",
        "\n",
        "cm = confusion_matrix(y_pred3, y_test3)\n",
        "print(\"Confusion Matrix:\\n\", cm)\n",
        "\n",
        "print(classification_report(y_test3, y_pred3))"
      ]
    },
    {
      "cell_type": "code",
      "execution_count": null,
      "metadata": {
        "colab": {
          "base_uri": "https://localhost:8080/"
        },
        "outputId": "49edab44-4edb-4d16-f459-2db5d8551dac",
        "id": "GkRCKRORVU7R"
      },
      "outputs": [
        {
          "output_type": "stream",
          "name": "stdout",
          "text": [
            "Confusion Matrix:\n",
            " [[11130   470]\n",
            " [ 3913   930]]\n",
            "              precision    recall  f1-score   support\n",
            "\n",
            "           0       0.96      0.74      0.84     15043\n",
            "           1       0.19      0.66      0.30      1400\n",
            "\n",
            "    accuracy                           0.73     16443\n",
            "   macro avg       0.58      0.70      0.57     16443\n",
            "weighted avg       0.89      0.73      0.79     16443\n",
            "\n"
          ]
        }
      ],
      "source": [
        "gnb = GaussianNB(var_smoothing = 1e-09)\n",
        "gnb.fit(X_res4,y_res4)\n",
        "\n",
        "y_pred4 = gnb.predict(X_test4)\n",
        "\n",
        "cm = confusion_matrix(y_pred4, y_test4)\n",
        "print(\"Confusion Matrix:\\n\", cm)\n",
        "\n",
        "print(classification_report(y_test4, y_pred4))"
      ]
    },
    {
      "cell_type": "markdown",
      "source": [
        "##Naive Bayes 4x with ADASYN"
      ],
      "metadata": {
        "id": "66UIC7pLoswL"
      }
    },
    {
      "cell_type": "code",
      "source": [
        "from sklearn.naive_bayes import GaussianNB"
      ],
      "metadata": {
        "id": "GhoPnr3oo1fs"
      },
      "execution_count": null,
      "outputs": []
    },
    {
      "cell_type": "code",
      "source": [
        "from imblearn.over_sampling import ADASYN\n",
        "\n",
        "adasyn = ADASYN(random_state=43)\n",
        "X_res1, y_res1 = adasyn.fit_resample(X_train1,y_train1)\n",
        "\n",
        "X_res1 = pd.DataFrame(X_res1)\n",
        "#y_res1 = pd.DataFrame(y_res1)\n",
        "\n",
        "adasyn = ADASYN(random_state=43)\n",
        "X_res2, y_res2 = adasyn.fit_resample(X_train2,y_train2)\n",
        "\n",
        "X_res2 = pd.DataFrame(X_res2)\n",
        "#y_res2 = pd.DataFrame(y_res2)\n",
        "\n",
        "adasyn = ADASYN(random_state=43)\n",
        "X_res3, y_res3 = adasyn.fit_resample(X_train3,y_train3)\n",
        "\n",
        "X_res3 = pd.DataFrame(X_res3)\n",
        "#y_res3 = pd.DataFrame(y_res3)\n",
        "\n",
        "adasyn = ADASYN(random_state=43)\n",
        "X_res4, y_res4 = adasyn.fit_resample(X_train4,y_train4)\n",
        "\n",
        "X_res4 = pd.DataFrame(X_res4)\n",
        "#y_res4 = pd.DataFrame(y_res4)\n",
        "\n",
        "adasyn = ADASYN(random_state=43)\n",
        "X_res5, y_res5 = adasyn.fit_resample(X_train5,y_train5)\n",
        "\n",
        "X_res5 = pd.DataFrame(X_res5)\n",
        "#y_res5 = pd.DataFrame(y_res5)"
      ],
      "metadata": {
        "id": "uqKbyfcLo6H2"
      },
      "execution_count": null,
      "outputs": []
    },
    {
      "cell_type": "code",
      "execution_count": null,
      "metadata": {
        "colab": {
          "base_uri": "https://localhost:8080/"
        },
        "outputId": "ecbb29f7-8ea5-468f-f589-808525b378db",
        "id": "jx4oDcOLo1fu"
      },
      "outputs": [
        {
          "output_type": "stream",
          "name": "stdout",
          "text": [
            "Confusion Matrix:\n",
            " [[6899  194]\n",
            " [8144 1206]]\n",
            "              precision    recall  f1-score   support\n",
            "\n",
            "           0       0.97      0.46      0.62     15043\n",
            "           1       0.13      0.86      0.22      1400\n",
            "\n",
            "    accuracy                           0.49     16443\n",
            "   macro avg       0.55      0.66      0.42     16443\n",
            "weighted avg       0.90      0.49      0.59     16443\n",
            "\n"
          ]
        }
      ],
      "source": [
        "gnb = GaussianNB(var_smoothing = 0.09090909181818174)\n",
        "gnb.fit(X_res1,y_res1)\n",
        "\n",
        "y_pred1 = gnb.predict(X_test1)\n",
        "\n",
        "cm = confusion_matrix(y_pred1, y_test1)\n",
        "print(\"Confusion Matrix:\\n\", cm)\n",
        "\n",
        "print(classification_report(y_test1, y_pred1))"
      ]
    },
    {
      "cell_type": "code",
      "execution_count": null,
      "metadata": {
        "colab": {
          "base_uri": "https://localhost:8080/"
        },
        "outputId": "4ebeb894-6ba7-4870-d14d-7d85dd41ef03",
        "id": "pzLwhAD4o1fw"
      },
      "outputs": [
        {
          "output_type": "stream",
          "name": "stdout",
          "text": [
            "Confusion Matrix:\n",
            " [[7805  223]\n",
            " [7238 1177]]\n",
            "              precision    recall  f1-score   support\n",
            "\n",
            "           0       0.97      0.52      0.68     15043\n",
            "           1       0.14      0.84      0.24      1400\n",
            "\n",
            "    accuracy                           0.55     16443\n",
            "   macro avg       0.56      0.68      0.46     16443\n",
            "weighted avg       0.90      0.55      0.64     16443\n",
            "\n"
          ]
        }
      ],
      "source": [
        "gnb = GaussianNB(var_smoothing = 0.09090909181818174)\n",
        "gnb.fit(X_res2,y_res2)\n",
        "\n",
        "y_pred2 = gnb.predict(X_test2)\n",
        "\n",
        "cm = confusion_matrix(y_pred2, y_test2)\n",
        "print(\"Confusion Matrix:\\n\", cm)\n",
        "\n",
        "print(classification_report(y_test2, y_pred2))"
      ]
    },
    {
      "cell_type": "code",
      "execution_count": null,
      "metadata": {
        "colab": {
          "base_uri": "https://localhost:8080/"
        },
        "outputId": "eaa22536-a5b0-4a63-a687-6c6460ce4c8d",
        "id": "NiuGSg50o1fx"
      },
      "outputs": [
        {
          "output_type": "stream",
          "name": "stdout",
          "text": [
            "Confusion Matrix:\n",
            " [[6930  210]\n",
            " [8113 1190]]\n",
            "              precision    recall  f1-score   support\n",
            "\n",
            "           0       0.97      0.46      0.62     15043\n",
            "           1       0.13      0.85      0.22      1400\n",
            "\n",
            "    accuracy                           0.49     16443\n",
            "   macro avg       0.55      0.66      0.42     16443\n",
            "weighted avg       0.90      0.49      0.59     16443\n",
            "\n"
          ]
        }
      ],
      "source": [
        "gnb = GaussianNB(var_smoothing = 0.09090909181818174)\n",
        "gnb.fit(X_res3,y_res3)\n",
        "\n",
        "y_pred3 = gnb.predict(X_test3)\n",
        "\n",
        "cm = confusion_matrix(y_pred3, y_test3)\n",
        "print(\"Confusion Matrix:\\n\", cm)\n",
        "\n",
        "print(classification_report(y_test3, y_pred3))"
      ]
    },
    {
      "cell_type": "code",
      "execution_count": null,
      "metadata": {
        "colab": {
          "base_uri": "https://localhost:8080/"
        },
        "outputId": "c333ec42-8fb1-41a5-ab66-4db548a91d60",
        "id": "xaliYoh0o1fy"
      },
      "outputs": [
        {
          "output_type": "stream",
          "name": "stdout",
          "text": [
            "Confusion Matrix:\n",
            " [[10708   439]\n",
            " [ 4335   961]]\n",
            "              precision    recall  f1-score   support\n",
            "\n",
            "           0       0.96      0.71      0.82     15043\n",
            "           1       0.18      0.69      0.29      1400\n",
            "\n",
            "    accuracy                           0.71     16443\n",
            "   macro avg       0.57      0.70      0.55     16443\n",
            "weighted avg       0.89      0.71      0.77     16443\n",
            "\n"
          ]
        }
      ],
      "source": [
        "gnb = GaussianNB(var_smoothing = 1e-09)\n",
        "gnb.fit(X_res4,y_res4)\n",
        "\n",
        "y_pred4 = gnb.predict(X_test4)\n",
        "\n",
        "cm = confusion_matrix(y_pred4, y_test4)\n",
        "print(\"Confusion Matrix:\\n\", cm)\n",
        "\n",
        "print(classification_report(y_test4, y_pred4))"
      ]
    },
    {
      "cell_type": "markdown",
      "source": [
        "##Naive Bayes 4x with RUS"
      ],
      "metadata": {
        "id": "RwK-2MJ4sXOY"
      }
    },
    {
      "cell_type": "code",
      "source": [
        "from sklearn.naive_bayes import GaussianNB"
      ],
      "metadata": {
        "id": "EVqapO5Xsdtb"
      },
      "execution_count": null,
      "outputs": []
    },
    {
      "cell_type": "code",
      "source": [
        "from imblearn.under_sampling import RandomUnderSampler\n",
        "\n",
        "rus = RandomUnderSampler(random_state=43)\n",
        "X_res1, y_res1 = rus.fit_resample(X_train1,y_train1)\n",
        "\n",
        "X_res1 = pd.DataFrame(X_res1)\n",
        "#y_res1 = pd.DataFrame(y_res1)\n",
        "\n",
        "rus = RandomUnderSampler(random_state=43)\n",
        "X_res2, y_res2 = rus.fit_resample(X_train2,y_train2)\n",
        "\n",
        "X_res2 = pd.DataFrame(X_res2)\n",
        "#y_res2 = pd.DataFrame(y_res2)\n",
        "\n",
        "rus = RandomUnderSampler(random_state=43)\n",
        "X_res3, y_res3 = rus.fit_resample(X_train3,y_train3)\n",
        "\n",
        "X_res3 = pd.DataFrame(X_res3)\n",
        "#y_res3 = pd.DataFrame(y_res3)\n",
        "\n",
        "rus = RandomUnderSampler(random_state=43)\n",
        "X_res4, y_res4 = rus.fit_resample(X_train4,y_train4)\n",
        "\n",
        "X_res4 = pd.DataFrame(X_res4)\n",
        "#y_res4 = pd.DataFrame(y_res4)\n",
        "\n",
        "rus = RandomUnderSampler(random_state=43)\n",
        "X_res5, y_res5 = rus.fit_resample(X_train5,y_train5)\n",
        "\n",
        "X_res5 = pd.DataFrame(X_res5)\n",
        "#y_res5 = pd.DataFrame(y_res5)"
      ],
      "metadata": {
        "id": "j7YKQOlxsWNo"
      },
      "execution_count": null,
      "outputs": []
    },
    {
      "cell_type": "code",
      "execution_count": null,
      "metadata": {
        "colab": {
          "base_uri": "https://localhost:8080/"
        },
        "outputId": "4a171522-a532-42b2-eab6-f719d8fe5e32",
        "id": "GD__s_G2sdt-"
      },
      "outputs": [
        {
          "output_type": "stream",
          "name": "stdout",
          "text": [
            "Confusion Matrix:\n",
            " [[9669  328]\n",
            " [5374 1072]]\n",
            "              precision    recall  f1-score   support\n",
            "\n",
            "           0       0.97      0.64      0.77     15043\n",
            "           1       0.17      0.77      0.27      1400\n",
            "\n",
            "    accuracy                           0.65     16443\n",
            "   macro avg       0.57      0.70      0.52     16443\n",
            "weighted avg       0.90      0.65      0.73     16443\n",
            "\n"
          ]
        }
      ],
      "source": [
        "gnb = GaussianNB(var_smoothing = 0.09090909181818174)\n",
        "gnb.fit(X_res1,y_res1)\n",
        "\n",
        "y_pred1 = gnb.predict(X_test1)\n",
        "\n",
        "cm = confusion_matrix(y_pred1, y_test1)\n",
        "print(\"Confusion Matrix:\\n\", cm)\n",
        "\n",
        "print(classification_report(y_test1, y_pred1))"
      ]
    },
    {
      "cell_type": "code",
      "execution_count": null,
      "metadata": {
        "colab": {
          "base_uri": "https://localhost:8080/"
        },
        "outputId": "a9615b8b-4940-497b-967c-6deb21ec30f2",
        "id": "8J288VFtsdt_"
      },
      "outputs": [
        {
          "output_type": "stream",
          "name": "stdout",
          "text": [
            "Confusion Matrix:\n",
            " [[9788  335]\n",
            " [5255 1065]]\n",
            "              precision    recall  f1-score   support\n",
            "\n",
            "           0       0.97      0.65      0.78     15043\n",
            "           1       0.17      0.76      0.28      1400\n",
            "\n",
            "    accuracy                           0.66     16443\n",
            "   macro avg       0.57      0.71      0.53     16443\n",
            "weighted avg       0.90      0.66      0.74     16443\n",
            "\n"
          ]
        }
      ],
      "source": [
        "gnb = GaussianNB(var_smoothing = 0.09090909181818174)\n",
        "gnb.fit(X_res2,y_res2)\n",
        "\n",
        "y_pred2 = gnb.predict(X_test2)\n",
        "\n",
        "cm = confusion_matrix(y_pred2, y_test2)\n",
        "print(\"Confusion Matrix:\\n\", cm)\n",
        "\n",
        "print(classification_report(y_test2, y_pred2))"
      ]
    },
    {
      "cell_type": "code",
      "execution_count": null,
      "metadata": {
        "colab": {
          "base_uri": "https://localhost:8080/"
        },
        "outputId": "965d2add-ebcf-4854-b578-dc1feebfb704",
        "id": "c33dsClnsduA"
      },
      "outputs": [
        {
          "output_type": "stream",
          "name": "stdout",
          "text": [
            "Confusion Matrix:\n",
            " [[9652  348]\n",
            " [5391 1052]]\n",
            "              precision    recall  f1-score   support\n",
            "\n",
            "           0       0.97      0.64      0.77     15043\n",
            "           1       0.16      0.75      0.27      1400\n",
            "\n",
            "    accuracy                           0.65     16443\n",
            "   macro avg       0.56      0.70      0.52     16443\n",
            "weighted avg       0.90      0.65      0.73     16443\n",
            "\n"
          ]
        }
      ],
      "source": [
        "gnb = GaussianNB(var_smoothing = 0.09090909181818174)\n",
        "gnb.fit(X_res3,y_res3)\n",
        "\n",
        "y_pred3 = gnb.predict(X_test3)\n",
        "\n",
        "cm = confusion_matrix(y_pred3, y_test3)\n",
        "print(\"Confusion Matrix:\\n\", cm)\n",
        "\n",
        "print(classification_report(y_test3, y_pred3))"
      ]
    },
    {
      "cell_type": "code",
      "execution_count": null,
      "metadata": {
        "colab": {
          "base_uri": "https://localhost:8080/"
        },
        "outputId": "e02092c5-cb71-4768-a453-e0f7207fc927",
        "id": "3nkCb425sduB"
      },
      "outputs": [
        {
          "output_type": "stream",
          "name": "stdout",
          "text": [
            "Confusion Matrix:\n",
            " [[11337   493]\n",
            " [ 3706   907]]\n",
            "              precision    recall  f1-score   support\n",
            "\n",
            "           0       0.96      0.75      0.84     15043\n",
            "           1       0.20      0.65      0.30      1400\n",
            "\n",
            "    accuracy                           0.74     16443\n",
            "   macro avg       0.58      0.70      0.57     16443\n",
            "weighted avg       0.89      0.74      0.80     16443\n",
            "\n"
          ]
        }
      ],
      "source": [
        "gnb = GaussianNB(var_smoothing = 1e-09)\n",
        "gnb.fit(X_res4,y_res4)\n",
        "\n",
        "y_pred4 = gnb.predict(X_test4)\n",
        "\n",
        "cm = confusion_matrix(y_pred4, y_test4)\n",
        "print(\"Confusion Matrix:\\n\", cm)\n",
        "\n",
        "print(classification_report(y_test4, y_pred4))"
      ]
    },
    {
      "cell_type": "markdown",
      "source": [
        "##Naive Bayes 4x with NCR US"
      ],
      "metadata": {
        "id": "1IKnSeCJ1MnW"
      }
    },
    {
      "cell_type": "code",
      "source": [
        "from sklearn.naive_bayes import GaussianNB"
      ],
      "metadata": {
        "id": "eLjf9ele1TuR"
      },
      "execution_count": null,
      "outputs": []
    },
    {
      "cell_type": "code",
      "source": [
        "from imblearn.under_sampling import NeighbourhoodCleaningRule\n",
        "\n",
        "ncr = NeighbourhoodCleaningRule(n_neighbors=3)\n",
        "X_res1, y_res1 = ncr.fit_resample(X_train1,y_train1)\n",
        "\n",
        "X_res1 = pd.DataFrame(X_res1)\n",
        "#y_res1 = pd.DataFrame(y_res1)\n",
        "\n",
        "ncr = NeighbourhoodCleaningRule(n_neighbors=3)\n",
        "X_res2, y_res2 = ncr.fit_resample(X_train2,y_train2)\n",
        "\n",
        "X_res2 = pd.DataFrame(X_res2)\n",
        "#y_res2 = pd.DataFrame(y_res2)\n",
        "\n",
        "ncr = NeighbourhoodCleaningRule(n_neighbors=3)\n",
        "X_res3, y_res3 = ncr.fit_resample(X_train3,y_train3)\n",
        "\n",
        "X_res3 = pd.DataFrame(X_res3)\n",
        "#y_res3 = pd.DataFrame(y_res3)\n",
        "\n",
        "ncr = NeighbourhoodCleaningRule(n_neighbors=3)\n",
        "X_res4, y_res4 = ncr.fit_resample(X_train4,y_train4)\n",
        "\n",
        "X_res4 = pd.DataFrame(X_res4)\n",
        "#y_res4 = pd.DataFrame(y_res4)\n",
        "\n",
        "#ncr = NeighbourhoodCleaningRule(n_neighbors=3)\n",
        "#X_res5, y_res5 = ncr.fit_resample(X_train5,y_train5)\n",
        "\n",
        "#X_res5 = pd.DataFrame(X_res5)\n",
        "#y_res5 = pd.DataFrame(y_res5)"
      ],
      "metadata": {
        "id": "S2XO8VEp1L8t"
      },
      "execution_count": null,
      "outputs": []
    },
    {
      "cell_type": "code",
      "execution_count": null,
      "metadata": {
        "colab": {
          "base_uri": "https://localhost:8080/"
        },
        "outputId": "68a2bc5a-8429-402d-9f1d-a2cc8f27ff95",
        "id": "jZaa_zvr1Tu1"
      },
      "outputs": [
        {
          "output_type": "stream",
          "name": "stdout",
          "text": [
            "Confusion Matrix:\n",
            " [[12248   645]\n",
            " [ 2795   755]]\n",
            "              precision    recall  f1-score   support\n",
            "\n",
            "           0       0.95      0.81      0.88     15043\n",
            "           1       0.21      0.54      0.31      1400\n",
            "\n",
            "    accuracy                           0.79     16443\n",
            "   macro avg       0.58      0.68      0.59     16443\n",
            "weighted avg       0.89      0.79      0.83     16443\n",
            "\n"
          ]
        }
      ],
      "source": [
        "gnb = GaussianNB(var_smoothing = 0.09090909181818174)\n",
        "gnb.fit(X_res1,y_res1)\n",
        "\n",
        "y_pred1 = gnb.predict(X_test1)\n",
        "\n",
        "cm = confusion_matrix(y_pred1, y_test1)\n",
        "print(\"Confusion Matrix:\\n\", cm)\n",
        "\n",
        "print(classification_report(y_test1, y_pred1))"
      ]
    },
    {
      "cell_type": "code",
      "execution_count": null,
      "metadata": {
        "colab": {
          "base_uri": "https://localhost:8080/"
        },
        "outputId": "b9ee2979-8ee9-4e3c-fc1d-3fec3a97524a",
        "id": "Cz55zlgq1Tu3"
      },
      "outputs": [
        {
          "output_type": "stream",
          "name": "stdout",
          "text": [
            "Confusion Matrix:\n",
            " [[13097   787]\n",
            " [ 1946   613]]\n",
            "              precision    recall  f1-score   support\n",
            "\n",
            "           0       0.94      0.87      0.91     15043\n",
            "           1       0.24      0.44      0.31      1400\n",
            "\n",
            "    accuracy                           0.83     16443\n",
            "   macro avg       0.59      0.65      0.61     16443\n",
            "weighted avg       0.88      0.83      0.85     16443\n",
            "\n"
          ]
        }
      ],
      "source": [
        "gnb = GaussianNB(var_smoothing = 0.09090909181818174)\n",
        "gnb.fit(X_res2,y_res2)\n",
        "\n",
        "y_pred2 = gnb.predict(X_test2)\n",
        "\n",
        "cm = confusion_matrix(y_pred2, y_test2)\n",
        "print(\"Confusion Matrix:\\n\", cm)\n",
        "\n",
        "print(classification_report(y_test2, y_pred2))"
      ]
    },
    {
      "cell_type": "code",
      "execution_count": null,
      "metadata": {
        "colab": {
          "base_uri": "https://localhost:8080/"
        },
        "outputId": "1f7a1d7b-1027-45f0-ff34-86dd583125bc",
        "id": "drPDjhfE1Tu4"
      },
      "outputs": [
        {
          "output_type": "stream",
          "name": "stdout",
          "text": [
            "Confusion Matrix:\n",
            " [[13062   783]\n",
            " [ 1981   617]]\n",
            "              precision    recall  f1-score   support\n",
            "\n",
            "           0       0.94      0.87      0.90     15043\n",
            "           1       0.24      0.44      0.31      1400\n",
            "\n",
            "    accuracy                           0.83     16443\n",
            "   macro avg       0.59      0.65      0.61     16443\n",
            "weighted avg       0.88      0.83      0.85     16443\n",
            "\n"
          ]
        }
      ],
      "source": [
        "gnb = GaussianNB(var_smoothing = 0.09090909181818174)\n",
        "gnb.fit(X_res3,y_res3)\n",
        "\n",
        "y_pred3 = gnb.predict(X_test3)\n",
        "\n",
        "cm = confusion_matrix(y_pred3, y_test3)\n",
        "print(\"Confusion Matrix:\\n\", cm)\n",
        "\n",
        "print(classification_report(y_test3, y_pred3))"
      ]
    },
    {
      "cell_type": "code",
      "execution_count": null,
      "metadata": {
        "colab": {
          "base_uri": "https://localhost:8080/"
        },
        "outputId": "d2b9591e-b9d5-4e57-efc9-f3044fc4be0c",
        "id": "cP1DHNcY1Tu5"
      },
      "outputs": [
        {
          "output_type": "stream",
          "name": "stdout",
          "text": [
            "Confusion Matrix:\n",
            " [[13905   941]\n",
            " [ 1138   459]]\n",
            "              precision    recall  f1-score   support\n",
            "\n",
            "           0       0.94      0.92      0.93     15043\n",
            "           1       0.29      0.33      0.31      1400\n",
            "\n",
            "    accuracy                           0.87     16443\n",
            "   macro avg       0.61      0.63      0.62     16443\n",
            "weighted avg       0.88      0.87      0.88     16443\n",
            "\n"
          ]
        }
      ],
      "source": [
        "gnb = GaussianNB(var_smoothing = 1e-09)\n",
        "gnb.fit(X_res4,y_res4)\n",
        "\n",
        "y_pred4 = gnb.predict(X_test4)\n",
        "\n",
        "cm = confusion_matrix(y_pred4, y_test4)\n",
        "print(\"Confusion Matrix:\\n\", cm)\n",
        "\n",
        "print(classification_report(y_test4, y_pred4))"
      ]
    },
    {
      "cell_type": "markdown",
      "source": [
        "##SVM Various Trials 4x"
      ],
      "metadata": {
        "id": "yzNn39_1WmHU"
      }
    },
    {
      "cell_type": "code",
      "execution_count": null,
      "metadata": {
        "id": "-xe0UKfkWtQe"
      },
      "outputs": [],
      "source": [
        "from sklearn.svm import SVC"
      ]
    },
    {
      "cell_type": "markdown",
      "source": [
        "Various Grid Searches"
      ],
      "metadata": {
        "id": "eNcDL6DC6LjW"
      }
    },
    {
      "cell_type": "code",
      "execution_count": null,
      "metadata": {
        "colab": {
          "base_uri": "https://localhost:8080/"
        },
        "outputId": "e0778b0c-9579-4e11-d06c-a6a835b1a670",
        "id": "ceMxi_4DWtQh"
      },
      "outputs": [
        {
          "output_type": "stream",
          "name": "stdout",
          "text": [
            "Fitting 3 folds for each of 3 candidates, totalling 9 fits\n",
            "Best Parameters: {'C': 100, 'kernel': 'linear'}\n"
          ]
        }
      ],
      "source": [
        "grid_params = {'C':[1, 10, 100], 'kernel':['linear']}\n",
        "\n",
        "grid_search = GridSearchCV(SVC(random_state=43), param_grid=grid_params, scoring='f1', cv=StratifiedKFold(n_splits=3), verbose=2, n_jobs=-1)\n",
        "grid_search.fit(X_train1,y_train1)\n",
        "print(f'Best Parameters: {grid_search.best_params_}')"
      ]
    },
    {
      "cell_type": "code",
      "execution_count": null,
      "metadata": {
        "colab": {
          "base_uri": "https://localhost:8080/"
        },
        "outputId": "4a6706a0-c383-469a-c55f-67f94ee9dd7e",
        "id": "VHWya3VIWtQi"
      },
      "outputs": [
        {
          "output_type": "stream",
          "name": "stdout",
          "text": [
            "Fitting 3 folds for each of 6 candidates, totalling 18 fits\n",
            "Best Parameters: {'C': 100, 'gamma': 0.1, 'kernel': 'rbf'}\n"
          ]
        }
      ],
      "source": [
        "grid_params = {'C':[10, 100], 'kernel':['rbf'], 'gamma':[1,0.1,0.01]}\n",
        "\n",
        "grid_search = GridSearchCV(SVC(random_state=43), param_grid=grid_params, scoring='f1', cv=StratifiedKFold(n_splits=3), verbose=2, n_jobs=-1)\n",
        "grid_search.fit(X_train1,y_train1)\n",
        "print(f'Best Parameters: {grid_search.best_params_}')"
      ]
    },
    {
      "cell_type": "markdown",
      "source": [
        "Various Trials"
      ],
      "metadata": {
        "id": "-Mp1qmQh6PZe"
      }
    },
    {
      "cell_type": "code",
      "source": [
        "svm = SVC(kernel='poly', C=100, degree=3, gamma=0.1)\n",
        "svm.fit(X_train1,y_train1)\n",
        "\n",
        "y_pred1 = svm.predict(X_test1)\n",
        "\n",
        "cm = confusion_matrix(y_pred1, y_test1)\n",
        "print(\"Confusion Matrix:\\n\", cm)\n",
        "\n",
        "print(classification_report(y_test1, y_pred1))"
      ],
      "metadata": {
        "colab": {
          "base_uri": "https://localhost:8080/"
        },
        "id": "6mrBdt-V6CpV",
        "outputId": "f175e9d2-9013-49f8-813e-f3b2356590c9"
      },
      "execution_count": null,
      "outputs": [
        {
          "output_type": "stream",
          "name": "stdout",
          "text": [
            "Confusion Matrix:\n",
            " [[14997   987]\n",
            " [   46   413]]\n",
            "              precision    recall  f1-score   support\n",
            "\n",
            "           0       0.94      1.00      0.97     15043\n",
            "           1       0.90      0.29      0.44      1400\n",
            "\n",
            "    accuracy                           0.94     16443\n",
            "   macro avg       0.92      0.65      0.71     16443\n",
            "weighted avg       0.93      0.94      0.92     16443\n",
            "\n"
          ]
        }
      ]
    },
    {
      "cell_type": "code",
      "source": [
        "svm = SVC(kernel='poly', C=100, degree=4, gamma=0.1)\n",
        "svm.fit(X_train1,y_train1)\n",
        "\n",
        "y_pred1 = svm.predict(X_test1)\n",
        "\n",
        "cm = confusion_matrix(y_pred1, y_test1)\n",
        "print(\"Confusion Matrix:\\n\", cm)\n",
        "\n",
        "print(classification_report(y_test1, y_pred1))"
      ],
      "metadata": {
        "colab": {
          "base_uri": "https://localhost:8080/"
        },
        "id": "M_8kIUkq4HBJ",
        "outputId": "75b6815a-71e3-465f-9f76-747f2f74e290"
      },
      "execution_count": null,
      "outputs": [
        {
          "output_type": "stream",
          "name": "stdout",
          "text": [
            "Confusion Matrix:\n",
            " [[14958  1000]\n",
            " [   85   400]]\n",
            "              precision    recall  f1-score   support\n",
            "\n",
            "           0       0.94      0.99      0.97     15043\n",
            "           1       0.82      0.29      0.42      1400\n",
            "\n",
            "    accuracy                           0.93     16443\n",
            "   macro avg       0.88      0.64      0.69     16443\n",
            "weighted avg       0.93      0.93      0.92     16443\n",
            "\n"
          ]
        }
      ]
    },
    {
      "cell_type": "code",
      "source": [
        "svm = SVC(kernel='linear',C=100)\n",
        "\n",
        "svm.fit(X_train1,y_train1)\n",
        "\n",
        "y_pred1 = svm.predict(X_test1)\n",
        "\n",
        "cm = confusion_matrix(y_pred1, y_test1)\n",
        "print(\"Confusion Matrix:\\n\", cm)\n",
        "\n",
        "print(classification_report(y_test1, y_pred1))"
      ],
      "metadata": {
        "colab": {
          "base_uri": "https://localhost:8080/"
        },
        "outputId": "9c00fab2-d280-460a-f6e3-e88abaade95c",
        "id": "MfgCU3DoWtQm"
      },
      "execution_count": null,
      "outputs": [
        {
          "output_type": "stream",
          "name": "stdout",
          "text": [
            "Confusion Matrix:\n",
            " [[15043  1213]\n",
            " [    0   187]]\n",
            "              precision    recall  f1-score   support\n",
            "\n",
            "           0       0.93      1.00      0.96     15043\n",
            "           1       1.00      0.13      0.24      1400\n",
            "\n",
            "    accuracy                           0.93     16443\n",
            "   macro avg       0.96      0.57      0.60     16443\n",
            "weighted avg       0.93      0.93      0.90     16443\n",
            "\n"
          ]
        }
      ]
    },
    {
      "cell_type": "code",
      "source": [
        "svm = SVC(kernel='rbf',C=100,gamma=0.1)\n",
        "\n",
        "svm.fit(X_train1,y_train1)\n",
        "\n",
        "y_pred1 = svm.predict(X_test1)\n",
        "\n",
        "cm = confusion_matrix(y_pred1, y_test1)\n",
        "print(\"Confusion Matrix:\\n\", cm)\n",
        "\n",
        "print(classification_report(y_test1, y_pred1))"
      ],
      "metadata": {
        "colab": {
          "base_uri": "https://localhost:8080/"
        },
        "id": "uPdAefwbIw_q",
        "outputId": "cb679557-d022-4f2d-e6b2-66321c433a07"
      },
      "execution_count": null,
      "outputs": [
        {
          "output_type": "stream",
          "name": "stdout",
          "text": [
            "Confusion Matrix:\n",
            " [[14974   976]\n",
            " [   69   424]]\n",
            "              precision    recall  f1-score   support\n",
            "\n",
            "           0       0.94      1.00      0.97     15043\n",
            "           1       0.86      0.30      0.45      1400\n",
            "\n",
            "    accuracy                           0.94     16443\n",
            "   macro avg       0.90      0.65      0.71     16443\n",
            "weighted avg       0.93      0.94      0.92     16443\n",
            "\n"
          ]
        }
      ]
    },
    {
      "cell_type": "markdown",
      "source": [
        "set 2"
      ],
      "metadata": {
        "id": "r4O3PHPhLxSr"
      }
    },
    {
      "cell_type": "code",
      "source": [
        "grid_params = {'C':[1, 10], 'kernel':['linear']}\n",
        "\n",
        "grid_search = GridSearchCV(SVC(random_state=43), param_grid=grid_params, scoring='f1', cv=StratifiedKFold(n_splits=3), verbose=2, n_jobs=-1)\n",
        "grid_search.fit(X_train2,y_train2)\n",
        "print(f'Best Parameters: {grid_search.best_params_}')"
      ],
      "metadata": {
        "colab": {
          "base_uri": "https://localhost:8080/"
        },
        "id": "sQfRdrR7Ly8n",
        "outputId": "1e395da0-19a1-4cad-f565-3128591b7acc"
      },
      "execution_count": null,
      "outputs": [
        {
          "output_type": "stream",
          "name": "stdout",
          "text": [
            "Fitting 3 folds for each of 2 candidates, totalling 6 fits\n",
            "Best Parameters: {'C': 10, 'kernel': 'linear'}\n"
          ]
        }
      ]
    },
    {
      "cell_type": "code",
      "source": [
        "grid_params = {'C':[10, 100], 'kernel':['linear']}\n",
        "\n",
        "grid_search = GridSearchCV(SVC(random_state=43), param_grid=grid_params, scoring='f1', cv=StratifiedKFold(n_splits=3), verbose=2, n_jobs=-1)\n",
        "grid_search.fit(X_train2,y_train2)\n",
        "print(f'Best Parameters: {grid_search.best_params_}')"
      ],
      "metadata": {
        "colab": {
          "base_uri": "https://localhost:8080/"
        },
        "id": "hdgxXyMzPJt9",
        "outputId": "108e7269-2fb5-4baf-9d51-f6b0dca43db3"
      },
      "execution_count": null,
      "outputs": [
        {
          "output_type": "stream",
          "name": "stdout",
          "text": [
            "Fitting 3 folds for each of 2 candidates, totalling 6 fits\n",
            "Best Parameters: {'C': 100, 'kernel': 'linear'}\n"
          ]
        }
      ]
    },
    {
      "cell_type": "code",
      "source": [
        "svm = SVC(kernel='poly', C=100, degree=3, gamma=0.1)\n",
        "svm.fit(X_train2,y_train2)\n",
        "\n",
        "y_pred2 = svm.predict(X_test2)\n",
        "\n",
        "cm = confusion_matrix(y_pred2, y_test2)\n",
        "print(\"Confusion Matrix:\\n\", cm)\n",
        "\n",
        "print(classification_report(y_test2, y_pred2))"
      ],
      "metadata": {
        "colab": {
          "base_uri": "https://localhost:8080/"
        },
        "outputId": "b53aba23-7714-4a07-b5bf-7d5536d55842",
        "id": "n1bGq84aa8IH"
      },
      "execution_count": null,
      "outputs": [
        {
          "output_type": "stream",
          "name": "stdout",
          "text": [
            "Confusion Matrix:\n",
            " [[15015  1002]\n",
            " [   28   398]]\n",
            "              precision    recall  f1-score   support\n",
            "\n",
            "           0       0.94      1.00      0.97     15043\n",
            "           1       0.93      0.28      0.44      1400\n",
            "\n",
            "    accuracy                           0.94     16443\n",
            "   macro avg       0.94      0.64      0.70     16443\n",
            "weighted avg       0.94      0.94      0.92     16443\n",
            "\n"
          ]
        }
      ]
    },
    {
      "cell_type": "code",
      "source": [
        "svm = SVC(kernel='poly', C=100, degree=4, gamma=0.1)\n",
        "svm.fit(X_train2,y_train2)\n",
        "\n",
        "y_pred2 = svm.predict(X_test2)\n",
        "\n",
        "cm = confusion_matrix(y_pred2, y_test2)\n",
        "print(\"Confusion Matrix:\\n\", cm)\n",
        "\n",
        "print(classification_report(y_test2, y_pred2))"
      ],
      "metadata": {
        "colab": {
          "base_uri": "https://localhost:8080/"
        },
        "outputId": "9060f20a-325d-46f3-ca6a-3e123c0c35cc",
        "id": "xTAFkj8Da8II"
      },
      "execution_count": null,
      "outputs": [
        {
          "output_type": "stream",
          "name": "stdout",
          "text": [
            "Confusion Matrix:\n",
            " [[15011  1047]\n",
            " [   32   353]]\n",
            "              precision    recall  f1-score   support\n",
            "\n",
            "           0       0.93      1.00      0.97     15043\n",
            "           1       0.92      0.25      0.40      1400\n",
            "\n",
            "    accuracy                           0.93     16443\n",
            "   macro avg       0.93      0.63      0.68     16443\n",
            "weighted avg       0.93      0.93      0.92     16443\n",
            "\n"
          ]
        }
      ]
    },
    {
      "cell_type": "code",
      "source": [
        "svm = SVC(kernel='linear',C=100)\n",
        "\n",
        "svm.fit(X_train2,y_train2)\n",
        "\n",
        "y_pred2 = svm.predict(X_test2)\n",
        "\n",
        "cm = confusion_matrix(y_pred2, y_test2)\n",
        "print(\"Confusion Matrix:\\n\", cm)\n",
        "\n",
        "print(classification_report(y_test2, y_pred2))"
      ],
      "metadata": {
        "colab": {
          "base_uri": "https://localhost:8080/"
        },
        "outputId": "5aea6f00-2fa8-4503-b405-e7aad5fc9ab8",
        "id": "6g28UQGSa8IJ"
      },
      "execution_count": null,
      "outputs": [
        {
          "output_type": "stream",
          "name": "stdout",
          "text": [
            "Confusion Matrix:\n",
            " [[15043  1213]\n",
            " [    0   187]]\n",
            "              precision    recall  f1-score   support\n",
            "\n",
            "           0       0.93      1.00      0.96     15043\n",
            "           1       1.00      0.13      0.24      1400\n",
            "\n",
            "    accuracy                           0.93     16443\n",
            "   macro avg       0.96      0.57      0.60     16443\n",
            "weighted avg       0.93      0.93      0.90     16443\n",
            "\n"
          ]
        }
      ]
    },
    {
      "cell_type": "code",
      "source": [
        "svm = SVC(kernel='rbf',C=100,gamma=0.1)\n",
        "\n",
        "svm.fit(X_train2,y_train2)\n",
        "\n",
        "y_pred2 = svm.predict(X_test2)\n",
        "\n",
        "cm = confusion_matrix(y_pred2, y_test2)\n",
        "print(\"Confusion Matrix:\\n\", cm)\n",
        "\n",
        "print(classification_report(y_test2, y_pred2))"
      ],
      "metadata": {
        "colab": {
          "base_uri": "https://localhost:8080/"
        },
        "outputId": "f4978283-8833-483b-e646-af75fefa7d53",
        "id": "5nDD207na8IJ"
      },
      "execution_count": null,
      "outputs": [
        {
          "output_type": "stream",
          "name": "stdout",
          "text": [
            "Confusion Matrix:\n",
            " [[15009   983]\n",
            " [   34   417]]\n",
            "              precision    recall  f1-score   support\n",
            "\n",
            "           0       0.94      1.00      0.97     15043\n",
            "           1       0.92      0.30      0.45      1400\n",
            "\n",
            "    accuracy                           0.94     16443\n",
            "   macro avg       0.93      0.65      0.71     16443\n",
            "weighted avg       0.94      0.94      0.92     16443\n",
            "\n"
          ]
        }
      ]
    },
    {
      "cell_type": "code",
      "source": [
        "svm = SVC(kernel='rbf',C=10,gamma=0.1)\n",
        "\n",
        "svm.fit(X_train2,y_train2)\n",
        "\n",
        "y_pred2 = svm.predict(X_test2)\n",
        "\n",
        "cm = confusion_matrix(y_pred2, y_test2)\n",
        "print(\"Confusion Matrix:\\n\", cm)\n",
        "\n",
        "print(classification_report(y_test2, y_pred2))"
      ],
      "metadata": {
        "colab": {
          "base_uri": "https://localhost:8080/"
        },
        "id": "mUBLZZdKeHlc",
        "outputId": "37430347-3819-42f4-98b7-9759122db0b7"
      },
      "execution_count": null,
      "outputs": [
        {
          "output_type": "stream",
          "name": "stdout",
          "text": [
            "Confusion Matrix:\n",
            " [[15037  1036]\n",
            " [    6   364]]\n",
            "              precision    recall  f1-score   support\n",
            "\n",
            "           0       0.94      1.00      0.97     15043\n",
            "           1       0.98      0.26      0.41      1400\n",
            "\n",
            "    accuracy                           0.94     16443\n",
            "   macro avg       0.96      0.63      0.69     16443\n",
            "weighted avg       0.94      0.94      0.92     16443\n",
            "\n"
          ]
        }
      ]
    },
    {
      "cell_type": "markdown",
      "source": [
        "set 3"
      ],
      "metadata": {
        "id": "KfLyw2-EeJv3"
      }
    },
    {
      "cell_type": "code",
      "source": [
        "grid_params = {'C':[1, 10], 'kernel':['linear']}\n",
        "\n",
        "grid_search = GridSearchCV(SVC(random_state=43), param_grid=grid_params, scoring='f1', cv=StratifiedKFold(n_splits=3), verbose=2, n_jobs=-1)\n",
        "grid_search.fit(X_train3,y_train3)\n",
        "print(f'Best Parameters: {grid_search.best_params_}')"
      ],
      "metadata": {
        "colab": {
          "base_uri": "https://localhost:8080/"
        },
        "outputId": "d8a034a9-1f38-4d2a-8814-f15bee52899d",
        "id": "QpED1Ai_eQFy"
      },
      "execution_count": null,
      "outputs": [
        {
          "output_type": "stream",
          "name": "stdout",
          "text": [
            "Fitting 3 folds for each of 2 candidates, totalling 6 fits\n",
            "Best Parameters: {'C': 10, 'kernel': 'linear'}\n"
          ]
        }
      ]
    },
    {
      "cell_type": "code",
      "source": [
        "grid_params = {'C':[10, 100], 'kernel':['linear']}\n",
        "\n",
        "grid_search = GridSearchCV(SVC(random_state=43), param_grid=grid_params, scoring='f1', cv=StratifiedKFold(n_splits=3), verbose=2, n_jobs=-1)\n",
        "grid_search.fit(X_train3,y_train3)\n",
        "print(f'Best Parameters: {grid_search.best_params_}')"
      ],
      "metadata": {
        "colab": {
          "base_uri": "https://localhost:8080/"
        },
        "outputId": "aaf5fb55-cc2c-476b-f6ae-72b5a68d8b4e",
        "id": "1IyBKv6seQF1"
      },
      "execution_count": null,
      "outputs": [
        {
          "output_type": "stream",
          "name": "stdout",
          "text": [
            "Fitting 3 folds for each of 2 candidates, totalling 6 fits\n",
            "Best Parameters: {'C': 100, 'kernel': 'linear'}\n"
          ]
        }
      ]
    },
    {
      "cell_type": "code",
      "source": [
        "svm = SVC(kernel='poly', C=100, degree=3, gamma=0.1)\n",
        "svm.fit(X_train3,y_train3)\n",
        "\n",
        "y_pred3 = svm.predict(X_test3)\n",
        "\n",
        "cm = confusion_matrix(y_pred3, y_test3)\n",
        "print(\"Confusion Matrix:\\n\", cm)\n",
        "\n",
        "print(classification_report(y_test3, y_pred3))"
      ],
      "metadata": {
        "colab": {
          "base_uri": "https://localhost:8080/"
        },
        "outputId": "41e6c7a5-1d30-4779-f503-de30c33a6873",
        "id": "BZaDX4l_eQF2"
      },
      "execution_count": null,
      "outputs": [
        {
          "output_type": "stream",
          "name": "stdout",
          "text": [
            "Confusion Matrix:\n",
            " [[14976   993]\n",
            " [   67   407]]\n",
            "              precision    recall  f1-score   support\n",
            "\n",
            "           0       0.94      1.00      0.97     15043\n",
            "           1       0.86      0.29      0.43      1400\n",
            "\n",
            "    accuracy                           0.94     16443\n",
            "   macro avg       0.90      0.64      0.70     16443\n",
            "weighted avg       0.93      0.94      0.92     16443\n",
            "\n"
          ]
        }
      ]
    },
    {
      "cell_type": "code",
      "source": [
        "svm = SVC(kernel='poly', C=100, degree=4, gamma=0.1)\n",
        "svm.fit(X_train3,y_train3)\n",
        "\n",
        "y_pred3 = svm.predict(X_test3)\n",
        "\n",
        "cm = confusion_matrix(y_pred3, y_test3)\n",
        "print(\"Confusion Matrix:\\n\", cm)\n",
        "\n",
        "print(classification_report(y_test3, y_pred3))"
      ],
      "metadata": {
        "colab": {
          "base_uri": "https://localhost:8080/"
        },
        "outputId": "73631493-a0e4-41a8-ef30-232dc2ddc23d",
        "id": "jy2zeQ54eQF3"
      },
      "execution_count": null,
      "outputs": [
        {
          "output_type": "stream",
          "name": "stdout",
          "text": [
            "Confusion Matrix:\n",
            " [[14949  1015]\n",
            " [   94   385]]\n",
            "              precision    recall  f1-score   support\n",
            "\n",
            "           0       0.94      0.99      0.96     15043\n",
            "           1       0.80      0.28      0.41      1400\n",
            "\n",
            "    accuracy                           0.93     16443\n",
            "   macro avg       0.87      0.63      0.69     16443\n",
            "weighted avg       0.93      0.93      0.92     16443\n",
            "\n"
          ]
        }
      ]
    },
    {
      "cell_type": "code",
      "source": [
        "svm = SVC(kernel='linear',C=100)\n",
        "\n",
        "svm.fit(X_train3,y_train3)\n",
        "\n",
        "y_pred3 = svm.predict(X_test3)\n",
        "\n",
        "cm = confusion_matrix(y_pred3, y_test3)\n",
        "print(\"Confusion Matrix:\\n\", cm)\n",
        "\n",
        "print(classification_report(y_test3, y_pred3))"
      ],
      "metadata": {
        "colab": {
          "base_uri": "https://localhost:8080/"
        },
        "outputId": "ed25b455-25be-417b-e1a9-fc38018b727a",
        "id": "KRqa7Y01eQF4"
      },
      "execution_count": null,
      "outputs": [
        {
          "output_type": "stream",
          "name": "stdout",
          "text": [
            "Confusion Matrix:\n",
            " [[15043  1211]\n",
            " [    0   189]]\n",
            "              precision    recall  f1-score   support\n",
            "\n",
            "           0       0.93      1.00      0.96     15043\n",
            "           1       1.00      0.14      0.24      1400\n",
            "\n",
            "    accuracy                           0.93     16443\n",
            "   macro avg       0.96      0.57      0.60     16443\n",
            "weighted avg       0.93      0.93      0.90     16443\n",
            "\n"
          ]
        }
      ]
    },
    {
      "cell_type": "code",
      "source": [
        "svm = SVC(kernel='rbf',C=100,gamma=0.1)\n",
        "\n",
        "svm.fit(X_train3,y_train3)\n",
        "\n",
        "y_pred3 = svm.predict(X_test3)\n",
        "\n",
        "cm = confusion_matrix(y_pred3, y_test3)\n",
        "print(\"Confusion Matrix:\\n\", cm)\n",
        "\n",
        "print(classification_report(y_test3, y_pred3))"
      ],
      "metadata": {
        "colab": {
          "base_uri": "https://localhost:8080/"
        },
        "outputId": "8dca69c6-b424-4ec3-82c7-3f168b54b27f",
        "id": "9EiZknrKeQF5"
      },
      "execution_count": null,
      "outputs": [
        {
          "output_type": "stream",
          "name": "stdout",
          "text": [
            "Confusion Matrix:\n",
            " [[14961   982]\n",
            " [   82   418]]\n",
            "              precision    recall  f1-score   support\n",
            "\n",
            "           0       0.94      0.99      0.97     15043\n",
            "           1       0.84      0.30      0.44      1400\n",
            "\n",
            "    accuracy                           0.94     16443\n",
            "   macro avg       0.89      0.65      0.70     16443\n",
            "weighted avg       0.93      0.94      0.92     16443\n",
            "\n"
          ]
        }
      ]
    },
    {
      "cell_type": "code",
      "source": [
        "svm = SVC(kernel='rbf',C=10,gamma=0.1)\n",
        "\n",
        "svm.fit(X_train3,y_train3)\n",
        "\n",
        "y_pred3 = svm.predict(X_test3)\n",
        "\n",
        "cm = confusion_matrix(y_pred3, y_test3)\n",
        "print(\"Confusion Matrix:\\n\", cm)\n",
        "\n",
        "print(classification_report(y_test3, y_pred3))"
      ],
      "metadata": {
        "colab": {
          "base_uri": "https://localhost:8080/"
        },
        "id": "BsdjHbWSeQF6",
        "outputId": "3a49d983-c2dc-4c5f-c13f-4770e5605ab0"
      },
      "execution_count": null,
      "outputs": [
        {
          "output_type": "stream",
          "name": "stdout",
          "text": [
            "Confusion Matrix:\n",
            " [[15037  1035]\n",
            " [    6   365]]\n",
            "              precision    recall  f1-score   support\n",
            "\n",
            "           0       0.94      1.00      0.97     15043\n",
            "           1       0.98      0.26      0.41      1400\n",
            "\n",
            "    accuracy                           0.94     16443\n",
            "   macro avg       0.96      0.63      0.69     16443\n",
            "weighted avg       0.94      0.94      0.92     16443\n",
            "\n"
          ]
        }
      ]
    },
    {
      "cell_type": "markdown",
      "source": [
        "Set 4"
      ],
      "metadata": {
        "id": "cinoq3WurwwN"
      }
    },
    {
      "cell_type": "code",
      "source": [
        "grid_params = {'C':[1, 10], 'kernel':['linear']}\n",
        "\n",
        "grid_search = GridSearchCV(SVC(random_state=43), param_grid=grid_params, scoring='f1', cv=StratifiedKFold(n_splits=3), verbose=2, n_jobs=-1)\n",
        "grid_search.fit(X_train4,y_train4)\n",
        "print(f'Best Parameters: {grid_search.best_params_}')"
      ],
      "metadata": {
        "colab": {
          "base_uri": "https://localhost:8080/"
        },
        "outputId": "de4d138b-e35d-45f8-d55b-1287d7d486cf",
        "id": "Wr6421E7r2x4"
      },
      "execution_count": null,
      "outputs": [
        {
          "output_type": "stream",
          "name": "stdout",
          "text": [
            "Fitting 3 folds for each of 2 candidates, totalling 6 fits\n",
            "Best Parameters: {'C': 10, 'kernel': 'linear'}\n"
          ]
        }
      ]
    },
    {
      "cell_type": "code",
      "source": [
        "grid_params = {'C':[10, 100], 'kernel':['linear']}\n",
        "\n",
        "grid_search = GridSearchCV(SVC(random_state=43), param_grid=grid_params, scoring='f1', cv=StratifiedKFold(n_splits=3), verbose=2, n_jobs=-1)\n",
        "grid_search.fit(X_train4,y_train4)\n",
        "print(f'Best Parameters: {grid_search.best_params_}')"
      ],
      "metadata": {
        "colab": {
          "base_uri": "https://localhost:8080/"
        },
        "outputId": "5988cc94-e22f-4542-96fd-66f774a2a149",
        "id": "n1VS16psr2x6"
      },
      "execution_count": null,
      "outputs": [
        {
          "output_type": "stream",
          "name": "stdout",
          "text": [
            "Fitting 3 folds for each of 2 candidates, totalling 6 fits\n",
            "Best Parameters: {'C': 100, 'kernel': 'linear'}\n"
          ]
        }
      ]
    },
    {
      "cell_type": "code",
      "source": [
        "svm = SVC(kernel='poly', C=100, degree=3, gamma=0.1)\n",
        "svm.fit(X_train4,y_train4)\n",
        "\n",
        "y_pred4 = svm.predict(X_test4)\n",
        "\n",
        "cm = confusion_matrix(y_pred4, y_test4)\n",
        "print(\"Confusion Matrix:\\n\", cm)\n",
        "\n",
        "print(classification_report(y_test4, y_pred4))"
      ],
      "metadata": {
        "colab": {
          "base_uri": "https://localhost:8080/"
        },
        "outputId": "cf2c28b3-483e-4075-a286-e4eaebda458f",
        "id": "4UJxhVnvr2x8"
      },
      "execution_count": null,
      "outputs": [
        {
          "output_type": "stream",
          "name": "stdout",
          "text": [
            "Confusion Matrix:\n",
            " [[15032  1001]\n",
            " [   11   399]]\n",
            "              precision    recall  f1-score   support\n",
            "\n",
            "           0       0.94      1.00      0.97     15043\n",
            "           1       0.97      0.28      0.44      1400\n",
            "\n",
            "    accuracy                           0.94     16443\n",
            "   macro avg       0.96      0.64      0.70     16443\n",
            "weighted avg       0.94      0.94      0.92     16443\n",
            "\n"
          ]
        }
      ]
    },
    {
      "cell_type": "code",
      "source": [
        "svm = SVC(kernel='poly', C=100, degree=4, gamma=0.1)\n",
        "svm.fit(X_train4,y_train4)\n",
        "\n",
        "y_pred4 = svm.predict(X_test4)\n",
        "\n",
        "cm = confusion_matrix(y_pred4, y_test4)\n",
        "print(\"Confusion Matrix:\\n\", cm)\n",
        "\n",
        "print(classification_report(y_test4, y_pred4))"
      ],
      "metadata": {
        "colab": {
          "base_uri": "https://localhost:8080/"
        },
        "outputId": "3ab1c763-7f0a-4d94-f46b-261da99061d2",
        "id": "gZrW-0ker2x9"
      },
      "execution_count": null,
      "outputs": [
        {
          "output_type": "stream",
          "name": "stdout",
          "text": [
            "Confusion Matrix:\n",
            " [[15022  1024]\n",
            " [   21   376]]\n",
            "              precision    recall  f1-score   support\n",
            "\n",
            "           0       0.94      1.00      0.97     15043\n",
            "           1       0.95      0.27      0.42      1400\n",
            "\n",
            "    accuracy                           0.94     16443\n",
            "   macro avg       0.94      0.63      0.69     16443\n",
            "weighted avg       0.94      0.94      0.92     16443\n",
            "\n"
          ]
        }
      ]
    },
    {
      "cell_type": "code",
      "source": [
        "svm = SVC(kernel='linear',C=100)\n",
        "\n",
        "svm.fit(X_train4,y_train4)\n",
        "\n",
        "y_pred4 = svm.predict(X_test4)\n",
        "\n",
        "cm = confusion_matrix(y_pred4, y_test4)\n",
        "print(\"Confusion Matrix:\\n\", cm)\n",
        "\n",
        "print(classification_report(y_test4, y_pred4))"
      ],
      "metadata": {
        "colab": {
          "base_uri": "https://localhost:8080/"
        },
        "outputId": "a04157da-b600-4760-ae2c-00a2aa963b19",
        "id": "vpP0CQmYr2x9"
      },
      "execution_count": null,
      "outputs": [
        {
          "output_type": "stream",
          "name": "stdout",
          "text": [
            "Confusion Matrix:\n",
            " [[15043  1220]\n",
            " [    0   180]]\n",
            "              precision    recall  f1-score   support\n",
            "\n",
            "           0       0.92      1.00      0.96     15043\n",
            "           1       1.00      0.13      0.23      1400\n",
            "\n",
            "    accuracy                           0.93     16443\n",
            "   macro avg       0.96      0.56      0.59     16443\n",
            "weighted avg       0.93      0.93      0.90     16443\n",
            "\n"
          ]
        }
      ]
    },
    {
      "cell_type": "code",
      "source": [
        "svm = SVC(kernel='rbf',C=100,gamma=0.1)\n",
        "\n",
        "svm.fit(X_train4,y_train4)\n",
        "\n",
        "y_pred4 = svm.predict(X_test4)\n",
        "\n",
        "cm = confusion_matrix(y_pred4, y_test4)\n",
        "print(\"Confusion Matrix:\\n\", cm)\n",
        "\n",
        "print(classification_report(y_test4, y_pred4))"
      ],
      "metadata": {
        "colab": {
          "base_uri": "https://localhost:8080/"
        },
        "outputId": "0ef2b5f4-2ecf-4d95-b1c1-4c0c01206407",
        "id": "JlvKf4m8r2x-"
      },
      "execution_count": null,
      "outputs": [
        {
          "output_type": "stream",
          "name": "stdout",
          "text": [
            "Confusion Matrix:\n",
            " [[15025   996]\n",
            " [   18   404]]\n",
            "              precision    recall  f1-score   support\n",
            "\n",
            "           0       0.94      1.00      0.97     15043\n",
            "           1       0.96      0.29      0.44      1400\n",
            "\n",
            "    accuracy                           0.94     16443\n",
            "   macro avg       0.95      0.64      0.71     16443\n",
            "weighted avg       0.94      0.94      0.92     16443\n",
            "\n"
          ]
        }
      ]
    },
    {
      "cell_type": "code",
      "source": [
        "svm = SVC(kernel='rbf',C=10,gamma=0.1)\n",
        "\n",
        "svm.fit(X_train4,y_train4)\n",
        "\n",
        "y_pred4 = svm.predict(X_test4)\n",
        "\n",
        "cm = confusion_matrix(y_pred4, y_test4)\n",
        "print(\"Confusion Matrix:\\n\", cm)\n",
        "\n",
        "print(classification_report(y_test4, y_pred4))"
      ],
      "metadata": {
        "colab": {
          "base_uri": "https://localhost:8080/"
        },
        "outputId": "1d7d8215-d8c2-4f5a-d941-d595d1773a58",
        "id": "ZjfdmKmYr2yA"
      },
      "execution_count": null,
      "outputs": [
        {
          "output_type": "stream",
          "name": "stdout",
          "text": [
            "Confusion Matrix:\n",
            " [[15040  1043]\n",
            " [    3   357]]\n",
            "              precision    recall  f1-score   support\n",
            "\n",
            "           0       0.94      1.00      0.97     15043\n",
            "           1       0.99      0.26      0.41      1400\n",
            "\n",
            "    accuracy                           0.94     16443\n",
            "   macro avg       0.96      0.63      0.69     16443\n",
            "weighted avg       0.94      0.94      0.92     16443\n",
            "\n"
          ]
        }
      ]
    },
    {
      "cell_type": "markdown",
      "source": [
        "##SVM 4x with SMOTE"
      ],
      "metadata": {
        "id": "zmnoFgRaVmrn"
      }
    },
    {
      "cell_type": "code",
      "source": [
        "from imblearn.over_sampling import SMOTE\n",
        "\n",
        "smote = SMOTE(random_state=43)\n",
        "X_res1, y_res1 = smote.fit_resample(X_train1,y_train1)\n",
        "\n",
        "X_res1 = pd.DataFrame(X_res1)\n",
        "#y_res1 = pd.DataFrame(y_res1)\n",
        "\n",
        "smote = SMOTE(random_state=43)\n",
        "X_res2, y_res2 = smote.fit_resample(X_train2,y_train2)\n",
        "\n",
        "X_res2 = pd.DataFrame(X_res2)\n",
        "#y_res2 = pd.DataFrame(y_res2)\n",
        "\n",
        "smote = SMOTE(random_state=43)\n",
        "X_res3, y_res3 = smote.fit_resample(X_train3,y_train3)\n",
        "\n",
        "X_res3 = pd.DataFrame(X_res3)\n",
        "#y_res3 = pd.DataFrame(y_res3)\n",
        "\n",
        "smote = SMOTE(random_state=43)\n",
        "X_res4, y_res4 = smote.fit_resample(X_train4,y_train4)\n",
        "\n",
        "X_res4 = pd.DataFrame(X_res4)\n",
        "#y_res4 = pd.DataFrame(y_res4)\n",
        "\n",
        "smote = SMOTE(random_state=43)\n",
        "X_res5, y_res5 = smote.fit_resample(X_train5,y_train5)\n",
        "\n",
        "X_res5 = pd.DataFrame(X_res5)\n",
        "#y_res5 = pd.DataFrame(y_res5)"
      ],
      "metadata": {
        "id": "6KjNoYD1DV0h"
      },
      "execution_count": null,
      "outputs": []
    },
    {
      "cell_type": "code",
      "source": [
        "from sklearn.svm import SVC"
      ],
      "metadata": {
        "id": "Qbv9i2DCEbyq"
      },
      "execution_count": null,
      "outputs": []
    },
    {
      "cell_type": "code",
      "source": [
        "svm = SVC(kernel='rbf',C=100,gamma=0.1)\n",
        "\n",
        "svm.fit(X_res1,y_res1)\n",
        "\n",
        "y_pred1 = svm.predict(X_test1)\n",
        "\n",
        "cm = confusion_matrix(y_pred1, y_test1)\n",
        "print(\"Confusion Matrix:\\n\", cm)\n",
        "\n",
        "print(classification_report(y_test1, y_pred1))"
      ],
      "metadata": {
        "colab": {
          "base_uri": "https://localhost:8080/"
        },
        "outputId": "df4a5633-d19b-4cd3-cd40-94c3180e7b27",
        "id": "eGmaAcZ6DWE0"
      },
      "execution_count": null,
      "outputs": [
        {
          "output_type": "stream",
          "name": "stdout",
          "text": [
            "Confusion Matrix:\n",
            " [[12779   506]\n",
            " [ 2264   894]]\n",
            "              precision    recall  f1-score   support\n",
            "\n",
            "           0       0.96      0.85      0.90     15043\n",
            "           1       0.28      0.64      0.39      1400\n",
            "\n",
            "    accuracy                           0.83     16443\n",
            "   macro avg       0.62      0.74      0.65     16443\n",
            "weighted avg       0.90      0.83      0.86     16443\n",
            "\n"
          ]
        }
      ]
    },
    {
      "cell_type": "code",
      "source": [
        "svm = SVC(kernel='rbf',C=100,gamma=0.1)\n",
        "\n",
        "svm.fit(X_res2,y_res2)\n",
        "\n",
        "y_pred2 = svm.predict(X_test2)\n",
        "\n",
        "cm = confusion_matrix(y_pred2, y_test2)\n",
        "print(\"Confusion Matrix:\\n\", cm)\n",
        "\n",
        "print(classification_report(y_test2, y_pred2))"
      ],
      "metadata": {
        "colab": {
          "base_uri": "https://localhost:8080/"
        },
        "outputId": "4f01455d-132c-45f9-fd3d-d3bcf752cb08",
        "id": "loFzswuXDWE2"
      },
      "execution_count": null,
      "outputs": [
        {
          "output_type": "stream",
          "name": "stdout",
          "text": [
            "Confusion Matrix:\n",
            " [[11745   295]\n",
            " [ 3298  1105]]\n",
            "              precision    recall  f1-score   support\n",
            "\n",
            "           0       0.98      0.78      0.87     15043\n",
            "           1       0.25      0.79      0.38      1400\n",
            "\n",
            "    accuracy                           0.78     16443\n",
            "   macro avg       0.61      0.79      0.62     16443\n",
            "weighted avg       0.91      0.78      0.83     16443\n",
            "\n"
          ]
        }
      ]
    },
    {
      "cell_type": "code",
      "source": [
        "svm = SVC(kernel='rbf',C=100,gamma=0.1)\n",
        "\n",
        "svm.fit(X_res3,y_res3)\n",
        "\n",
        "y_pred3 = svm.predict(X_test3)\n",
        "\n",
        "cm = confusion_matrix(y_pred3, y_test3)\n",
        "print(\"Confusion Matrix:\\n\", cm)\n",
        "\n",
        "print(classification_report(y_test3, y_pred3))"
      ],
      "metadata": {
        "colab": {
          "base_uri": "https://localhost:8080/"
        },
        "outputId": "dd18d850-c34d-4958-f887-47d283f723a6",
        "id": "jvikcUnkDWE3"
      },
      "execution_count": null,
      "outputs": [
        {
          "output_type": "stream",
          "name": "stdout",
          "text": [
            "Confusion Matrix:\n",
            " [[12453   431]\n",
            " [ 2590   969]]\n",
            "              precision    recall  f1-score   support\n",
            "\n",
            "           0       0.97      0.83      0.89     15043\n",
            "           1       0.27      0.69      0.39      1400\n",
            "\n",
            "    accuracy                           0.82     16443\n",
            "   macro avg       0.62      0.76      0.64     16443\n",
            "weighted avg       0.91      0.82      0.85     16443\n",
            "\n"
          ]
        }
      ]
    },
    {
      "cell_type": "code",
      "source": [
        "svm = SVC(kernel='rbf',C=100,gamma=0.1)\n",
        "\n",
        "svm.fit(X_res4,y_res4)\n",
        "\n",
        "y_pred4 = svm.predict(X_test4)\n",
        "\n",
        "cm = confusion_matrix(y_pred4, y_test4)\n",
        "print(\"Confusion Matrix:\\n\", cm)\n",
        "\n",
        "print(classification_report(y_test4, y_pred4))"
      ],
      "metadata": {
        "colab": {
          "base_uri": "https://localhost:8080/"
        },
        "outputId": "251911b0-83eb-4534-d82f-1f90383f4621",
        "id": "HHl2PrZxDWE4"
      },
      "execution_count": null,
      "outputs": [
        {
          "output_type": "stream",
          "name": "stdout",
          "text": [
            "Confusion Matrix:\n",
            " [[10892   202]\n",
            " [ 4151  1198]]\n",
            "              precision    recall  f1-score   support\n",
            "\n",
            "           0       0.98      0.72      0.83     15043\n",
            "           1       0.22      0.86      0.36      1400\n",
            "\n",
            "    accuracy                           0.74     16443\n",
            "   macro avg       0.60      0.79      0.59     16443\n",
            "weighted avg       0.92      0.74      0.79     16443\n",
            "\n"
          ]
        }
      ]
    },
    {
      "cell_type": "markdown",
      "source": [
        "##SVM 4x with ROS"
      ],
      "metadata": {
        "id": "wJ_saFqZVwl_"
      }
    },
    {
      "cell_type": "code",
      "source": [
        "from sklearn.svm import SVC"
      ],
      "metadata": {
        "id": "il9IwMm_V46b"
      },
      "execution_count": null,
      "outputs": []
    },
    {
      "cell_type": "code",
      "source": [
        "from imblearn.over_sampling import RandomOverSampler\n",
        "ros = RandomOverSampler(random_state=43)\n",
        "\n",
        "X_res1, y_res1 = ros.fit_resample(X_train1,y_train1)\n",
        "\n",
        "X_res1 = pd.DataFrame(X_res1)\n",
        "#y_res1 = pd.DataFrame(y_res1)\n",
        "\n",
        "ros = RandomOverSampler(random_state=43)\n",
        "X_res2, y_res2 = ros.fit_resample(X_train2,y_train2)\n",
        "\n",
        "X_res2 = pd.DataFrame(X_res2)\n",
        "#y_res2 = pd.DataFrame(y_res2)\n",
        "\n",
        "ros = RandomOverSampler(random_state=43)\n",
        "X_res3, y_res3 = ros.fit_resample(X_train3,y_train3)\n",
        "\n",
        "X_res3 = pd.DataFrame(X_res3)\n",
        "#y_res3 = pd.DataFrame(y_res3)\n",
        "\n",
        "ros = RandomOverSampler(random_state=43)\n",
        "X_res4, y_res4 = ros.fit_resample(X_train4,y_train4)\n",
        "\n",
        "X_res4 = pd.DataFrame(X_res4)\n",
        "#y_res4 = pd.DataFrame(y_res4)\n",
        "\n",
        "ros = RandomOverSampler(random_state=43)\n",
        "X_res5, y_res5 = ros.fit_resample(X_train5,y_train5)\n",
        "\n",
        "X_res5 = pd.DataFrame(X_res5)\n",
        "#y_res5 = pd.DataFrame(y_res5)"
      ],
      "metadata": {
        "id": "mWqlu4aCV5DG"
      },
      "execution_count": null,
      "outputs": []
    },
    {
      "cell_type": "code",
      "source": [
        "svm = SVC(kernel='rbf',C=100,gamma=0.1)\n",
        "\n",
        "svm.fit(X_res1,y_res1)\n",
        "\n",
        "y_pred1 = svm.predict(X_test1)\n",
        "\n",
        "cm = confusion_matrix(y_pred1, y_test1)\n",
        "print(\"Confusion Matrix:\\n\", cm)\n",
        "\n",
        "print(classification_report(y_test1, y_pred1))"
      ],
      "metadata": {
        "colab": {
          "base_uri": "https://localhost:8080/"
        },
        "outputId": "67977bac-f5b1-4061-e3ad-71c06e79046e",
        "id": "DGqAzxjIDZ8B"
      },
      "execution_count": null,
      "outputs": [
        {
          "output_type": "stream",
          "name": "stdout",
          "text": [
            "Confusion Matrix:\n",
            " [[12035   372]\n",
            " [ 3008  1028]]\n",
            "              precision    recall  f1-score   support\n",
            "\n",
            "           0       0.97      0.80      0.88     15043\n",
            "           1       0.25      0.73      0.38      1400\n",
            "\n",
            "    accuracy                           0.79     16443\n",
            "   macro avg       0.61      0.77      0.63     16443\n",
            "weighted avg       0.91      0.79      0.83     16443\n",
            "\n"
          ]
        }
      ]
    },
    {
      "cell_type": "code",
      "source": [
        "svm = SVC(kernel='rbf',C=100,gamma=0.1)\n",
        "\n",
        "svm.fit(X_res2,y_res2)\n",
        "\n",
        "y_pred2 = svm.predict(X_test2)\n",
        "\n",
        "cm = confusion_matrix(y_pred2, y_test2)\n",
        "print(\"Confusion Matrix:\\n\", cm)\n",
        "\n",
        "print(classification_report(y_test2, y_pred2))"
      ],
      "metadata": {
        "colab": {
          "base_uri": "https://localhost:8080/"
        },
        "outputId": "785b2ca3-c7df-467f-b140-d61557791e9b",
        "id": "vxxnkYlDV-3a"
      },
      "execution_count": null,
      "outputs": [
        {
          "output_type": "stream",
          "name": "stdout",
          "text": [
            "Confusion Matrix:\n",
            " [[11301   231]\n",
            " [ 3742  1169]]\n",
            "              precision    recall  f1-score   support\n",
            "\n",
            "           0       0.98      0.75      0.85     15043\n",
            "           1       0.24      0.83      0.37      1400\n",
            "\n",
            "    accuracy                           0.76     16443\n",
            "   macro avg       0.61      0.79      0.61     16443\n",
            "weighted avg       0.92      0.76      0.81     16443\n",
            "\n"
          ]
        }
      ]
    },
    {
      "cell_type": "code",
      "source": [
        "svm = SVC(kernel='rbf',C=100,gamma=0.1)\n",
        "\n",
        "svm.fit(X_res3,y_res3)\n",
        "\n",
        "y_pred3 = svm.predict(X_test3)\n",
        "\n",
        "cm = confusion_matrix(y_pred3, y_test3)\n",
        "print(\"Confusion Matrix:\\n\", cm)\n",
        "\n",
        "print(classification_report(y_test3, y_pred3))"
      ],
      "metadata": {
        "colab": {
          "base_uri": "https://localhost:8080/"
        },
        "outputId": "fdbcebc3-2649-4efd-a493-1f578c25814e",
        "id": "reeXc0MHV-3c"
      },
      "execution_count": null,
      "outputs": [
        {
          "output_type": "stream",
          "name": "stdout",
          "text": [
            "Confusion Matrix:\n",
            " [[11708   301]\n",
            " [ 3335  1099]]\n",
            "              precision    recall  f1-score   support\n",
            "\n",
            "           0       0.97      0.78      0.87     15043\n",
            "           1       0.25      0.79      0.38      1400\n",
            "\n",
            "    accuracy                           0.78     16443\n",
            "   macro avg       0.61      0.78      0.62     16443\n",
            "weighted avg       0.91      0.78      0.82     16443\n",
            "\n"
          ]
        }
      ]
    },
    {
      "cell_type": "code",
      "source": [
        "svm = SVC(kernel='rbf',C=100,gamma=0.1)\n",
        "\n",
        "svm.fit(X_res4,y_res4)\n",
        "\n",
        "y_pred4 = svm.predict(X_test4)\n",
        "\n",
        "cm = confusion_matrix(y_pred4, y_test4)\n",
        "print(\"Confusion Matrix:\\n\", cm)\n",
        "\n",
        "print(classification_report(y_test4, y_pred4))"
      ],
      "metadata": {
        "colab": {
          "base_uri": "https://localhost:8080/"
        },
        "outputId": "55e77115-558b-44e8-fef7-ff1237b00553",
        "id": "CfKp5H_hV-3d"
      },
      "execution_count": null,
      "outputs": [
        {
          "output_type": "stream",
          "name": "stdout",
          "text": [
            "Confusion Matrix:\n",
            " [[10659   142]\n",
            " [ 4384  1258]]\n",
            "              precision    recall  f1-score   support\n",
            "\n",
            "           0       0.99      0.71      0.82     15043\n",
            "           1       0.22      0.90      0.36      1400\n",
            "\n",
            "    accuracy                           0.72     16443\n",
            "   macro avg       0.60      0.80      0.59     16443\n",
            "weighted avg       0.92      0.72      0.79     16443\n",
            "\n"
          ]
        }
      ]
    },
    {
      "cell_type": "markdown",
      "source": [
        "##SVM 4x with ADASYN"
      ],
      "metadata": {
        "id": "WIi3xUUZp60X"
      }
    },
    {
      "cell_type": "code",
      "source": [
        "from sklearn.svm import SVC"
      ],
      "metadata": {
        "id": "aC5dxwnsp80_"
      },
      "execution_count": null,
      "outputs": []
    },
    {
      "cell_type": "code",
      "source": [
        "from imblearn.over_sampling import ADASYN\n",
        "\n",
        "adasyn = ADASYN(random_state=43)\n",
        "X_res1, y_res1 = adasyn.fit_resample(X_train1,y_train1)\n",
        "\n",
        "X_res1 = pd.DataFrame(X_res1)\n",
        "#y_res1 = pd.DataFrame(y_res1)\n",
        "\n",
        "adasyn = ADASYN(random_state=43)\n",
        "X_res2, y_res2 = adasyn.fit_resample(X_train2,y_train2)\n",
        "\n",
        "X_res2 = pd.DataFrame(X_res2)\n",
        "#y_res2 = pd.DataFrame(y_res2)\n",
        "\n",
        "adasyn = ADASYN(random_state=43)\n",
        "X_res3, y_res3 = adasyn.fit_resample(X_train3,y_train3)\n",
        "\n",
        "X_res3 = pd.DataFrame(X_res3)\n",
        "#y_res3 = pd.DataFrame(y_res3)\n",
        "\n",
        "adasyn = ADASYN(random_state=43)\n",
        "X_res4, y_res4 = adasyn.fit_resample(X_train4,y_train4)\n",
        "\n",
        "X_res4 = pd.DataFrame(X_res4)\n",
        "#y_res4 = pd.DataFrame(y_res4)\n",
        "\n",
        "adasyn = ADASYN(random_state=43)\n",
        "X_res5, y_res5 = adasyn.fit_resample(X_train5,y_train5)\n",
        "\n",
        "X_res5 = pd.DataFrame(X_res5)\n",
        "#y_res5 = pd.DataFrame(y_res5)"
      ],
      "metadata": {
        "id": "PCCnxLbup9AK"
      },
      "execution_count": null,
      "outputs": []
    },
    {
      "cell_type": "code",
      "source": [
        "svm = SVC(kernel='rbf',C=100,gamma=0.1)\n",
        "\n",
        "svm.fit(X_res1,y_res1)\n",
        "\n",
        "y_pred1 = svm.predict(X_test1)\n",
        "\n",
        "cm = confusion_matrix(y_pred1, y_test1)\n",
        "print(\"Confusion Matrix:\\n\", cm)\n",
        "\n",
        "print(classification_report(y_test1, y_pred1))"
      ],
      "metadata": {
        "colab": {
          "base_uri": "https://localhost:8080/"
        },
        "outputId": "a90837c2-1f9f-4adc-e4b1-729d80661273",
        "id": "PVQE85Ri-VZS"
      },
      "execution_count": null,
      "outputs": [
        {
          "output_type": "stream",
          "name": "stdout",
          "text": [
            "Confusion Matrix:\n",
            " [[12654   484]\n",
            " [ 2389   916]]\n",
            "              precision    recall  f1-score   support\n",
            "\n",
            "           0       0.96      0.84      0.90     15043\n",
            "           1       0.28      0.65      0.39      1400\n",
            "\n",
            "    accuracy                           0.83     16443\n",
            "   macro avg       0.62      0.75      0.64     16443\n",
            "weighted avg       0.90      0.83      0.85     16443\n",
            "\n"
          ]
        }
      ]
    },
    {
      "cell_type": "code",
      "source": [
        "svm = SVC(kernel='rbf',C=100,gamma=0.1)\n",
        "\n",
        "svm.fit(X_res2,y_res2)\n",
        "\n",
        "y_pred2 = svm.predict(X_test2)\n",
        "\n",
        "cm = confusion_matrix(y_pred2, y_test2)\n",
        "print(\"Confusion Matrix:\\n\", cm)\n",
        "\n",
        "print(classification_report(y_test2, y_pred2))"
      ],
      "metadata": {
        "colab": {
          "base_uri": "https://localhost:8080/"
        },
        "outputId": "44c6634b-6a1f-46a1-b6a1-e1a4aee21179",
        "id": "-nDwsMMgqEeb"
      },
      "execution_count": null,
      "outputs": [
        {
          "output_type": "stream",
          "name": "stdout",
          "text": [
            "Confusion Matrix:\n",
            " [[11559   270]\n",
            " [ 3484  1130]]\n",
            "              precision    recall  f1-score   support\n",
            "\n",
            "           0       0.98      0.77      0.86     15043\n",
            "           1       0.24      0.81      0.38      1400\n",
            "\n",
            "    accuracy                           0.77     16443\n",
            "   macro avg       0.61      0.79      0.62     16443\n",
            "weighted avg       0.91      0.77      0.82     16443\n",
            "\n"
          ]
        }
      ]
    },
    {
      "cell_type": "code",
      "source": [
        "svm = SVC(kernel='rbf',C=100,gamma=0.1)\n",
        "\n",
        "svm.fit(X_res3,y_res3)\n",
        "\n",
        "y_pred3 = svm.predict(X_test3)\n",
        "\n",
        "cm = confusion_matrix(y_pred3, y_test3)\n",
        "print(\"Confusion Matrix:\\n\", cm)\n",
        "\n",
        "print(classification_report(y_test3, y_pred3))"
      ],
      "metadata": {
        "colab": {
          "base_uri": "https://localhost:8080/"
        },
        "outputId": "bbd95154-da3e-407d-f02e-c94bf4b4adca",
        "id": "nbyBZMpUqEed"
      },
      "execution_count": null,
      "outputs": [
        {
          "output_type": "stream",
          "name": "stdout",
          "text": [
            "Confusion Matrix:\n",
            " [[12366   428]\n",
            " [ 2677   972]]\n",
            "              precision    recall  f1-score   support\n",
            "\n",
            "           0       0.97      0.82      0.89     15043\n",
            "           1       0.27      0.69      0.39      1400\n",
            "\n",
            "    accuracy                           0.81     16443\n",
            "   macro avg       0.62      0.76      0.64     16443\n",
            "weighted avg       0.91      0.81      0.85     16443\n",
            "\n"
          ]
        }
      ]
    },
    {
      "cell_type": "code",
      "source": [
        "svm = SVC(kernel='rbf',C=100,gamma=0.1)\n",
        "\n",
        "svm.fit(X_res4,y_res4)\n",
        "\n",
        "y_pred4 = svm.predict(X_test4)\n",
        "\n",
        "cm = confusion_matrix(y_pred4, y_test4)\n",
        "print(\"Confusion Matrix:\\n\", cm)\n",
        "\n",
        "print(classification_report(y_test4, y_pred4))"
      ],
      "metadata": {
        "colab": {
          "base_uri": "https://localhost:8080/"
        },
        "outputId": "a287b39f-85b1-4e51-f50f-012ac8cd69b5",
        "id": "D3Tn-PZpqEee"
      },
      "execution_count": null,
      "outputs": [
        {
          "output_type": "stream",
          "name": "stdout",
          "text": [
            "Confusion Matrix:\n",
            " [[10669   187]\n",
            " [ 4374  1213]]\n",
            "              precision    recall  f1-score   support\n",
            "\n",
            "           0       0.98      0.71      0.82     15043\n",
            "           1       0.22      0.87      0.35      1400\n",
            "\n",
            "    accuracy                           0.72     16443\n",
            "   macro avg       0.60      0.79      0.59     16443\n",
            "weighted avg       0.92      0.72      0.78     16443\n",
            "\n"
          ]
        }
      ]
    },
    {
      "cell_type": "markdown",
      "source": [
        "##SVM 4x with RUS"
      ],
      "metadata": {
        "id": "tZ1PF95XsojX"
      }
    },
    {
      "cell_type": "code",
      "source": [
        "from sklearn.svm import SVC"
      ],
      "metadata": {
        "id": "fOCoPwfpswM5"
      },
      "execution_count": null,
      "outputs": []
    },
    {
      "cell_type": "code",
      "source": [
        "from imblearn.under_sampling import RandomUnderSampler\n",
        "\n",
        "rus = RandomUnderSampler(random_state=43)\n",
        "X_res1, y_res1 = rus.fit_resample(X_train1,y_train1)\n",
        "\n",
        "X_res1 = pd.DataFrame(X_res1)\n",
        "#y_res1 = pd.DataFrame(y_res1)\n",
        "\n",
        "rus = RandomUnderSampler(random_state=43)\n",
        "X_res2, y_res2 = rus.fit_resample(X_train2,y_train2)\n",
        "\n",
        "X_res2 = pd.DataFrame(X_res2)\n",
        "#y_res2 = pd.DataFrame(y_res2)\n",
        "\n",
        "rus = RandomUnderSampler(random_state=43)\n",
        "X_res3, y_res3 = rus.fit_resample(X_train3,y_train3)\n",
        "\n",
        "X_res3 = pd.DataFrame(X_res3)\n",
        "#y_res3 = pd.DataFrame(y_res3)\n",
        "\n",
        "rus = RandomUnderSampler(random_state=43)\n",
        "X_res4, y_res4 = rus.fit_resample(X_train4,y_train4)\n",
        "\n",
        "X_res4 = pd.DataFrame(X_res4)\n",
        "#y_res4 = pd.DataFrame(y_res4)\n",
        "\n",
        "rus = RandomUnderSampler(random_state=43)\n",
        "X_res5, y_res5 = rus.fit_resample(X_train5,y_train5)\n",
        "\n",
        "X_res5 = pd.DataFrame(X_res5)\n",
        "#y_res5 = pd.DataFrame(y_res5)"
      ],
      "metadata": {
        "id": "fRkB-fjqsnzB"
      },
      "execution_count": null,
      "outputs": []
    },
    {
      "cell_type": "code",
      "source": [
        "svm = SVC(kernel='rbf',C=100,gamma=0.1)\n",
        "\n",
        "svm.fit(X_res1,y_res1)\n",
        "\n",
        "y_pred1 = svm.predict(X_test1)\n",
        "\n",
        "cm = confusion_matrix(y_pred1, y_test1)\n",
        "print(\"Confusion Matrix:\\n\", cm)\n",
        "\n",
        "print(classification_report(y_test1, y_pred1))"
      ],
      "metadata": {
        "colab": {
          "base_uri": "https://localhost:8080/"
        },
        "outputId": "85c7f049-7706-4567-a524-9a3462497fcc",
        "id": "8zsLFIr47gc9"
      },
      "execution_count": null,
      "outputs": [
        {
          "output_type": "stream",
          "name": "stdout",
          "text": [
            "Confusion Matrix:\n",
            " [[11053   222]\n",
            " [ 3990  1178]]\n",
            "              precision    recall  f1-score   support\n",
            "\n",
            "           0       0.98      0.73      0.84     15043\n",
            "           1       0.23      0.84      0.36      1400\n",
            "\n",
            "    accuracy                           0.74     16443\n",
            "   macro avg       0.60      0.79      0.60     16443\n",
            "weighted avg       0.92      0.74      0.80     16443\n",
            "\n"
          ]
        }
      ]
    },
    {
      "cell_type": "code",
      "source": [
        "svm = SVC(kernel='rbf',C=100,gamma=0.1)\n",
        "\n",
        "svm.fit(X_res2,y_res2)\n",
        "\n",
        "y_pred2 = svm.predict(X_test2)\n",
        "\n",
        "cm = confusion_matrix(y_pred2, y_test2)\n",
        "print(\"Confusion Matrix:\\n\", cm)\n",
        "\n",
        "print(classification_report(y_test2, y_pred2))"
      ],
      "metadata": {
        "colab": {
          "base_uri": "https://localhost:8080/"
        },
        "outputId": "a49f91d1-0480-4b43-b96e-989bc2c0fa22",
        "id": "RAEYb4qPswNR"
      },
      "execution_count": null,
      "outputs": [
        {
          "output_type": "stream",
          "name": "stdout",
          "text": [
            "Confusion Matrix:\n",
            " [[10732   150]\n",
            " [ 4311  1250]]\n",
            "              precision    recall  f1-score   support\n",
            "\n",
            "           0       0.99      0.71      0.83     15043\n",
            "           1       0.22      0.89      0.36      1400\n",
            "\n",
            "    accuracy                           0.73     16443\n",
            "   macro avg       0.61      0.80      0.59     16443\n",
            "weighted avg       0.92      0.73      0.79     16443\n",
            "\n"
          ]
        }
      ]
    },
    {
      "cell_type": "code",
      "source": [
        "svm = SVC(kernel='rbf',C=100,gamma=0.1)\n",
        "\n",
        "svm.fit(X_res3,y_res3)\n",
        "\n",
        "y_pred3 = svm.predict(X_test3)\n",
        "\n",
        "cm = confusion_matrix(y_pred3, y_test3)\n",
        "print(\"Confusion Matrix:\\n\", cm)\n",
        "\n",
        "print(classification_report(y_test3, y_pred3))"
      ],
      "metadata": {
        "colab": {
          "base_uri": "https://localhost:8080/"
        },
        "outputId": "afb9fd74-17d4-4720-a571-9149b3014c9d",
        "id": "LmSzCGLeswNS"
      },
      "execution_count": null,
      "outputs": [
        {
          "output_type": "stream",
          "name": "stdout",
          "text": [
            "Confusion Matrix:\n",
            " [[10866   177]\n",
            " [ 4177  1223]]\n",
            "              precision    recall  f1-score   support\n",
            "\n",
            "           0       0.98      0.72      0.83     15043\n",
            "           1       0.23      0.87      0.36      1400\n",
            "\n",
            "    accuracy                           0.74     16443\n",
            "   macro avg       0.61      0.80      0.60     16443\n",
            "weighted avg       0.92      0.74      0.79     16443\n",
            "\n"
          ]
        }
      ]
    },
    {
      "cell_type": "code",
      "source": [
        "svm = SVC(kernel='rbf',C=100,gamma=0.1)\n",
        "\n",
        "svm.fit(X_res4,y_res4)\n",
        "\n",
        "y_pred4 = svm.predict(X_test4)\n",
        "\n",
        "cm = confusion_matrix(y_pred4, y_test4)\n",
        "print(\"Confusion Matrix:\\n\", cm)\n",
        "\n",
        "print(classification_report(y_test4, y_pred4))"
      ],
      "metadata": {
        "colab": {
          "base_uri": "https://localhost:8080/"
        },
        "outputId": "0567d80e-c3b9-4ea9-bca5-d4f6fe0afa18",
        "id": "7lZU2sRcswNS"
      },
      "execution_count": null,
      "outputs": [
        {
          "output_type": "stream",
          "name": "stdout",
          "text": [
            "Confusion Matrix:\n",
            " [[10291    86]\n",
            " [ 4752  1314]]\n",
            "              precision    recall  f1-score   support\n",
            "\n",
            "           0       0.99      0.68      0.81     15043\n",
            "           1       0.22      0.94      0.35      1400\n",
            "\n",
            "    accuracy                           0.71     16443\n",
            "   macro avg       0.60      0.81      0.58     16443\n",
            "weighted avg       0.93      0.71      0.77     16443\n",
            "\n"
          ]
        }
      ]
    },
    {
      "cell_type": "markdown",
      "source": [
        "##SVM 4x with NCR US"
      ],
      "metadata": {
        "id": "NKiQvY6_1d6T"
      }
    },
    {
      "cell_type": "code",
      "source": [
        "from sklearn.svm import SVC"
      ],
      "metadata": {
        "id": "r0fZR2Gv1k3E"
      },
      "execution_count": null,
      "outputs": []
    },
    {
      "cell_type": "code",
      "source": [
        "from imblearn.under_sampling import NeighbourhoodCleaningRule\n",
        "\n",
        "ncr = NeighbourhoodCleaningRule(n_neighbors=3)\n",
        "X_res1, y_res1 = ncr.fit_resample(X_train1,y_train1)\n",
        "\n",
        "X_res1 = pd.DataFrame(X_res1)\n",
        "#y_res1 = pd.DataFrame(y_res1)\n",
        "\n",
        "ncr = NeighbourhoodCleaningRule(n_neighbors=3)\n",
        "X_res2, y_res2 = ncr.fit_resample(X_train2,y_train2)\n",
        "\n",
        "X_res2 = pd.DataFrame(X_res2)\n",
        "#y_res2 = pd.DataFrame(y_res2)\n",
        "\n",
        "ncr = NeighbourhoodCleaningRule(n_neighbors=3)\n",
        "X_res3, y_res3 = ncr.fit_resample(X_train3,y_train3)\n",
        "\n",
        "X_res3 = pd.DataFrame(X_res3)\n",
        "#y_res3 = pd.DataFrame(y_res3)\n",
        "\n",
        "ncr = NeighbourhoodCleaningRule(n_neighbors=5)\n",
        "X_res4, y_res4 = ncr.fit_resample(X_train4,y_train4)\n",
        "\n",
        "X_res4 = pd.DataFrame(X_res4)\n",
        "#y_res4 = pd.DataFrame(y_res4)\n",
        "\n",
        "#ncr = NeighbourhoodCleaningRule(n_neighbors=3)\n",
        "#X_res5, y_res5 = ncr.fit_resample(X_train5,y_train5)\n",
        "\n",
        "#X_res5 = pd.DataFrame(X_res5)\n",
        "#y_res5 = pd.DataFrame(y_res5)"
      ],
      "metadata": {
        "id": "C7bhuR5k1dGs"
      },
      "execution_count": null,
      "outputs": []
    },
    {
      "cell_type": "code",
      "source": [
        "svm = SVC(kernel='rbf',C=100,gamma=0.1)\n",
        "\n",
        "svm.fit(X_res1,y_res1)\n",
        "\n",
        "y_pred1 = svm.predict(X_test1)\n",
        "\n",
        "cm = confusion_matrix(y_pred1, y_test1)\n",
        "print(\"Confusion Matrix:\\n\", cm)\n",
        "\n",
        "print(classification_report(y_test1, y_pred1))"
      ],
      "metadata": {
        "colab": {
          "base_uri": "https://localhost:8080/"
        },
        "outputId": "e9365ac9-8cab-4b90-a0fb-49481174c4c4",
        "id": "Q7ZONSwe7UIC"
      },
      "execution_count": null,
      "outputs": [
        {
          "output_type": "stream",
          "name": "stdout",
          "text": [
            "Confusion Matrix:\n",
            " [[14465   815]\n",
            " [  578   585]]\n",
            "              precision    recall  f1-score   support\n",
            "\n",
            "           0       0.95      0.96      0.95     15043\n",
            "           1       0.50      0.42      0.46      1400\n",
            "\n",
            "    accuracy                           0.92     16443\n",
            "   macro avg       0.72      0.69      0.71     16443\n",
            "weighted avg       0.91      0.92      0.91     16443\n",
            "\n"
          ]
        }
      ]
    },
    {
      "cell_type": "code",
      "source": [
        "svm = SVC(kernel='rbf',C=100,gamma=0.1)\n",
        "\n",
        "svm.fit(X_res2,y_res2)\n",
        "\n",
        "y_pred2 = svm.predict(X_test2)\n",
        "\n",
        "cm = confusion_matrix(y_pred2, y_test2)\n",
        "print(\"Confusion Matrix:\\n\", cm)\n",
        "\n",
        "print(classification_report(y_test2, y_pred2))"
      ],
      "metadata": {
        "colab": {
          "base_uri": "https://localhost:8080/"
        },
        "outputId": "c75a9189-bac2-42b1-a264-fb84698fad08",
        "id": "ao6_YkBs1k3o"
      },
      "execution_count": null,
      "outputs": [
        {
          "output_type": "stream",
          "name": "stdout",
          "text": [
            "Confusion Matrix:\n",
            " [[14664   867]\n",
            " [  379   533]]\n",
            "              precision    recall  f1-score   support\n",
            "\n",
            "           0       0.94      0.97      0.96     15043\n",
            "           1       0.58      0.38      0.46      1400\n",
            "\n",
            "    accuracy                           0.92     16443\n",
            "   macro avg       0.76      0.68      0.71     16443\n",
            "weighted avg       0.91      0.92      0.92     16443\n",
            "\n"
          ]
        }
      ]
    },
    {
      "cell_type": "code",
      "source": [
        "svm = SVC(kernel='rbf',C=100,gamma=0.1)\n",
        "\n",
        "svm.fit(X_res3,y_res3)\n",
        "\n",
        "y_pred3 = svm.predict(X_test3)\n",
        "\n",
        "cm = confusion_matrix(y_pred3, y_test3)\n",
        "print(\"Confusion Matrix:\\n\", cm)\n",
        "\n",
        "print(classification_report(y_test3, y_pred3))"
      ],
      "metadata": {
        "colab": {
          "base_uri": "https://localhost:8080/"
        },
        "outputId": "63a2cd86-da32-41e8-de6f-bda17001744f",
        "id": "YsHaBg_Y1k3q"
      },
      "execution_count": null,
      "outputs": [
        {
          "output_type": "stream",
          "name": "stdout",
          "text": [
            "Confusion Matrix:\n",
            " [[14528   842]\n",
            " [  515   558]]\n",
            "              precision    recall  f1-score   support\n",
            "\n",
            "           0       0.95      0.97      0.96     15043\n",
            "           1       0.52      0.40      0.45      1400\n",
            "\n",
            "    accuracy                           0.92     16443\n",
            "   macro avg       0.73      0.68      0.70     16443\n",
            "weighted avg       0.91      0.92      0.91     16443\n",
            "\n"
          ]
        }
      ]
    },
    {
      "cell_type": "code",
      "source": [
        "svm = SVC(kernel='rbf',C=100,gamma=0.1)\n",
        "\n",
        "svm.fit(X_res4,y_res4)\n",
        "\n",
        "y_pred4 = svm.predict(X_test4)\n",
        "\n",
        "cm = confusion_matrix(y_pred4, y_test4)\n",
        "print(\"Confusion Matrix:\\n\", cm)\n",
        "\n",
        "print(classification_report(y_test4, y_pred4))\n",
        "import plotly.express as px\n",
        "fig = px.imshow(cm, text_auto=True, title='SVM / NCR Undersampling / Feature Variation 4')\n",
        "fig.update_layout(xaxis_title=\"Actual\", yaxis_title=\"Predicted\")"
      ],
      "metadata": {
        "colab": {
          "base_uri": "https://localhost:8080/",
          "height": 750
        },
        "outputId": "d1c8e27e-30f3-479b-db21-19f2d2d60403",
        "id": "buT-jVHy1k3q"
      },
      "execution_count": null,
      "outputs": [
        {
          "output_type": "stream",
          "name": "stdout",
          "text": [
            "Confusion Matrix:\n",
            " [[14660   835]\n",
            " [  383   565]]\n",
            "              precision    recall  f1-score   support\n",
            "\n",
            "           0       0.95      0.97      0.96     15043\n",
            "           1       0.60      0.40      0.48      1400\n",
            "\n",
            "    accuracy                           0.93     16443\n",
            "   macro avg       0.77      0.69      0.72     16443\n",
            "weighted avg       0.92      0.93      0.92     16443\n",
            "\n"
          ]
        },
        {
          "output_type": "display_data",
          "data": {
            "text/html": [
              "<html>\n",
              "<head><meta charset=\"utf-8\" /></head>\n",
              "<body>\n",
              "    <div>            <script src=\"https://cdnjs.cloudflare.com/ajax/libs/mathjax/2.7.5/MathJax.js?config=TeX-AMS-MML_SVG\"></script><script type=\"text/javascript\">if (window.MathJax && window.MathJax.Hub && window.MathJax.Hub.Config) {window.MathJax.Hub.Config({SVG: {font: \"STIX-Web\"}});}</script>                <script type=\"text/javascript\">window.PlotlyConfig = {MathJaxConfig: 'local'};</script>\n",
              "        <script charset=\"utf-8\" src=\"https://cdn.plot.ly/plotly-2.24.1.min.js\"></script>                <div id=\"2fdabfe7-ec3f-44c9-95bf-608778e3a192\" class=\"plotly-graph-div\" style=\"height:525px; width:100%;\"></div>            <script type=\"text/javascript\">                                    window.PLOTLYENV=window.PLOTLYENV || {};                                    if (document.getElementById(\"2fdabfe7-ec3f-44c9-95bf-608778e3a192\")) {                    Plotly.newPlot(                        \"2fdabfe7-ec3f-44c9-95bf-608778e3a192\",                        [{\"coloraxis\":\"coloraxis\",\"name\":\"0\",\"texttemplate\":\"%{z}\",\"z\":[[14660,835],[383,565]],\"type\":\"heatmap\",\"xaxis\":\"x\",\"yaxis\":\"y\",\"hovertemplate\":\"x: %{x}\\u003cbr\\u003ey: %{y}\\u003cbr\\u003ecolor: %{z}\\u003cextra\\u003e\\u003c\\u002fextra\\u003e\"}],                        {\"template\":{\"data\":{\"histogram2dcontour\":[{\"type\":\"histogram2dcontour\",\"colorbar\":{\"outlinewidth\":0,\"ticks\":\"\"},\"colorscale\":[[0.0,\"#0d0887\"],[0.1111111111111111,\"#46039f\"],[0.2222222222222222,\"#7201a8\"],[0.3333333333333333,\"#9c179e\"],[0.4444444444444444,\"#bd3786\"],[0.5555555555555556,\"#d8576b\"],[0.6666666666666666,\"#ed7953\"],[0.7777777777777778,\"#fb9f3a\"],[0.8888888888888888,\"#fdca26\"],[1.0,\"#f0f921\"]]}],\"choropleth\":[{\"type\":\"choropleth\",\"colorbar\":{\"outlinewidth\":0,\"ticks\":\"\"}}],\"histogram2d\":[{\"type\":\"histogram2d\",\"colorbar\":{\"outlinewidth\":0,\"ticks\":\"\"},\"colorscale\":[[0.0,\"#0d0887\"],[0.1111111111111111,\"#46039f\"],[0.2222222222222222,\"#7201a8\"],[0.3333333333333333,\"#9c179e\"],[0.4444444444444444,\"#bd3786\"],[0.5555555555555556,\"#d8576b\"],[0.6666666666666666,\"#ed7953\"],[0.7777777777777778,\"#fb9f3a\"],[0.8888888888888888,\"#fdca26\"],[1.0,\"#f0f921\"]]}],\"heatmap\":[{\"type\":\"heatmap\",\"colorbar\":{\"outlinewidth\":0,\"ticks\":\"\"},\"colorscale\":[[0.0,\"#0d0887\"],[0.1111111111111111,\"#46039f\"],[0.2222222222222222,\"#7201a8\"],[0.3333333333333333,\"#9c179e\"],[0.4444444444444444,\"#bd3786\"],[0.5555555555555556,\"#d8576b\"],[0.6666666666666666,\"#ed7953\"],[0.7777777777777778,\"#fb9f3a\"],[0.8888888888888888,\"#fdca26\"],[1.0,\"#f0f921\"]]}],\"heatmapgl\":[{\"type\":\"heatmapgl\",\"colorbar\":{\"outlinewidth\":0,\"ticks\":\"\"},\"colorscale\":[[0.0,\"#0d0887\"],[0.1111111111111111,\"#46039f\"],[0.2222222222222222,\"#7201a8\"],[0.3333333333333333,\"#9c179e\"],[0.4444444444444444,\"#bd3786\"],[0.5555555555555556,\"#d8576b\"],[0.6666666666666666,\"#ed7953\"],[0.7777777777777778,\"#fb9f3a\"],[0.8888888888888888,\"#fdca26\"],[1.0,\"#f0f921\"]]}],\"contourcarpet\":[{\"type\":\"contourcarpet\",\"colorbar\":{\"outlinewidth\":0,\"ticks\":\"\"}}],\"contour\":[{\"type\":\"contour\",\"colorbar\":{\"outlinewidth\":0,\"ticks\":\"\"},\"colorscale\":[[0.0,\"#0d0887\"],[0.1111111111111111,\"#46039f\"],[0.2222222222222222,\"#7201a8\"],[0.3333333333333333,\"#9c179e\"],[0.4444444444444444,\"#bd3786\"],[0.5555555555555556,\"#d8576b\"],[0.6666666666666666,\"#ed7953\"],[0.7777777777777778,\"#fb9f3a\"],[0.8888888888888888,\"#fdca26\"],[1.0,\"#f0f921\"]]}],\"surface\":[{\"type\":\"surface\",\"colorbar\":{\"outlinewidth\":0,\"ticks\":\"\"},\"colorscale\":[[0.0,\"#0d0887\"],[0.1111111111111111,\"#46039f\"],[0.2222222222222222,\"#7201a8\"],[0.3333333333333333,\"#9c179e\"],[0.4444444444444444,\"#bd3786\"],[0.5555555555555556,\"#d8576b\"],[0.6666666666666666,\"#ed7953\"],[0.7777777777777778,\"#fb9f3a\"],[0.8888888888888888,\"#fdca26\"],[1.0,\"#f0f921\"]]}],\"mesh3d\":[{\"type\":\"mesh3d\",\"colorbar\":{\"outlinewidth\":0,\"ticks\":\"\"}}],\"scatter\":[{\"fillpattern\":{\"fillmode\":\"overlay\",\"size\":10,\"solidity\":0.2},\"type\":\"scatter\"}],\"parcoords\":[{\"type\":\"parcoords\",\"line\":{\"colorbar\":{\"outlinewidth\":0,\"ticks\":\"\"}}}],\"scatterpolargl\":[{\"type\":\"scatterpolargl\",\"marker\":{\"colorbar\":{\"outlinewidth\":0,\"ticks\":\"\"}}}],\"bar\":[{\"error_x\":{\"color\":\"#2a3f5f\"},\"error_y\":{\"color\":\"#2a3f5f\"},\"marker\":{\"line\":{\"color\":\"#E5ECF6\",\"width\":0.5},\"pattern\":{\"fillmode\":\"overlay\",\"size\":10,\"solidity\":0.2}},\"type\":\"bar\"}],\"scattergeo\":[{\"type\":\"scattergeo\",\"marker\":{\"colorbar\":{\"outlinewidth\":0,\"ticks\":\"\"}}}],\"scatterpolar\":[{\"type\":\"scatterpolar\",\"marker\":{\"colorbar\":{\"outlinewidth\":0,\"ticks\":\"\"}}}],\"histogram\":[{\"marker\":{\"pattern\":{\"fillmode\":\"overlay\",\"size\":10,\"solidity\":0.2}},\"type\":\"histogram\"}],\"scattergl\":[{\"type\":\"scattergl\",\"marker\":{\"colorbar\":{\"outlinewidth\":0,\"ticks\":\"\"}}}],\"scatter3d\":[{\"type\":\"scatter3d\",\"line\":{\"colorbar\":{\"outlinewidth\":0,\"ticks\":\"\"}},\"marker\":{\"colorbar\":{\"outlinewidth\":0,\"ticks\":\"\"}}}],\"scattermapbox\":[{\"type\":\"scattermapbox\",\"marker\":{\"colorbar\":{\"outlinewidth\":0,\"ticks\":\"\"}}}],\"scatterternary\":[{\"type\":\"scatterternary\",\"marker\":{\"colorbar\":{\"outlinewidth\":0,\"ticks\":\"\"}}}],\"scattercarpet\":[{\"type\":\"scattercarpet\",\"marker\":{\"colorbar\":{\"outlinewidth\":0,\"ticks\":\"\"}}}],\"carpet\":[{\"aaxis\":{\"endlinecolor\":\"#2a3f5f\",\"gridcolor\":\"white\",\"linecolor\":\"white\",\"minorgridcolor\":\"white\",\"startlinecolor\":\"#2a3f5f\"},\"baxis\":{\"endlinecolor\":\"#2a3f5f\",\"gridcolor\":\"white\",\"linecolor\":\"white\",\"minorgridcolor\":\"white\",\"startlinecolor\":\"#2a3f5f\"},\"type\":\"carpet\"}],\"table\":[{\"cells\":{\"fill\":{\"color\":\"#EBF0F8\"},\"line\":{\"color\":\"white\"}},\"header\":{\"fill\":{\"color\":\"#C8D4E3\"},\"line\":{\"color\":\"white\"}},\"type\":\"table\"}],\"barpolar\":[{\"marker\":{\"line\":{\"color\":\"#E5ECF6\",\"width\":0.5},\"pattern\":{\"fillmode\":\"overlay\",\"size\":10,\"solidity\":0.2}},\"type\":\"barpolar\"}],\"pie\":[{\"automargin\":true,\"type\":\"pie\"}]},\"layout\":{\"autotypenumbers\":\"strict\",\"colorway\":[\"#636efa\",\"#EF553B\",\"#00cc96\",\"#ab63fa\",\"#FFA15A\",\"#19d3f3\",\"#FF6692\",\"#B6E880\",\"#FF97FF\",\"#FECB52\"],\"font\":{\"color\":\"#2a3f5f\"},\"hovermode\":\"closest\",\"hoverlabel\":{\"align\":\"left\"},\"paper_bgcolor\":\"white\",\"plot_bgcolor\":\"#E5ECF6\",\"polar\":{\"bgcolor\":\"#E5ECF6\",\"angularaxis\":{\"gridcolor\":\"white\",\"linecolor\":\"white\",\"ticks\":\"\"},\"radialaxis\":{\"gridcolor\":\"white\",\"linecolor\":\"white\",\"ticks\":\"\"}},\"ternary\":{\"bgcolor\":\"#E5ECF6\",\"aaxis\":{\"gridcolor\":\"white\",\"linecolor\":\"white\",\"ticks\":\"\"},\"baxis\":{\"gridcolor\":\"white\",\"linecolor\":\"white\",\"ticks\":\"\"},\"caxis\":{\"gridcolor\":\"white\",\"linecolor\":\"white\",\"ticks\":\"\"}},\"coloraxis\":{\"colorbar\":{\"outlinewidth\":0,\"ticks\":\"\"}},\"colorscale\":{\"sequential\":[[0.0,\"#0d0887\"],[0.1111111111111111,\"#46039f\"],[0.2222222222222222,\"#7201a8\"],[0.3333333333333333,\"#9c179e\"],[0.4444444444444444,\"#bd3786\"],[0.5555555555555556,\"#d8576b\"],[0.6666666666666666,\"#ed7953\"],[0.7777777777777778,\"#fb9f3a\"],[0.8888888888888888,\"#fdca26\"],[1.0,\"#f0f921\"]],\"sequentialminus\":[[0.0,\"#0d0887\"],[0.1111111111111111,\"#46039f\"],[0.2222222222222222,\"#7201a8\"],[0.3333333333333333,\"#9c179e\"],[0.4444444444444444,\"#bd3786\"],[0.5555555555555556,\"#d8576b\"],[0.6666666666666666,\"#ed7953\"],[0.7777777777777778,\"#fb9f3a\"],[0.8888888888888888,\"#fdca26\"],[1.0,\"#f0f921\"]],\"diverging\":[[0,\"#8e0152\"],[0.1,\"#c51b7d\"],[0.2,\"#de77ae\"],[0.3,\"#f1b6da\"],[0.4,\"#fde0ef\"],[0.5,\"#f7f7f7\"],[0.6,\"#e6f5d0\"],[0.7,\"#b8e186\"],[0.8,\"#7fbc41\"],[0.9,\"#4d9221\"],[1,\"#276419\"]]},\"xaxis\":{\"gridcolor\":\"white\",\"linecolor\":\"white\",\"ticks\":\"\",\"title\":{\"standoff\":15},\"zerolinecolor\":\"white\",\"automargin\":true,\"zerolinewidth\":2},\"yaxis\":{\"gridcolor\":\"white\",\"linecolor\":\"white\",\"ticks\":\"\",\"title\":{\"standoff\":15},\"zerolinecolor\":\"white\",\"automargin\":true,\"zerolinewidth\":2},\"scene\":{\"xaxis\":{\"backgroundcolor\":\"#E5ECF6\",\"gridcolor\":\"white\",\"linecolor\":\"white\",\"showbackground\":true,\"ticks\":\"\",\"zerolinecolor\":\"white\",\"gridwidth\":2},\"yaxis\":{\"backgroundcolor\":\"#E5ECF6\",\"gridcolor\":\"white\",\"linecolor\":\"white\",\"showbackground\":true,\"ticks\":\"\",\"zerolinecolor\":\"white\",\"gridwidth\":2},\"zaxis\":{\"backgroundcolor\":\"#E5ECF6\",\"gridcolor\":\"white\",\"linecolor\":\"white\",\"showbackground\":true,\"ticks\":\"\",\"zerolinecolor\":\"white\",\"gridwidth\":2}},\"shapedefaults\":{\"line\":{\"color\":\"#2a3f5f\"}},\"annotationdefaults\":{\"arrowcolor\":\"#2a3f5f\",\"arrowhead\":0,\"arrowwidth\":1},\"geo\":{\"bgcolor\":\"white\",\"landcolor\":\"#E5ECF6\",\"subunitcolor\":\"white\",\"showland\":true,\"showlakes\":true,\"lakecolor\":\"white\"},\"title\":{\"x\":0.05},\"mapbox\":{\"style\":\"light\"}}},\"xaxis\":{\"anchor\":\"y\",\"domain\":[0.0,1.0],\"scaleanchor\":\"y\",\"constrain\":\"domain\",\"title\":{\"text\":\"Actual\"}},\"yaxis\":{\"anchor\":\"x\",\"domain\":[0.0,1.0],\"autorange\":\"reversed\",\"constrain\":\"domain\",\"title\":{\"text\":\"Predicted\"}},\"coloraxis\":{\"colorscale\":[[0.0,\"#0d0887\"],[0.1111111111111111,\"#46039f\"],[0.2222222222222222,\"#7201a8\"],[0.3333333333333333,\"#9c179e\"],[0.4444444444444444,\"#bd3786\"],[0.5555555555555556,\"#d8576b\"],[0.6666666666666666,\"#ed7953\"],[0.7777777777777778,\"#fb9f3a\"],[0.8888888888888888,\"#fdca26\"],[1.0,\"#f0f921\"]]},\"title\":{\"text\":\"SVM \\u002f NCR Undersampling \\u002f Feature Variation 4\"}},                        {\"responsive\": true}                    ).then(function(){\n",
              "                            \n",
              "var gd = document.getElementById('2fdabfe7-ec3f-44c9-95bf-608778e3a192');\n",
              "var x = new MutationObserver(function (mutations, observer) {{\n",
              "        var display = window.getComputedStyle(gd).display;\n",
              "        if (!display || display === 'none') {{\n",
              "            console.log([gd, 'removed!']);\n",
              "            Plotly.purge(gd);\n",
              "            observer.disconnect();\n",
              "        }}\n",
              "}});\n",
              "\n",
              "// Listen for the removal of the full notebook cells\n",
              "var notebookContainer = gd.closest('#notebook-container');\n",
              "if (notebookContainer) {{\n",
              "    x.observe(notebookContainer, {childList: true});\n",
              "}}\n",
              "\n",
              "// Listen for the clearing of the current output cell\n",
              "var outputEl = gd.closest('.output');\n",
              "if (outputEl) {{\n",
              "    x.observe(outputEl, {childList: true});\n",
              "}}\n",
              "\n",
              "                        })                };                            </script>        </div>\n",
              "</body>\n",
              "</html>"
            ]
          },
          "metadata": {}
        }
      ]
    },
    {
      "cell_type": "code",
      "source": [],
      "metadata": {
        "id": "fUbpjhFOjjD_"
      },
      "execution_count": null,
      "outputs": []
    }
  ],
  "metadata": {
    "colab": {
      "provenance": []
    },
    "kernelspec": {
      "display_name": "Python 3",
      "name": "python3"
    },
    "language_info": {
      "name": "python"
    }
  },
  "nbformat": 4,
  "nbformat_minor": 0
}